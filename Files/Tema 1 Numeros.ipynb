{
 "cells": [
  {
   "cell_type": "code",
   "outputs": [],
   "source": [
    "from IPython.display import display,Math\n",
    "from collections import Counter"
   ],
   "metadata": {
    "collapsed": false,
    "ExecuteTime": {
     "end_time": "2024-01-12T11:04:31.290520600Z",
     "start_time": "2024-01-12T11:04:31.192010300Z"
    }
   },
   "id": "44fff5e417b1d6ab",
   "execution_count": 56
  },
  {
   "cell_type": "markdown",
   "source": [
    "# Tema 1: Números"
   ],
   "metadata": {
    "collapsed": false
   },
   "id": "42f47b604a34846a"
  },
  {
   "cell_type": "markdown",
   "source": [
    "## 1.1 Números Naturales\n",
    "Son los que nos permiten contar objetos (No se incluye el 0)"
   ],
   "metadata": {
    "collapsed": false
   },
   "id": "19ff78a90954a28b"
  },
  {
   "cell_type": "code",
   "outputs": [
    {
     "data": {
      "text/plain": "True"
     },
     "execution_count": 57,
     "metadata": {},
     "output_type": "execute_result"
    }
   ],
   "source": [
    "def esNatural(num):\n",
    "    nNaturales=[1,2,3,4,5,6,7,8,9]\n",
    "    esNatural=False\n",
    "    for nNatural in nNaturales:\n",
    "        if nNatural==num:\n",
    "            esNatural=True\n",
    "    return esNatural\n",
    "\n",
    "esNatural(1)"
   ],
   "metadata": {
    "collapsed": false,
    "ExecuteTime": {
     "end_time": "2024-01-12T11:04:31.351030700Z",
     "start_time": "2024-01-12T11:04:31.295522300Z"
    }
   },
   "id": "d66efa60fcd5dfe1",
   "execution_count": 57
  },
  {
   "cell_type": "markdown",
   "source": [
    "### Operaciones"
   ],
   "metadata": {
    "collapsed": false
   },
   "id": "c50dc9ac7fa7e7f5"
  },
  {
   "cell_type": "markdown",
   "source": [
    "#### Suma\n",
    "Es una operación que se representa con el signo $\\plus$ (se lee \"más\") interpuesto entre los dos números que se suman. Para indicar el resultado, se añade el signo = y finalmente el resultado de la suma.\n",
    "Los números que se suman se denominan **sumandos** y el resultado de la operación recibe el nombre de **suma**"
   ],
   "metadata": {
    "collapsed": false
   },
   "id": "ce861649c06c2355"
  },
  {
   "cell_type": "code",
   "outputs": [
    {
     "name": "stdout",
     "output_type": "stream",
     "text": [
      "19+12=31\n"
     ]
    }
   ],
   "source": [
    "nNatural1 =19\n",
    "nNatural2 =12\n",
    "\n",
    "print(f'%i+%i=%i'%(nNatural1,nNatural2,nNatural1+nNatural2))"
   ],
   "metadata": {
    "collapsed": false,
    "ExecuteTime": {
     "end_time": "2024-01-12T11:04:31.353030Z",
     "start_time": "2024-01-12T11:04:31.318032500Z"
    }
   },
   "id": "99001cedf7dd2e6b",
   "execution_count": 58
  },
  {
   "cell_type": "markdown",
   "source": [
    "#### Resta\n",
    "Es una operación que se representa con el signo - (se lee \"menos\") interpuesto entre los dos números que se quieren restar.\n",
    "El número anterior al signo − se denomina **minuendo**, el número que sigue al signo\n",
    "− se denomina **sustraendo** y el resultado del resto se denomina **diferencia**\n",
    "*La suma y la resta son operaciones opuestas*"
   ],
   "metadata": {
    "collapsed": false
   },
   "id": "be5220dd26e50356"
  },
  {
   "cell_type": "code",
   "outputs": [
    {
     "name": "stdout",
     "output_type": "stream",
     "text": [
      "19-12=7\n"
     ]
    }
   ],
   "source": [
    "nNatural1 =19\n",
    "nNatural2 =12\n",
    "\n",
    "print(f'%i-%i=%i'%(nNatural1,nNatural2,nNatural1-nNatural2))"
   ],
   "metadata": {
    "collapsed": false,
    "ExecuteTime": {
     "end_time": "2024-01-12T11:04:31.408544500Z",
     "start_time": "2024-01-12T11:04:31.332028500Z"
    }
   },
   "id": "8a4aa9084b4e3f44",
   "execution_count": 59
  },
  {
   "cell_type": "markdown",
   "source": [
    "#### Multiplicación\n",
    "Es una operación que se basa en la suma: la suma de varios sumandos iguales se transforma en una multiplicación del sumando por el\n",
    "número de veces que este se suma. El signo que se usa es ⋅ o bien $\\times$ (se lee \"por\").\n",
    "Los números multiplicados se denominan **factores**, y el resultado de la multiplicación\n",
    "se denomina **producto**"
   ],
   "metadata": {
    "collapsed": false
   },
   "id": "2ae87305f32c8543"
  },
  {
   "cell_type": "code",
   "outputs": [
    {
     "name": "stdout",
     "output_type": "stream",
     "text": [
      "Sumamos 7, 3 veces: 7+7+7 = 21\n",
      "7x3=21\n"
     ]
    }
   ],
   "source": [
    "sumando = 7\n",
    "veces = 3\n",
    "\n",
    "multiplicación = sumando*veces\n",
    "\n",
    "print(f'Sumamos %i, %i veces: %i+%i+%i = %i'%(sumando,veces,sumando,sumando,sumando,sumando+sumando+sumando))\n",
    "print(f'%ix%i=%i'%(sumando,veces,multiplicación))"
   ],
   "metadata": {
    "collapsed": false,
    "ExecuteTime": {
     "end_time": "2024-01-12T11:04:31.414541900Z",
     "start_time": "2024-01-12T11:04:31.351030700Z"
    }
   },
   "id": "5da6b075a651a67b",
   "execution_count": 60
  },
  {
   "cell_type": "markdown",
   "source": [
    "#### División\n",
    "El signo que se usa es ∶ o bien /. Este signo se lee \"entre\".\n",
    "El número dividido se denomina **dividendo**, el número que divide se denomina **divisor** y el resultado se denomina **cociente**.\n",
    "*Esta operación es opuesta al producto, y esto nos permite encontrar el resultado de\n",
    "cualquier división*"
   ],
   "metadata": {
    "collapsed": false
   },
   "id": "68c198bc123e22f"
  },
  {
   "cell_type": "code",
   "outputs": [
    {
     "name": "stdout",
     "output_type": "stream",
     "text": [
      "Si 7x3=21, Entonces 21/7=3, o 21/3=7\n"
     ]
    }
   ],
   "source": [
    "division = multiplicación/sumando\n",
    "print(f'Si %ix%i=%i, Entonces %i/%i=%i, o %i/%i=%i'%(sumando,veces,multiplicación,multiplicación,sumando,division,multiplicación,veces,multiplicación/veces))"
   ],
   "metadata": {
    "collapsed": false,
    "ExecuteTime": {
     "end_time": "2024-01-12T11:04:31.428543400Z",
     "start_time": "2024-01-12T11:04:31.365027500Z"
    }
   },
   "id": "d7210e1c71d3a550",
   "execution_count": 61
  },
  {
   "cell_type": "markdown",
   "source": [
    "##### Observaciones para la resta y la división. \n",
    "Hemos de tener en cuenta que la resta y la división de números naturales no siempre pueden hacerse con dos números\n",
    "naturales cualesquiera\n",
    "- El primer problema lo encontramos cuando queremos restar de un número otro mayor\n",
    "o igual.\n",
    "- Igualmente, el cociente entre dos números naturales tampoco es siempre un número\n",
    "natural. En estos casos se aplicara la regla queneral de la división\n",
    "$dividendo = divisor⋅ cociente + residuo $ o su forma abreviada $D = d ⋅ q + r$"
   ],
   "metadata": {
    "collapsed": false
   },
   "id": "a6efd8468d9e5414"
  },
  {
   "cell_type": "code",
   "outputs": [
    {
     "name": "stdout",
     "output_type": "stream",
     "text": [
      "Regla general de la división: 13 = 5 ⋅ 2 + 3\n"
     ]
    }
   ],
   "source": [
    "dividendo = 13\n",
    "divisor = 5\n",
    "cociente = dividendo//divisor # cociente entero\n",
    "resto = dividendo%divisor\n",
    "print(f'Regla general de la división: {dividendo} = {divisor} ⋅ {cociente} + {resto}')"
   ],
   "metadata": {
    "collapsed": false,
    "ExecuteTime": {
     "end_time": "2024-01-12T11:04:31.483542700Z",
     "start_time": "2024-01-12T11:04:31.415544100Z"
    }
   },
   "id": "22746d13e60b7264",
   "execution_count": 62
  },
  {
   "cell_type": "markdown",
   "source": [
    "#### Orden de operaciones\n",
    "1. Operaciones que se encuentran en el interior de los paréntesis: del más externo al\n",
    "más interno.\n",
    "2. Multiplicaciones y divisiones: las divisiones siempre antes que las multiplicaciones\n",
    "3. Sumas y restas: primero las restas y después las sumas"
   ],
   "metadata": {
    "collapsed": false
   },
   "id": "9ae4ee2c2e533d71"
  },
  {
   "cell_type": "markdown",
   "source": [
    "### Múltiplos y divisores\n",
    "Un número es **múltiplo** de otro si puede obtenerse multiplicándolo por otro número\n",
    "natural\n",
    "Cuando una división entre dos números naturales es exacta se dice que el dividendo es divisible por el divisor\n",
    "*Si a es múltiplo de b, entonces b es divisor de a y a es divisible p or b*"
   ],
   "metadata": {
    "collapsed": false
   },
   "id": "d591dc38f57b18d4"
  },
  {
   "cell_type": "code",
   "outputs": [
    {
     "name": "stdout",
     "output_type": "stream",
     "text": [
      "El 4 es divisible por 2\n"
     ]
    }
   ],
   "source": [
    "def esdivisible (dividendo, divisor):\n",
    "    '''\n",
    "    :param dividendo: \n",
    "    :param divisor: \n",
    "    :return: Cadena que expresa si el dividendo es divisible o no por el divisor\n",
    "    '''\n",
    "    \n",
    "    if dividendo % divisor == 0:\n",
    "        resultado= f'El {dividendo} es divisible por {divisor}'\n",
    "    else:\n",
    "        resultado= f'El {dividendo} no es divisible por {divisor}'\n",
    "        \n",
    "    return resultado\n",
    "\n",
    "print(esdivisible(4,2))"
   ],
   "metadata": {
    "collapsed": false,
    "ExecuteTime": {
     "end_time": "2024-01-12T11:04:31.561056100Z",
     "start_time": "2024-01-12T11:04:31.487550700Z"
    }
   },
   "id": "44c092c71c96ffda",
   "execution_count": 63
  },
  {
   "cell_type": "markdown",
   "source": [
    "#### Propiedades\n",
    "- Cualquier número natural es divisor (y múltiplo) de sí mismo: $a|a$ por cualquier número a. Es la propiedad **reflexiva**.\n",
    "- Si un número es divisor de otro y este es divisor de un tercero, entonces el primer número también es divisor del tercero (pasa lo mismo en el caso de ser múltiplo),es decir, si $a|b$ y $b|c$ entonces tendremos seguro que $a|c$. Es la propiedad **transitiva**.\n",
    "- Si un número es divisor de otro y este lo es del primero, entonces ambos números son el mismo número (lo mismo puede decirse en el caso de ser múltiplo), es decir, si $a|b$ y $b|a$ entonces, a la fuerza, a = b. Esta es la propiedad **antisimétrica**."
   ],
   "metadata": {
    "collapsed": false
   },
   "id": "b5edd401b7e659ed"
  },
  {
   "cell_type": "code",
   "outputs": [
    {
     "name": "stdout",
     "output_type": "stream",
     "text": [
      "El 2 es divisible por 2\n",
      "Si El 4 es divisible por 2 y El 8 es divisible por 4 entonces El 8 es divisible por 2\n"
     ]
    }
   ],
   "source": [
    "# Primera propiedad\n",
    "print(esdivisible(2,2))\n",
    "\n",
    "# Segunda propiedad\n",
    "print(f'Si {esdivisible(4,2)} y {esdivisible(8,4)} entonces {esdivisible(8,2)}')"
   ],
   "metadata": {
    "collapsed": false,
    "ExecuteTime": {
     "end_time": "2024-01-12T11:04:31.582052800Z",
     "start_time": "2024-01-12T11:04:31.507054800Z"
    }
   },
   "id": "6df540496f15ba9f",
   "execution_count": 64
  },
  {
   "cell_type": "markdown",
   "source": [
    "##### Numeros Primos\n",
    "Se dice que un número natural es un **número primo** cuando los únicos divisores que tiene son el mismo número y el 1.\n",
    "Llamamos **números compuestos** a los que no son primos"
   ],
   "metadata": {
    "collapsed": false
   },
   "id": "5fa9b61d713ac5ca"
  },
  {
   "cell_type": "code",
   "outputs": [
    {
     "data": {
      "text/plain": "False"
     },
     "execution_count": 65,
     "metadata": {},
     "output_type": "execute_result"
    }
   ],
   "source": [
    "def numeroprimo(numero):\n",
    "    '''\n",
    "    Funcion que comprueba si el numero es primo, devolviendo un booleano como respuesta\n",
    "    :param numero: Numero que se desea comprobar\n",
    "    :return: True si el Numero es primo, False si no es primo\n",
    "    '''\n",
    "    \n",
    "    for divisor in range(2,numero):\n",
    "        if numero % divisor == 0:\n",
    "            return False\n",
    "    return True\n",
    "numeroprimo(4)"
   ],
   "metadata": {
    "collapsed": false,
    "ExecuteTime": {
     "end_time": "2024-01-12T11:04:31.597059Z",
     "start_time": "2024-01-12T11:04:31.524055Z"
    }
   },
   "id": "788d490bddd5298f",
   "execution_count": 65
  },
  {
   "cell_type": "markdown",
   "source": [],
   "metadata": {
    "collapsed": false
   },
   "id": "c3855327b5da7d97"
  },
  {
   "cell_type": "markdown",
   "source": [
    "##### Factorización. \n",
    "Factorizar un número es descomponerlo en factores primos."
   ],
   "metadata": {
    "collapsed": false
   },
   "id": "560b1d58038f0b17"
  },
  {
   "cell_type": "code",
   "outputs": [
    {
     "data": {
      "text/plain": "[2, 2, 25219]"
     },
     "execution_count": 66,
     "metadata": {},
     "output_type": "execute_result"
    }
   ],
   "source": [
    "def factorizar(numero):\n",
    "    '''\n",
    "    Funcion que devuelve una lista con los factores del numero que se le pasa por parametro\n",
    "    :param numero: Numero que se desea factorizar\n",
    "    :return: Lista con los factores del número, el 1 devuelve una lista vacia\n",
    "    '''\n",
    "    factores=[]\n",
    "    divisor = 2\n",
    "    while numero >=2:\n",
    "        if numero % divisor == 0:\n",
    "            factores.append(divisor)\n",
    "            numero=numero/divisor # Actualizamos el nuevo numero\n",
    "            divisor=2 # Reiniciamos el divisor\n",
    "        else:\n",
    "            divisor=divisor+1\n",
    "                \n",
    "    return factores\n",
    "\n",
    "Factores= factorizar(100876)\n",
    "Factores"
   ],
   "metadata": {
    "collapsed": false,
    "ExecuteTime": {
     "end_time": "2024-01-12T11:04:31.674571400Z",
     "start_time": "2024-01-12T11:04:31.571053800Z"
    }
   },
   "id": "96c2c1e5e9ae24cb",
   "execution_count": 66
  },
  {
   "cell_type": "code",
   "outputs": [],
   "source": [
    "# Para facilitar los calculos posteriores crearemos una funcion de factorización que devuelva los factores en un diccionario\n",
    "def factorizaciondict(numero):\n",
    "    '''\n",
    "    Funcion que devuelve un diccionario con los factores y las veces que aparece\n",
    "    :param numero: Numero que se desea factorizar\n",
    "    :return: Diccionario con los factores y las veces que aparece\n",
    "    '''\n",
    "    \n",
    "    factores=[]\n",
    "    factores_dict={}\n",
    "    divisor = 2\n",
    "    # Creamos la lista de los factores\n",
    "    while numero >=2:\n",
    "        if numero % divisor == 0:\n",
    "            factores.append(divisor)\n",
    "            numero=numero/divisor # Actualizamos el nuevo numero\n",
    "            divisor=2 # Reiniciamos el divisor\n",
    "        else:\n",
    "            divisor=divisor+1\n",
    "\n",
    "    # Creamos el diccionario con los factores (factor:veces que aparece)\n",
    "    for factor in factores:\n",
    "        if factor in factores_dict:\n",
    "            factores_dict[factor]=factores_dict[factor]+1\n",
    "        else:\n",
    "            factores_dict[factor]=1\n",
    "\n",
    "    return factores_dict"
   ],
   "metadata": {
    "collapsed": false,
    "ExecuteTime": {
     "end_time": "2024-01-12T11:04:31.758101100Z",
     "start_time": "2024-01-12T11:04:31.686581400Z"
    }
   },
   "id": "1b604fd50d5dbad2",
   "execution_count": 67
  },
  {
   "cell_type": "markdown",
   "source": [
    "##### Máximo común divisor (MCD)\n",
    "Es el número que cumple estos dos requisitos:\n",
    "1. Es un divisor común de ambos (o de todos los) números\n",
    "2. Es el mayor de estos divisores"
   ],
   "metadata": {
    "collapsed": false
   },
   "id": "8e3dd70055af2006"
  },
  {
   "cell_type": "code",
   "outputs": [
    {
     "data": {
      "text/plain": "14"
     },
     "execution_count": 71,
     "metadata": {},
     "output_type": "execute_result"
    }
   ],
   "source": [
    "def mcd(fact_num1,fact_num2):\n",
    "    res_mcd=1\n",
    "    \n",
    "    # Valores comunes, elegimos el de menor exponente\n",
    "    for valor in set(fact_num1).intersection(set(fact_num2)):\n",
    "        if fact_num1[valor]<=fact_num2[valor]:\n",
    "            res_mcd*= valor**fact_num1[valor]\n",
    "        else:\n",
    "            res_mcd*= valor**fact_num2[valor]\n",
    "    \n",
    "    return res_mcd\n",
    "\n",
    "# 1- Se descomponen los dos (o más) números en factores primos\n",
    "num1 = 28\n",
    "num2= 14\n",
    "fact_num1= factorizaciondict(num1)\n",
    "fact_num2= factorizaciondict(num2)\n",
    "\n",
    "#set(fact_num1).intersection(set(fact_num2))\n",
    "\n",
    "mcd(fact_num1,fact_num2)\n",
    "\n"
   ],
   "metadata": {
    "collapsed": false,
    "ExecuteTime": {
     "end_time": "2024-01-12T13:47:03.130764400Z",
     "start_time": "2024-01-12T13:47:03.108768200Z"
    }
   },
   "id": "9d8ed8b2593f6ff0",
   "execution_count": 71
  },
  {
   "cell_type": "markdown",
   "source": [
    "##### Mínimo común múltiplo (MCM)\n",
    "Es un número que:\n",
    "1. Es un múltiplo de cada uno de estos dos (o más) números.\n",
    "2. Es el menor de estos múltiplos"
   ],
   "metadata": {
    "collapsed": false
   },
   "id": "f74b62ac05442753"
  },
  {
   "cell_type": "code",
   "outputs": [
    {
     "data": {
      "text/plain": "150"
     },
     "execution_count": 69,
     "metadata": {},
     "output_type": "execute_result"
    }
   ],
   "source": [
    "def mcm(fact_num1,fact_num2):\n",
    "    res_mcm=1\n",
    "    # Valores comunes, elegimos el mayor\n",
    "    for valor in set(fact_num1).intersection(set(fact_num2)):\n",
    "        if fact_num1[valor]<=fact_num2[valor]:\n",
    "            res_mcm*= valor**fact_num2[valor]\n",
    "        else:\n",
    "            res_mcm*= valor**fact_num2[valor]\n",
    "    # Valores diferentes, lo multiplicamos al resultado con su exponente correspondiente\n",
    "    # La resta de conjuntos NO ES COMUNMUTATIVA\n",
    "    for valor in set(fact_num1).difference(fact_num2):\n",
    "        res_mcm*= valor**fact_num1[valor]\n",
    "\n",
    "    for valor in set(fact_num2).difference(fact_num1):\n",
    "        res_mcm*= valor**fact_num2[valor]\n",
    "\n",
    "    return res_mcm\n",
    "\n",
    "mcm(fact_num1,fact_num2)"
   ],
   "metadata": {
    "collapsed": false,
    "ExecuteTime": {
     "end_time": "2024-01-12T11:04:31.840615500Z",
     "start_time": "2024-01-12T11:04:31.770097400Z"
    }
   },
   "id": "baa7620a5a4fdcb",
   "execution_count": 69
  },
  {
   "cell_type": "code",
   "outputs": [],
   "source": [],
   "metadata": {
    "collapsed": false,
    "ExecuteTime": {
     "end_time": "2024-01-12T11:04:31.843616Z",
     "start_time": "2024-01-12T11:04:31.796108100Z"
    }
   },
   "id": "566bf9c14574a64e",
   "execution_count": 69
  }
 ],
 "metadata": {
  "kernelspec": {
   "display_name": "Python 3",
   "language": "python",
   "name": "python3"
  },
  "language_info": {
   "codemirror_mode": {
    "name": "ipython",
    "version": 2
   },
   "file_extension": ".py",
   "mimetype": "text/x-python",
   "name": "python",
   "nbconvert_exporter": "python",
   "pygments_lexer": "ipython2",
   "version": "2.7.6"
  }
 },
 "nbformat": 4,
 "nbformat_minor": 5
}

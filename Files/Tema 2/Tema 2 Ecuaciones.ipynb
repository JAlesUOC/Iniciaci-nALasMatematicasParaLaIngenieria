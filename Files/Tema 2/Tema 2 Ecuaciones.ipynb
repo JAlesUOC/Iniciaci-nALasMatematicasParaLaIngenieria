{
 "cells": [
  {
   "cell_type": "code",
   "outputs": [],
   "source": [
    "import sympy as sym\n",
    "from IPython.display import display,Math "
   ],
   "metadata": {
    "collapsed": false,
    "ExecuteTime": {
     "end_time": "2024-01-14T17:09:36.166682300Z",
     "start_time": "2024-01-14T17:09:35.578040Z"
    }
   },
   "id": "1e7ded4d4810ea3f",
   "execution_count": 1
  },
  {
   "cell_type": "markdown",
   "source": [
    "# Tema 2 Ecuaciones"
   ],
   "metadata": {
    "collapsed": false
   },
   "id": "16b7d04a4d758572"
  },
  {
   "cell_type": "markdown",
   "source": [
    "## 2.1 Expreciones Algebraicas\n",
    "> **Definición:**\n",
    "> Por expresión algebraica se entiende cualquier combinación de letras y números relacionados entre sí por signos de operaciones.\n",
    "\n",
    "Las letras de una expresión algebraica se tienen que tratar como si fueran números:\n",
    "Las expresiones algebraicas se pueden usar en problemas reales, en los cuales se desconoce el valor de algún elemento.\n",
    "En las expresiones algebraicas, al multiplicar un número por una letra normalmente no se pone el signo de multiplicación, sino que se mantiene la letra seguida del número.\n",
    "Las letras de una expresión algebraica también pueden sustituirse por números concretos. El valor numérico de una expresión algebraica se halla sustituyendo las letras por números concretos, operando y obteniendo el resultado."
   ],
   "metadata": {
    "collapsed": false
   },
   "id": "d5ad9bba8b9aa65d"
  },
  {
   "cell_type": "code",
   "outputs": [
    {
     "data": {
      "text/plain": "<IPython.core.display.Math object>",
      "text/latex": "$\\displaystyle \\text{La expresión que define sus gastos es: }2 c + 3 g + p$"
     },
     "metadata": {},
     "output_type": "display_data"
    }
   ],
   "source": [
    "# ¿Cuánto se ha gastado una persona después de comprar dos camisetas (c), un pantalon (p) y tres guantes(g)?\n",
    "c,p,g = sym.symbols('c p g')\n",
    "expr= 2*c+p+3*g\n",
    "display(Math('\\\\text{La expresión que define sus gastos es: }'+ sym.latex(expr)))"
   ],
   "metadata": {
    "collapsed": false,
    "ExecuteTime": {
     "end_time": "2024-01-14T17:46:06.274380900Z",
     "start_time": "2024-01-14T17:46:06.253384900Z"
    }
   },
   "id": "b6ff4c087e08a518",
   "execution_count": 19
  },
  {
   "cell_type": "code",
   "outputs": [
    {
     "data": {
      "text/plain": "<IPython.core.display.Math object>",
      "text/latex": "$\\displaystyle \\text{Caso 1: Camiseta:50} €,\\text{Pantalones:35} €,\\text{Guantes:6} €\\Rightarrow Total : 153 €$"
     },
     "metadata": {},
     "output_type": "display_data"
    },
    {
     "data": {
      "text/plain": "<IPython.core.display.Math object>",
      "text/latex": "$\\displaystyle \\text{Caso 2: Camiseta:75} €,\\text{Pantalones:50} €,\\text{Guantes:9} €\\Rightarrow Total : 227 €$"
     },
     "metadata": {},
     "output_type": "display_data"
    },
    {
     "data": {
      "text/plain": "<IPython.core.display.Math object>",
      "text/latex": "$\\displaystyle \\text{Caso 3: Camiseta:32} €,\\text{Pantalones:27} €,\\text{Guantes:15} €\\Rightarrow Total : 136 €$"
     },
     "metadata": {},
     "output_type": "display_data"
    },
    {
     "data": {
      "text/plain": "<IPython.core.display.Math object>",
      "text/latex": "$\\displaystyle \\text{Caso 4: Camiseta:25} €,\\text{Pantalones:18} €,\\text{Guantes:7} €\\Rightarrow Total : 89 €$"
     },
     "metadata": {},
     "output_type": "display_data"
    }
   ],
   "source": [
    "valoresnumericos=[[50,35,6],[75,50,9],[32,27,15],[25,18,7]]\n",
    "\n",
    "for caso in range(len(valoresnumericos)):\n",
    "    display(Math(f'\\\\text{{Caso {caso+1}: Camiseta:{valoresnumericos[caso][0]}}} €,\\\\text{{Pantalones:{valoresnumericos[caso][1]}}} €,\\\\text{{Guantes:{valoresnumericos[caso][2]}}} €\\\\Rightarrow Total : '+ sym.latex(expr.subs([(c,valoresnumericos[caso][0]),(p,valoresnumericos[caso][1]),(g,valoresnumericos[caso][2])]))+ ' €'))\n",
    "        \n",
    "\n"
   ],
   "metadata": {
    "collapsed": false,
    "ExecuteTime": {
     "end_time": "2024-01-14T17:53:52.352175900Z",
     "start_time": "2024-01-14T17:53:52.337165600Z"
    }
   },
   "id": "da06852e0ad2d8c2",
   "execution_count": 32
  },
  {
   "cell_type": "code",
   "outputs": [],
   "source": [],
   "metadata": {
    "collapsed": false
   },
   "id": "fc8dd5196108198b"
  }
 ],
 "metadata": {
  "kernelspec": {
   "display_name": "Python 3",
   "language": "python",
   "name": "python3"
  },
  "language_info": {
   "codemirror_mode": {
    "name": "ipython",
    "version": 2
   },
   "file_extension": ".py",
   "mimetype": "text/x-python",
   "name": "python",
   "nbconvert_exporter": "python",
   "pygments_lexer": "ipython2",
   "version": "2.7.6"
  }
 },
 "nbformat": 4,
 "nbformat_minor": 5
}

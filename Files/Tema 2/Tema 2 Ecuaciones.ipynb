{
 "cells": [
  {
   "cell_type": "code",
   "outputs": [],
   "source": [
    "import sympy as sym\n",
    "from IPython.display import display,Math "
   ],
   "metadata": {
    "collapsed": false,
    "ExecuteTime": {
     "end_time": "2024-01-22T12:28:16.391857300Z",
     "start_time": "2024-01-22T12:28:15.548502300Z"
    }
   },
   "id": "1e7ded4d4810ea3f",
   "execution_count": 2
  },
  {
   "cell_type": "markdown",
   "source": [
    "# Tema 2 Ecuaciones"
   ],
   "metadata": {
    "collapsed": false
   },
   "id": "16b7d04a4d758572"
  },
  {
   "cell_type": "markdown",
   "source": [
    "## 2.1.1 Expreciones Algebraicas\n",
    "> **Definición:**\n",
    "> Por expresión algebraica se entiende cualquier combinación de letras y números relacionados entre sí por signos de operaciones.\n",
    "\n",
    "Las letras de una expresión algebraica se tienen que tratar como si fueran números:\n",
    "Las expresiones algebraicas se pueden usar en problemas reales, en los cuales se desconoce el valor de algún elemento.\n",
    "En las expresiones algebraicas, al multiplicar un número por una letra normalmente no se pone el signo de multiplicación, sino que se mantiene la letra seguida del número.\n",
    "Las letras de una expresión algebraica también pueden sustituirse por números concretos. El valor numérico de una expresión algebraica se halla sustituyendo las letras por números concretos, operando y obteniendo el resultado."
   ],
   "metadata": {
    "collapsed": false
   },
   "id": "d5ad9bba8b9aa65d"
  },
  {
   "cell_type": "code",
   "outputs": [
    {
     "data": {
      "text/plain": "<IPython.core.display.Math object>",
      "text/latex": "$\\displaystyle \\text{La expresión que define sus gastos es: }2 c + 3 g + p$"
     },
     "metadata": {},
     "output_type": "display_data"
    }
   ],
   "source": [
    "# ¿Cuánto se ha gastado una persona después de comprar dos camisetas (c), un pantalon (p) y tres guantes(g)?\n",
    "c,p,g = sym.symbols('c p g')\n",
    "expr= 2*c+p+3*g\n",
    "display(Math('\\\\text{La expresión que define sus gastos es: }'+ sym.latex(expr)))"
   ],
   "metadata": {
    "collapsed": false,
    "ExecuteTime": {
     "end_time": "2024-01-22T12:28:16.457374500Z",
     "start_time": "2024-01-22T12:28:16.394860Z"
    }
   },
   "id": "b6ff4c087e08a518",
   "execution_count": 3
  },
  {
   "cell_type": "code",
   "outputs": [
    {
     "data": {
      "text/plain": "<IPython.core.display.Math object>",
      "text/latex": "$\\displaystyle \\text{Caso 1: Camiseta:50} €,\\text{Pantalones:35} €,\\text{Guantes:6} €\\Rightarrow Total : 153 €$"
     },
     "metadata": {},
     "output_type": "display_data"
    },
    {
     "data": {
      "text/plain": "<IPython.core.display.Math object>",
      "text/latex": "$\\displaystyle \\text{Caso 2: Camiseta:75} €,\\text{Pantalones:50} €,\\text{Guantes:9} €\\Rightarrow Total : 227 €$"
     },
     "metadata": {},
     "output_type": "display_data"
    },
    {
     "data": {
      "text/plain": "<IPython.core.display.Math object>",
      "text/latex": "$\\displaystyle \\text{Caso 3: Camiseta:32} €,\\text{Pantalones:27} €,\\text{Guantes:15} €\\Rightarrow Total : 136 €$"
     },
     "metadata": {},
     "output_type": "display_data"
    },
    {
     "data": {
      "text/plain": "<IPython.core.display.Math object>",
      "text/latex": "$\\displaystyle \\text{Caso 4: Camiseta:25} €,\\text{Pantalones:18} €,\\text{Guantes:7} €\\Rightarrow Total : 89 €$"
     },
     "metadata": {},
     "output_type": "display_data"
    }
   ],
   "source": [
    "valoresnumericos=[[50,35,6],[75,50,9],[32,27,15],[25,18,7]] # Diferentes precios en cada caso\n",
    "\n",
    "for caso in range(len(valoresnumericos)):\n",
    "    display(Math(f'\\\\text{{Caso {caso+1}: Camiseta:{valoresnumericos[caso][0]}}} €,\\\\text{{Pantalones:{valoresnumericos[caso][1]}}} €,\\\\text{{Guantes:{valoresnumericos[caso][2]}}} €\\\\Rightarrow Total : '+ sym.latex(expr.subs([(c,valoresnumericos[caso][0]),(p,valoresnumericos[caso][1]),(g,valoresnumericos[caso][2])]))+ ' €'))       \n"
   ],
   "metadata": {
    "collapsed": false,
    "ExecuteTime": {
     "end_time": "2024-01-22T12:28:16.498374500Z",
     "start_time": "2024-01-22T12:28:16.458375100Z"
    }
   },
   "id": "da06852e0ad2d8c2",
   "execution_count": 4
  },
  {
   "cell_type": "markdown",
   "source": [],
   "metadata": {
    "collapsed": false
   },
   "id": "3bfc633bfcf0d20d"
  },
  {
   "cell_type": "markdown",
   "source": [
    "## 2.1.2 Elementos\n",
    "Una expresión algebraica puede escribirse a partir de varias sumas, restas, productos o divisiones. Cada uno de estos sumandos se denomina **término**.\n",
    "### Propiedades de la suma y el producto\n",
    "- **Elemento neutro de la suma**. Es el 0\n",
    "- **Elemento neutro del producto**. Es el 1\n",
    "- **Elemento opuesto** $a$. Es $−a$\n",
    "- **Inverso** de $a$. Es $\\frac{1}{a}$ (siendo $a \\neq 0$\n",
    "- **La resta**. Es la operación que consiste en sumar el opuesto\n",
    "- **La división**. Es la operación que consiste a multiplicar por el inverso\n",
    "- **Propiedad conmutativa de la suma**\n",
    "- **Propiedad asociativa de la suma**\n",
    "- **Propiedad conmutativa del producto**\n",
    "- **Propiedad asociativa del producto**\n",
    "- **Propiedad distributiva del producto respecto de la suma**"
   ],
   "metadata": {
    "collapsed": false
   },
   "id": "58a0b8b9468e4870"
  },
  {
   "cell_type": "markdown",
   "source": [
    "## 2.1.3 Manipulación\n",
    "La simplificación consiste en convertir la expresión original en otra que sea equivalente, pero con el mínimo número de términos posible"
   ],
   "metadata": {
    "collapsed": false
   },
   "id": "3dfda19d708ba1d"
  },
  {
   "cell_type": "code",
   "outputs": [
    {
     "data": {
      "text/plain": "<IPython.core.display.Math object>",
      "text/latex": "$\\displaystyle 9 x + 23$"
     },
     "metadata": {},
     "output_type": "display_data"
    }
   ],
   "source": [
    "x = sym.symbols('x')\n",
    "expresion = 3*x+6*x+13+10 # Python nos simplifica la expresión\n",
    "display(Math(f'%s'%(sym.latex(expresion))))"
   ],
   "metadata": {
    "collapsed": false,
    "ExecuteTime": {
     "end_time": "2024-01-22T12:28:16.514377Z",
     "start_time": "2024-01-22T12:28:16.489378100Z"
    }
   },
   "id": "1da633c1fe1ae681",
   "execution_count": 5
  },
  {
   "cell_type": "markdown",
   "source": [
    "## 2.1.4. Propiedades\n",
    "Una igualdad entre expresiones numéricas está formada por dos expresiones numéricas, denominadas miembros de la igualdad, y un signo de igualdad (=) interpuesto\n",
    "entre ambas. Las igualdades pueden ser ciertas o falsas.\n",
    "- Una igualdad numérica es cierta si el resultado del miembro de la izquierda es igual al resultado del miembro de la derecha\n",
    "- Una igualdad numérica es falsa si el resultado del miembro de la izquierda no es igual al resultado del miembro de la derecha\n",
    "\n",
    "*Hay igualdades algebraicas que no son ni ciertas ni falsas. Este tipo de igualdades son las que pueden denominarse propiamente **ecuaciones***."
   ],
   "metadata": {
    "collapsed": false
   },
   "id": "99b2037becf48569"
  },
  {
   "cell_type": "code",
   "outputs": [
    {
     "data": {
      "text/plain": "<IPython.core.display.Math object>",
      "text/latex": "$\\displaystyle \\text{Las expresiones } a-4b-2a+5a-b \\quad y \\quad 4a-5b \\text{ son iguales}$"
     },
     "metadata": {},
     "output_type": "display_data"
    },
    {
     "data": {
      "text/plain": "<IPython.core.display.Math object>",
      "text/latex": "$\\displaystyle \\text{Las expresiones }3 a \\text{ y } 3 a + 2 \\text{ no son iguales}$"
     },
     "metadata": {},
     "output_type": "display_data"
    }
   ],
   "source": [
    "a,b = sym.symbols('a,b')\n",
    "expresion1 = a-4*b-2*a+5*a-b\n",
    "expresion2 = 4*a-5*b\n",
    "\n",
    "# Comprobamos si las expresiones son iguales\n",
    "if expresion1 == expresion2:\n",
    "    display(Math(f'\\\\text{{Las expresiones }} a-4b-2a+5a-b \\\\quad y \\\\quad 4a-5b \\\\text{{ son iguales}}'))\n",
    "else:\n",
    "    display(Math(f'\\\\text{{Las expresiones }} a-4b-2a+5a-b \\\\quad y \\\\quad 4a-5b \\\\text{{ y }} {sym.latex(expresion2)} \\\\text{{ no son iguales}}'))\n",
    "\n",
    "expresion3 = 3*a\n",
    "expresion4 = 3*a+2\n",
    "\n",
    "# Comprobamos si las expresiones son iguales\n",
    "if expresion3 == expresion4:\n",
    "    display(Math(f'\\\\text{{Las expresiones }}{sym.latex(expresion3)} \\\\text{{ y }} {sym.latex(expresion4)} \\\\text{{son iguales}}'))\n",
    "else:\n",
    "    display(Math(f'\\\\text{{Las expresiones }}{sym.latex(expresion3)} \\\\text{{ y }} {sym.latex(expresion4)} \\\\text{{ no son iguales}}'))"
   ],
   "metadata": {
    "collapsed": false,
    "ExecuteTime": {
     "end_time": "2024-01-22T12:28:16.547630400Z",
     "start_time": "2024-01-22T12:28:16.509378300Z"
    }
   },
   "id": "3165314f86fb8d1c",
   "execution_count": 6
  },
  {
   "cell_type": "markdown",
   "source": [
    "## 2.2 Ecuaciones\n",
    "Una igualdad entre expresiones algebraicas también puede denominarse ecuación. En este caso, las letras se llaman **incógnitas**.\n",
    "\n",
    "Cada uno de los sumandos de cada uno de los miembros se denomina **término**. El número que multiplica cada término se llama **coeficiente**. Un término que no contiene ninguna incógnita se denomina **término numérico** o **término independiente**.\n",
    "\n",
    "El número de incógnitas que se multiplican es el **grado del término**. Se dice que el **grado de una ecuación** es el máximo grado de los términos que forman la ecuación.\n",
    "\n",
    "Las incógnitas de cada miembro de una ecuación pueden sustituirse por valores numéricos concretos.\n",
    "\n",
    "De este modo, la ecuación se transforma en una igualdad entre expresiones numéricas.\n",
    "\n",
    "Este proceso se denomina **sustitución de las incógnitas de una ecuación por números**. Esta igualdad numérica resultante puede ser:\n",
    "- Falsa.\n",
    "- Cierta. Si sustituimos en la misma ecuación, y ambos miembros resultan iguales.\n",
    "\n",
    "Cuando se halla el valor que hace cierta la igualdad, se dice que se ha encontrado una **solución de la ecuación**."
   ],
   "metadata": {
    "collapsed": false
   },
   "id": "3584cd98ecebb7e7"
  },
  {
   "cell_type": "markdown",
   "source": [
    "### 2.2.2 Soluciones\n",
    "La solución de una ecuación se define como cada uno de los valores de las variables para las que se cumple la igualdad. Una ecuación puede tener más de una solución."
   ],
   "metadata": {
    "collapsed": false
   },
   "id": "3a34729b250d68ac"
  },
  {
   "cell_type": "code",
   "outputs": [
    {
     "data": {
      "text/plain": "<IPython.core.display.Math object>",
      "text/latex": "$\\displaystyle \\text{La solucion de la expresión 2 x + 4 y - 5 = 4 x - 5 y}\\Rightarrow \\left\\{ x : \\frac{25}{26}, \\  y : \\frac{10}{13}\\right\\}$"
     },
     "metadata": {},
     "output_type": "display_data"
    }
   ],
   "source": [
    "y = sym.symbols('y')\n",
    "ec1 =2*x+4*y-5\n",
    "ec2 = 4*x-5*y \n",
    "\n",
    "# En este caso obtendremos la solución de la expresión que transforma ambos miembros a 0\n",
    "soluciones = sym.solve([ec1,ec2],[x,y], dict=True)\n",
    "\n",
    "display(Math(f'\\\\text{{La solucion de la expresión {sym.latex(ec1)} = {sym.latex(ec2)}}}\\\\Rightarrow {sym.latex(soluciones[0])}'))"
   ],
   "metadata": {
    "collapsed": false,
    "ExecuteTime": {
     "end_time": "2024-01-22T12:28:16.548630200Z",
     "start_time": "2024-01-22T12:28:16.519375500Z"
    }
   },
   "id": "efe5cda5aede34e",
   "execution_count": 7
  },
  {
   "cell_type": "markdown",
   "source": [
    "### 2.2.3 Ecuaciones Equivalentes\n",
    "Dos ecuaciones que tienen exactamente las mismas soluciones se denominan ecuaciones equivalentes.\n",
    "Métodos para obtener una ecuación equivalente:\n",
    "- Sumando o restando el mismo número en ambos miembros.\n",
    "- Multiplicando o dividiendo ambos miembros por el mismo número."
   ],
   "metadata": {
    "collapsed": false
   },
   "id": "7b9d022071095344"
  },
  {
   "cell_type": "markdown",
   "source": [
    "### 2.2.4 Proceso de resolución\n",
    "Antes de empezar a resolver una ecuación, tiene que simplificarse al máximo. Por **simplificar una ecuación** se entiende el hecho de reducir cada miembro a una expresión con un único término numérico y agrupar los términos con la misma variable.\n",
    "\n",
    "En los casos en que la ecuación contiene números fraccionarios, conviene (a pesar de que no es imprescindible) transformar la ecuación en otra equivalente que no contenga denominadores.\n",
    "\n"
   ],
   "metadata": {
    "collapsed": false
   },
   "id": "cd6cf06f84d231dd"
  },
  {
   "cell_type": "code",
   "outputs": [
    {
     "data": {
      "text/plain": "<IPython.core.display.Math object>",
      "text/latex": "$\\displaystyle 5*x/6 + 10$"
     },
     "metadata": {},
     "output_type": "display_data"
    }
   ],
   "source": [
    "\n",
    "ec3 = ((x+2)/2)+x/3+7+2\n",
    "\n",
    "display(Math(f'{sym.simplify(ec3)}'))"
   ],
   "metadata": {
    "collapsed": false,
    "ExecuteTime": {
     "end_time": "2024-01-22T12:29:52.495942Z",
     "start_time": "2024-01-22T12:29:52.330384800Z"
    }
   },
   "id": "55152031bfa2a47c",
   "execution_count": 12
  },
  {
   "cell_type": "code",
   "outputs": [],
   "source": [],
   "metadata": {
    "collapsed": false,
    "ExecuteTime": {
     "end_time": "2024-01-22T12:28:16.576629300Z",
     "start_time": "2024-01-22T12:28:16.549632400Z"
    }
   },
   "id": "d15231273358a214",
   "execution_count": 8
  }
 ],
 "metadata": {
  "kernelspec": {
   "display_name": "Python 3",
   "language": "python",
   "name": "python3"
  },
  "language_info": {
   "codemirror_mode": {
    "name": "ipython",
    "version": 2
   },
   "file_extension": ".py",
   "mimetype": "text/x-python",
   "name": "python",
   "nbconvert_exporter": "python",
   "pygments_lexer": "ipython2",
   "version": "2.7.6"
  }
 },
 "nbformat": 4,
 "nbformat_minor": 5
}

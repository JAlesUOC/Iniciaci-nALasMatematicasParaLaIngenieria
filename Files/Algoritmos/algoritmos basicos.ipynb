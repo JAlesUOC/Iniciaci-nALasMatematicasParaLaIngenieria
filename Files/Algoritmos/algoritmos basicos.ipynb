{
 "cells": [
  {
   "cell_type": "markdown",
   "source": [
    "# Algoritmos Básicos"
   ],
   "metadata": {
    "collapsed": false
   },
   "id": "38bb9d24ad3cf987"
  },
  {
   "cell_type": "markdown",
   "source": [
    "El algoritmo funciona de la siguiente manera\n",
    "1) Creamos un variable con el índice inferior del array\n",
    "2) Creamos una variable con el índice superior del array\n",
    "3) Intercambiamos los elementos situados en los índices anteriores\n",
    "4) Aumentamos el índice inferior y reducimos el índice superior\n",
    "5) Si son distintos volvemos a intercambiar los elemento\n",
    "6) Si son iguales termina el algoritmo"
   ],
   "metadata": {
    "collapsed": false
   },
   "id": "ff6cd86b0f9a5f42"
  },
  {
   "cell_type": "code",
   "outputs": [
    {
     "name": "stdout",
     "output_type": "stream",
     "text": [
      "[52, 17, 35, 89, 67, 23]\n"
     ]
    }
   ],
   "source": [
    "def reverse(nums):\n",
    "    \"\"\"\n",
    "    Invierte los elementos de una lista\n",
    "    :param nums: \n",
    "    :return: lista invertida\n",
    "    \"\"\"\n",
    "    i_inferior=0\n",
    "    i_superior=len(nums)-1\n",
    "    \n",
    "    while i_superior > i_inferior:\n",
    "        nums[i_inferior],nums[i_superior] = nums[i_superior], nums[i_inferior]\n",
    "        \n",
    "        i_inferior = i_inferior+1\n",
    "        i_superior = i_superior-1\n",
    "    \n",
    "n = [23,67,89,35,17,52]\n",
    "\n",
    "reverse(n)\n",
    "\n",
    "print(n)\n"
   ],
   "metadata": {
    "collapsed": false,
    "ExecuteTime": {
     "end_time": "2024-01-29T22:23:28.958489600Z",
     "start_time": "2024-01-29T22:23:28.926979500Z"
    }
   },
   "id": "f39075788f71cb6c",
   "execution_count": 10
  },
  {
   "cell_type": "code",
   "outputs": [
    {
     "data": {
      "text/plain": "6"
     },
     "execution_count": 12,
     "metadata": {},
     "output_type": "execute_result"
    }
   ],
   "source": [
    "palabra = \"España\"\n",
    "\n",
    "len(palabra)"
   ],
   "metadata": {
    "collapsed": false,
    "ExecuteTime": {
     "end_time": "2024-01-29T22:30:42.653138200Z",
     "start_time": "2024-01-29T22:30:42.605629300Z"
    }
   },
   "id": "df635a0933561304",
   "execution_count": 12
  },
  {
   "cell_type": "code",
   "outputs": [],
   "source": [],
   "metadata": {
    "collapsed": false
   },
   "id": "7e8c194baacf8f15"
  }
 ],
 "metadata": {
  "kernelspec": {
   "display_name": "Python 3",
   "language": "python",
   "name": "python3"
  },
  "language_info": {
   "codemirror_mode": {
    "name": "ipython",
    "version": 2
   },
   "file_extension": ".py",
   "mimetype": "text/x-python",
   "name": "python",
   "nbconvert_exporter": "python",
   "pygments_lexer": "ipython2",
   "version": "2.7.6"
  }
 },
 "nbformat": 4,
 "nbformat_minor": 5
}

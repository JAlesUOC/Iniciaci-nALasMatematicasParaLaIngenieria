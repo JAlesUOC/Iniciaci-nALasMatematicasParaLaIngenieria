{
 "cells": [
  {
   "cell_type": "markdown",
   "metadata": {},
   "source": [
    "# Tema 11: Derivación de Funciones"
   ]
  },
  {
   "cell_type": "code",
   "execution_count": 215,
   "metadata": {},
   "outputs": [],
   "source": [
    "from IPython.display import display, Math, Latex\n",
    "from matplotlib import pyplot as plt\n",
    "import sympy as sp\n",
    "from sympy.utilities.lambdify import lambdify, implemented_function\n",
    "import numpy as np"
   ]
  },
  {
   "cell_type": "code",
   "execution_count": 7,
   "metadata": {},
   "outputs": [],
   "source": [
    "x = sp.symbols('x')"
   ]
  },
  {
   "cell_type": "code",
   "execution_count": 130,
   "metadata": {},
   "outputs": [],
   "source": [
    "# metodos\n",
    "\n",
    "def mostrarDerivada (f):\n",
    "    \"\"\"\n",
    "    Función que muestra la expresion de la funcion pasada por parametro y el resultado de su derivada\n",
    "    :param f: expresion para calcular la derivada\n",
    "    \"\"\"\n",
    "    display(Math(\n",
    "    '\\\\text{La derivada de }' \n",
    "    + sp.latex(f) \n",
    "    + '\\\\text{ es }'\n",
    "    + sp.latex(sp.diff(f,x))\n",
    "    )\n",
    ")\n",
    "    \n",
    "def graficaDeFyF_dx(f, f_dx, x_):\n",
    "    \"\"\"\n",
    "    Función que retorna la grafica y su derivada\n",
    "    :param f: expresion de la función original\n",
    "    :param f_: expresion de la funcion derivada\n",
    "    :param x_: valores de x de la gráfica\n",
    "    :return: matplotlib.plot de la gráfica \n",
    "    \"\"\"\n",
    "\n",
    "    fig, ax = plt.subplots()\n",
    "    # Ejes de coordenadas\n",
    "    ax.axhline(y = 0, color='red', linestyle='--')\n",
    "    ax.axvline(x = 0, color='red', linestyle='--')\n",
    "\n",
    "# Grafica de la funcion ys su derivada\n",
    "    ax.plot(x_,f(x_))\n",
    "    ax.plot(x_,f_dx(x_))\n",
    "    ax.grid(True)\n",
    "\n",
    "    return fig, ax"
   ]
  },
  {
   "cell_type": "markdown",
   "metadata": {},
   "source": [
    "## 11.1 Derivada de una función en un punto\n",
    "### 11.1.1 Definición e interpretación\n",
    "La **derivada de una función $f(x)$ en un punto concreto $x_0$** se indica por $f'(x_0)$ y se define mediante un cálculo de este límite:\n",
    "$$\\boxed{f'(x_0)=\\lim_{x\\to x_0} \\frac{f(x_0)-f(x)}{x_0-x}}$$\n",
    "Alternativamente, podemos definir la derivada de la función $f(x)$ en $x_0$ así:\n",
    "$$\\boxed{f'(x_0)= \\lim_{h\\to 0} \\frac{f(x_0+h)-f(x_0)}{h}}$$\n"
   ]
  },
  {
   "cell_type": "code",
   "execution_count": 9,
   "metadata": {},
   "outputs": [
    {
     "data": {
      "image/png": "[encoded data removed]",
      "text/plain": [
       "<Figure size 640x480 with 1 Axes>"
      ]
     },
     "metadata": {},
     "output_type": "display_data"
    }
   ],
   "source": [
    "funcion = x**2\n",
    "x_ = np.linspace(1,10,50) # valores de x\n",
    "fig, ax = plt.subplots()\n",
    "y_ = []\n",
    "\n",
    "for valor in x_:\n",
    "    y_.append(funcion.subs(x,valor))\n",
    "\n",
    "ax.plot(x_, y_)\n",
    "plt.show()\n",
    "\n",
    "\n"
   ]
  },
  {
   "cell_type": "code",
   "execution_count": 10,
   "metadata": {},
   "outputs": [
    {
     "data": {
      "text/latex": [
       "$\\displaystyle \\text{La derivada de }3\\text{ es }0$"
      ],
      "text/plain": [
       "<IPython.core.display.Math object>"
      ]
     },
     "metadata": {},
     "output_type": "display_data"
    },
    {
     "data": {
      "text/latex": [
       "$\\displaystyle \\text{La derivada de }x\\text{ es }1$"
      ],
      "text/plain": [
       "<IPython.core.display.Math object>"
      ]
     },
     "metadata": {},
     "output_type": "display_data"
    },
    {
     "data": {
      "text/latex": [
       "$\\displaystyle \\text{La derivada de }x^{2}\\text{ es }2 x$"
      ],
      "text/plain": [
       "<IPython.core.display.Math object>"
      ]
     },
     "metadata": {},
     "output_type": "display_data"
    },
    {
     "data": {
      "text/latex": [
       "$\\displaystyle \\text{La derivada de }x^{3}\\text{ es }3 x^{2}$"
      ],
      "text/plain": [
       "<IPython.core.display.Math object>"
      ]
     },
     "metadata": {},
     "output_type": "display_data"
    }
   ],
   "source": [
    "# Calculos de las derivadas de los primeros monomios\n",
    "\n",
    "# Calculo de la derivada de una funcion constante\n",
    "f = 3\n",
    "\n",
    "mostrarDerivada(f)\n",
    "\n",
    "# Calculo de la derivada de una funcion lineal\n",
    "f = x\n",
    "\n",
    "mostrarDerivada(f)\n",
    "\n",
    "# Calculo de la derivada de una funcion cuadratica\n",
    "f = x**2\n",
    "\n",
    "mostrarDerivada(f)\n",
    "\n",
    "# Calculo de la derivada de una funcion de grado 3\n",
    "f = x**3\n",
    "\n",
    "mostrarDerivada(f)\n"
   ]
  },
  {
   "cell_type": "code",
   "execution_count": 40,
   "metadata": {},
   "outputs": [
    {
     "data": {
      "text/latex": [
       "$\\displaystyle \\text{La derivada de }2\\text{ es }0$"
      ],
      "text/plain": [
       "<IPython.core.display.Math object>"
      ]
     },
     "metadata": {},
     "output_type": "display_data"
    },
    {
     "data": {
      "text/latex": [
       "$\\displaystyle \\text{La derivada de }x\\text{ es }1$"
      ],
      "text/plain": [
       "<IPython.core.display.Math object>"
      ]
     },
     "metadata": {},
     "output_type": "display_data"
    },
    {
     "data": {
      "text/latex": [
       "$\\displaystyle \\text{La derivada de }x^{5}\\text{ es }5 x^{4}$"
      ],
      "text/plain": [
       "<IPython.core.display.Math object>"
      ]
     },
     "metadata": {},
     "output_type": "display_data"
    },
    {
     "data": {
      "text/latex": [
       "$\\displaystyle \\text{La derivada de }\\sqrt{x}\\text{ es }\\frac{1}{2 \\sqrt{x}}$"
      ],
      "text/plain": [
       "<IPython.core.display.Math object>"
      ]
     },
     "metadata": {},
     "output_type": "display_data"
    },
    {
     "data": {
      "text/latex": [
       "$\\displaystyle \\text{La derivada de }\\sin{\\left(x \\right)}\\text{ es }\\cos{\\left(x \\right)}$"
      ],
      "text/plain": [
       "<IPython.core.display.Math object>"
      ]
     },
     "metadata": {},
     "output_type": "display_data"
    },
    {
     "data": {
      "text/latex": [
       "$\\displaystyle \\text{La derivada de }\\cos{\\left(x \\right)}\\text{ es }- \\sin{\\left(x \\right)}$"
      ],
      "text/plain": [
       "<IPython.core.display.Math object>"
      ]
     },
     "metadata": {},
     "output_type": "display_data"
    },
    {
     "data": {
      "text/latex": [
       "$\\displaystyle \\text{La derivada de }\\tan{\\left(x \\right)}\\text{ es }\\tan^{2}{\\left(x \\right)} + 1$"
      ],
      "text/plain": [
       "<IPython.core.display.Math object>"
      ]
     },
     "metadata": {},
     "output_type": "display_data"
    },
    {
     "data": {
      "text/latex": [
       "$\\displaystyle \\text{La derivada de }2^{x}\\text{ es }2^{x} \\log{\\left(2 \\right)}$"
      ],
      "text/plain": [
       "<IPython.core.display.Math object>"
      ]
     },
     "metadata": {},
     "output_type": "display_data"
    },
    {
     "data": {
      "text/latex": [
       "$\\displaystyle \\text{La derivada de }\\operatorname{asin}{\\left(x \\right)}\\text{ es }\\frac{1}{\\sqrt{1 - x^{2}}}$"
      ],
      "text/plain": [
       "<IPython.core.display.Math object>"
      ]
     },
     "metadata": {},
     "output_type": "display_data"
    },
    {
     "data": {
      "text/latex": [
       "$\\displaystyle \\text{La derivada de }\\operatorname{acos}{\\left(x \\right)}\\text{ es }- \\frac{1}{\\sqrt{1 - x^{2}}}$"
      ],
      "text/plain": [
       "<IPython.core.display.Math object>"
      ]
     },
     "metadata": {},
     "output_type": "display_data"
    },
    {
     "data": {
      "text/latex": [
       "$\\displaystyle \\text{La derivada de }\\operatorname{atan}{\\left(x \\right)}\\text{ es }\\frac{1}{x^{2} + 1}$"
      ],
      "text/plain": [
       "<IPython.core.display.Math object>"
      ]
     },
     "metadata": {},
     "output_type": "display_data"
    }
   ],
   "source": [
    "# Principales derivadas\n",
    "\n",
    "# Derivada de una constante\n",
    "f= 2\n",
    "mostrarDerivada(f)\n",
    "\n",
    "# Derivada de una incognita de primer grado\n",
    "f = x\n",
    "mostrarDerivada(f)\n",
    "\n",
    "# Derivada de un potencia de grado mayor a uno\n",
    "f = x**5\n",
    "mostrarDerivada(f)\n",
    "\n",
    "# Derivada de una raiz\n",
    "f = sp.sqrt(x)\n",
    "mostrarDerivada(f)\n",
    "\n",
    "# Derivada del seno\n",
    "f = sp.sin(x) \n",
    "mostrarDerivada(f)\n",
    "# Derivada del coseno\n",
    "f = sp.cos(x)\n",
    "mostrarDerivada(f)\n",
    "\n",
    "# Derivada de la tangente\n",
    "f = sp.tan(x)\n",
    "mostrarDerivada(f)\n",
    "\n",
    "# Derivada de una funcion exponencial (python lo hace diferente)\n",
    "f=2**x\n",
    "mostrarDerivada(f)\n",
    "\n",
    "# Derivada de una funcion logaritmica (python lo hace diferente)\n",
    "\n",
    "# Derivada del arcoseno\n",
    "f = sp.asin(x)\n",
    "mostrarDerivada(f)\n",
    "\n",
    "# Derivada del arcocoseno\n",
    "f = sp.acos(x)\n",
    "mostrarDerivada(f)\n",
    "\n",
    "# Derivada de la arcotangente\n",
    "f = sp.atan(x)\n",
    "mostrarDerivada(f)"
   ]
  },
  {
   "cell_type": "code",
   "execution_count": 76,
   "metadata": {},
   "outputs": [
    {
     "data": {
      "image/png": "[encoded data removed]",
      "text/plain": [
       "<Figure size 640x480 with 1 Axes>"
      ]
     },
     "metadata": {},
     "output_type": "display_data"
    },
    {
     "data": {
      "text/latex": [
       "$\\displaystyle \\text{La recta tangente en el punto (0,0) es una recta horizontal, por lo qu su pendiente es 0.}\n",
       "\\text{ Es decir f'(0) = }0$"
      ],
      "text/plain": [
       "<IPython.core.display.Math object>"
      ]
     },
     "metadata": {},
     "output_type": "display_data"
    },
    {
     "data": {
      "text/latex": [
       "$\\displaystyle \\text{La derivada es la misma para valores con el mismo valor absoluto}\n",
       "\\text{ Es decir f'(0.7) = }1.47\n",
       "\\text{ y f'(-0.7) = }1.47$"
      ],
      "text/plain": [
       "<IPython.core.display.Math object>"
      ]
     },
     "metadata": {},
     "output_type": "display_data"
    },
    {
     "data": {
      "text/plain": [
       "1.4699999999999998"
      ]
     },
     "execution_count": 76,
     "metadata": {},
     "output_type": "execute_result"
    }
   ],
   "source": [
    "# Estudiamos la función cúbica\n",
    "exp = x**3\n",
    "f = lambdify(x, exp)\n",
    "exp_dx=sp.diff(exp)\n",
    "f_dx = lambdify(x,exp_dx)\n",
    "x_ = np.linspace(-1.7, 1.7, 100)\n",
    "\n",
    "# Ejes de coordenadas\n",
    "plt.axhline(y = f_dx(0), color='red', linestyle='--')\n",
    "plt.axvline(x = 0, color='red', linestyle='--')\n",
    "\n",
    "# Grafica de la funcion ys su derivada\n",
    "plt.plot(x_,f(x_))\n",
    "plt.plot(x_,f_dx(x_))\n",
    "plt.grid(True)\n",
    "\n",
    "plt.show()\n",
    "\n",
    "display(Math(\n",
    "    '\\\\text{La recta tangente en el punto (0,0) es una recta horizontal, por lo qu su pendiente es 0.}'\n",
    "    + '\\n\\\\text{ Es decir f\\'(0) = }'\n",
    "    + sp.latex(f_dx(0))\n",
    "))\n",
    "\n",
    "display(Math(\n",
    "    '\\\\text{La derivada es la misma para valores con el mismo valor absoluto.}'\n",
    "    + '\\n\\\\text{ Es decir f\\'(0.7) = }'\n",
    "    + sp.latex(f_dx(0.7))\n",
    "    + '\\n\\\\text{ y f\\'(-0.7) = }'\n",
    "    + sp.latex(f_dx(-0.7))\n",
    "))\n",
    "\n",
    "f_dx(-0.7)\n"
   ]
  },
  {
   "cell_type": "markdown",
   "metadata": {},
   "source": [
    "## Reglas de calculo de las derivadas\n",
    "\n",
    "- La **derivada de la suma** (y resta) de dos funciones es igual a la suma (resta) de las derivadas de cada una de las funciones\n",
    "\n",
    "- La **derivada del producto** de dos funciones es igual a la derivada de la primera función multiplicada por la segunda función sin derivar más el producto de la primera función sin derivar por la derivada de la segunda función\n",
    "\n",
    "- La **derivada del cociente** de dos funciones es igual a la derivada de la función del numerador multiplicada por la función del denominador sin derivar menos el producto de la función del numerador sin derivar por la derivada de la función del denominador, todo esto dividido por el cuadrado de la función del denominador sin derivar\n",
    "\n",
    "- La **derivada de una funcion exponencial** es igual a la derivada del exponente por la funcion exponencial sin derivar por el logaritmo neperiano de la base.\n"
   ]
  },
  {
   "cell_type": "code",
   "execution_count": 207,
   "metadata": {},
   "outputs": [
    {
     "data": {
      "text/latex": [
       "$\\displaystyle 2 - 9 x$"
      ],
      "text/plain": [
       "2 - 9*x"
      ]
     },
     "execution_count": 207,
     "metadata": {},
     "output_type": "execute_result"
    },
    {
     "data": {
      "image/png": "[encoded data removed]",
      "text/plain": [
       "<Figure size 640x480 with 1 Axes>"
      ]
     },
     "metadata": {},
     "output_type": "display_data"
    }
   ],
   "source": [
    "# Dibujando la tangente de una funcion que pasa por un punto x=-2\n",
    "# Dada la parabola\n",
    "exp = x**2-5*x+6\n",
    "f = sp.lambdify(x,exp)\n",
    "\n",
    "exp_dx= sp.diff(exp)\n",
    "f_dx = sp.lambdify(x,exp_dx)\n",
    "\n",
    "# coordenadas del punto\n",
    "pto_x = -2\n",
    "pto_y = f(pto_x)\n",
    "\n",
    "# Hallamos la pendiente\n",
    "pendiente = f_dx(-2)\n",
    "\n",
    "# Aplicamos la fórmula de la ecuación lineal y-y_0=pendiente(x-x_0) => y = [pendiente(x-x_0)]-y_0\n",
    "tan = (pendiente*(x-(-2)))+pto_y\n",
    "t = sp.lambdify(x, tan) \n",
    "x_ = np.linspace(-80,80, 100)\n",
    "\n",
    "fig, ax = plt.subplots()\n",
    "\n",
    "ax.plot(x_, f(x_),linewidth=1)\n",
    "ax.plot(x_, t(x_), linestyle='--', linewidth=.8)\n",
    "\n",
    "tan\n"
   ]
  },
  {
   "cell_type": "markdown",
   "metadata": {},
   "source": [
    "## Crecimiento y decrecimiento de una función"
   ]
  },
  {
   "cell_type": "code",
   "execution_count": 183,
   "metadata": {},
   "outputs": [
    {
     "data": {
      "text/plain": [
       "<matplotlib.lines.Line2D at 0x1749b0e0cb0>"
      ]
     },
     "execution_count": 183,
     "metadata": {},
     "output_type": "execute_result"
    },
    {
     "data": {
      "image/png": "[encoded data removed]",
      "text/plain": [
       "<Figure size 640x480 with 1 Axes>"
      ]
     },
     "metadata": {},
     "output_type": "display_data"
    }
   ],
   "source": [
    "exp = x**3-3*x+1\n",
    "f = lambdify(x, exp)\n",
    "exp_dx=sp.diff(exp)\n",
    "f_dx = lambdify(x,exp_dx)\n",
    "x_ = np.linspace(-3, 3, 100)\n",
    "\n",
    "# Ejes de coordenadas\n",
    "plt.axhline(y = 0, color='red', linestyle='--')\n",
    "plt.axvline(x = 0, color='red', linestyle='--')\n",
    "\n",
    "# Grafica de la funcion ys su derivada\n",
    "plt.plot(x_,f(x_))\n",
    "plt.plot(x_,f_dx(x_))\n",
    "plt.grid(True)\n",
    "\n",
    "# Ejes de las raices de f_dx -> creciente en (-oo, -1) y (1,oo) y decreciente en (-1,1)\n",
    "plt.axvline(x = -1, color='red', linestyle='--', linewidth=1)\n",
    "plt.axvline(x = 1, color='red', linestyle='--', linewidth=1)\n",
    "\n"
   ]
  },
  {
   "cell_type": "markdown",
   "metadata": {},
   "source": [
    "## Máximos y mínimos\n",
    "\n",
    "**Definiciones:** \n",
    "\n",
    "Un **máximo** es un punto de una función cuya imagen es más grande o igual que la imagen de cualquier otro punto que es cercano a este punto.\n",
    "\n",
    "Un **mínimo** es un punto de una función cuya imagen es menor o igual que la imagen de cualquier punto que sea cercano a este punto\n",
    "\n",
    "Tanto en el caso del máximo como en el del mínimo, la recta tangente en ellos es horizontal y, por lo tanto, con pendiente nula, esto indica que la derivada de la función es 0 en estos puntos\n"
   ]
  },
  {
   "cell_type": "code",
   "execution_count": 142,
   "metadata": {},
   "outputs": [
    {
     "data": {
      "text/latex": [
       "$\\displaystyle \\text{El máximo de la funcion es (-3,81)}$"
      ],
      "text/plain": [
       "<IPython.core.display.Math object>"
      ]
     },
     "metadata": {},
     "output_type": "display_data"
    },
    {
     "data": {
      "text/latex": [
       "$\\displaystyle \\text{El mínimo de la funcion es (2,-44)}$"
      ],
      "text/plain": [
       "<IPython.core.display.Math object>"
      ]
     },
     "metadata": {},
     "output_type": "display_data"
    },
    {
     "data": {
      "text/plain": [
       "[<matplotlib.lines.Line2D at 0x1749842d850>]"
      ]
     },
     "execution_count": 142,
     "metadata": {},
     "output_type": "execute_result"
    },
    {
     "data": {
      "image/png": "[encoded data removed]",
      "text/plain": [
       "<Figure size 640x480 with 1 Axes>"
      ]
     },
     "metadata": {},
     "output_type": "display_data"
    }
   ],
   "source": [
    "### Ejemplo. Localización de máximos y mínimos de una función (I)\n",
    "#Sea la función\n",
    "exp = 2*x**3+3*x**2-36*x\n",
    "f = sp.lambdify(x, exp)\n",
    "\n",
    "# Su derivada es\n",
    "exp_dx = sp.diff(exp)\n",
    "f_dx = sp.lambdify(x, exp_dx)\n",
    "\n",
    "# Resolvemos la ecuación f′\n",
    "sp.solve(exp_dx, x)\n",
    "\n",
    "# Obtenemos los valores de f' de x para los que y es = 0: x = [-3, 2] \n",
    "# Sustituimos estos valores en f(x) para obtener la imagen del máximo y del minimo\n",
    "# Máximo\n",
    "display(Math(\n",
    "    '\\\\text{El máximo de la funcion es (-3,'\n",
    "    + sp.latex(exp.subs(x, -3))\n",
    "    +')}'\n",
    "))\n",
    "\n",
    "# Mínimo\n",
    "display(Math(\n",
    "    '\\\\text{El mínimo de la funcion es (2,'\n",
    "    + sp.latex(exp.subs(x, 2))\n",
    "    +')}'\n",
    "))\n",
    "\n",
    "## Representación gráfica\n",
    "x_ = np.linspace(-8,8,50)\n",
    "\n",
    "fig, ax = graficaDeFyF_dx(f,f_dx, x_)\n",
    "\n",
    "# Mostramos el máximo y el mínimo en la gráfica\n",
    "ax.plot(-3,exp.subs(x, -3), 'r+')\n",
    "ax.plot(2, exp.subs(x, 2),'r+')\n",
    "\n",
    "\n",
    "\n",
    "\n"
   ]
  },
  {
   "cell_type": "markdown",
   "metadata": {},
   "source": [
    "## ¿Como saber si un punto es maximo o minimo sin necesidad de estudiar la función?\n",
    "\n",
    "- En f'($x$) = 0 y f''($x_0$) < 0 el punto $(x_0,(f(x_0)))$ es un máximo de la función $f$.\n",
    "\n",
    "- En f'($x$) = 0 y f''($x_0$) > 0 el punto $(x_0,(f(x_0)))$ es un mínimo de la función $f$.\n",
    "\n",
    "- En f'($x$) = 0 y f''($x_0$) = 0 el punto $(x_0,(f(x_0)))$ no se puede decir nada sobre si se trata de un máximo o un mínimo."
   ]
  },
  {
   "cell_type": "code",
   "execution_count": 146,
   "metadata": {},
   "outputs": [
    {
     "data": {
      "text/latex": [
       "$\\displaystyle \\text{Sabemos que -3 es un maximo, al sustituirlo en la segunda derivada }-30$"
      ],
      "text/plain": [
       "<IPython.core.display.Math object>"
      ]
     },
     "metadata": {},
     "output_type": "display_data"
    },
    {
     "data": {
      "text/latex": [
       "$\\displaystyle \\text{Sabemos que 2 es un mínimo, al sustituirlo en la segunda derivada }30$"
      ],
      "text/plain": [
       "<IPython.core.display.Math object>"
      ]
     },
     "metadata": {},
     "output_type": "display_data"
    }
   ],
   "source": [
    "# calculamos la segunda derivada\n",
    "e_ddx= sp.diff(exp_dx)\n",
    "\n",
    "# Sabemos de la grafica anterior que:\n",
    "\n",
    "# -3 es un máximo\n",
    "display(Math(\n",
    "    '\\\\text{Sabemos que -3 es un maximo, al sustituirlo en la segunda derivada }'\n",
    "    + sp.latex(e_ddx.subs(x, -3))\n",
    "))\n",
    "\n",
    "# 2 es un mínimo\n",
    "display(Math(\n",
    "    '\\\\text{Sabemos que 2 es un mínimo, al sustituirlo en la segunda derivada }'\n",
    "    + sp.latex(e_ddx.subs(x, 2))\n",
    "))\n",
    "\n"
   ]
  },
  {
   "cell_type": "markdown",
   "metadata": {},
   "source": [
    "Otra manera para saber si una función $f$ presenta un máximo o un mínimo en un punto $(x_0,f(x_0))$ es estudiar el crecimiento o decrecimiento de la función en un entorno de $x_0$:\n",
    "- En $f′(x_0) = 0$ y si la derivada en este punto pasa de ser negativa a positiva, y por lo tanto la función pasa de decreciente a creciente, $(x_0,f(x_0))$ es un mínimo.\n",
    "\n",
    "- En $f′(x_0) = 0$ y si la derivada en este punto pasa de ser positiva a negativa, y por lo tanto la función pasa de creciente a decreciente, $(x_0,f(x_0))$ es un máximo"
   ]
  },
  {
   "cell_type": "code",
   "execution_count": 150,
   "metadata": {},
   "outputs": [
    {
     "data": {
      "text/latex": [
       "$\\displaystyle \\text{En -4 la derivada vale }36$"
      ],
      "text/plain": [
       "<IPython.core.display.Math object>"
      ]
     },
     "metadata": {},
     "output_type": "display_data"
    },
    {
     "data": {
      "text/latex": [
       "$\\displaystyle \\text{En -2 la derivada vale }-24$"
      ],
      "text/plain": [
       "<IPython.core.display.Math object>"
      ]
     },
     "metadata": {},
     "output_type": "display_data"
    },
    {
     "data": {
      "text/latex": [
       "$\\displaystyle \\text{Como la derivada en este punto pasa de ser positiva a negativa, y por lo tanto la función pasa de creciente a decreciente, -3 es un máximo}$"
      ],
      "text/plain": [
       "<IPython.core.display.Math object>"
      ]
     },
     "metadata": {},
     "output_type": "display_data"
    },
    {
     "data": {
      "text/latex": [
       "$\\displaystyle \\text{En 2 la derivada vale }-24$"
      ],
      "text/plain": [
       "<IPython.core.display.Math object>"
      ]
     },
     "metadata": {},
     "output_type": "display_data"
    },
    {
     "data": {
      "text/latex": [
       "$\\displaystyle \\text{En 3 la derivada vale }36$"
      ],
      "text/plain": [
       "<IPython.core.display.Math object>"
      ]
     },
     "metadata": {},
     "output_type": "display_data"
    },
    {
     "data": {
      "text/latex": [
       "$\\displaystyle \\text{Como la derivada en este punto pasa de ser negativa a positiva, y por lo tanto la función pasa de decreciente a creciente, 2 es un mínimo}$"
      ],
      "text/plain": [
       "<IPython.core.display.Math object>"
      ]
     },
     "metadata": {},
     "output_type": "display_data"
    }
   ],
   "source": [
    "# Comprobamos el método anterior:\n",
    "\n",
    "# Comprobamos el -3, que es un máximo\n",
    "display(Math(\n",
    "    '\\\\text{En -4 la derivada vale }'\n",
    "    + sp.latex(exp_dx.subs(x,-4))\n",
    "))\n",
    "display(Math(\n",
    "    '\\\\text{En -2 la derivada vale }'\n",
    "    + sp.latex(exp_dx.subs(x,-2))\n",
    "))\n",
    "display(Math(\n",
    "    '\\\\text{Como la derivada en este punto pasa de ser positiva a negativa, y por lo tanto la función pasa de creciente a decreciente, -3 es un máximo}'\n",
    "))\n",
    "\n",
    "# Comprobamos el 2 que es un mínimo\n",
    "display(Math(\n",
    "    '\\\\text{En 2 la derivada vale }'\n",
    "    + sp.latex(exp_dx.subs(x,1))\n",
    "))\n",
    "display(Math(\n",
    "    '\\\\text{En 3 la derivada vale }'\n",
    "    + sp.latex(exp_dx.subs(x,3))\n",
    "))\n",
    "display(Math(\n",
    "    '\\\\text{Como la derivada en este punto pasa de ser negativa a positiva, y por lo tanto la función pasa de decreciente a creciente, 2 es un mínimo}'\n",
    "))\n"
   ]
  },
  {
   "cell_type": "markdown",
   "metadata": {},
   "source": [
    "## Concavidad y convexidad de una función\n",
    "Cuando la función es cóncava, la función derivada es una función decreciente. A su vez, si la función derivada es decreciente, su derivada (es decir, la derivada segunda de la función original) tiene que ser negativa\n",
    "$$\\boxed{\\text{Una función es cóncava en aquellos puntos en que su derivada segunda es negativa}}$$\n",
    "\n",
    "Cuando la función es convexa, la función derivada es una función creciente. A su vez, si la función derivada es creciente, la derivada segunda de la función original tiene que ser positiva.\n",
    "$$\\boxed{\\text{Una función es convexa en aquellos puntos en que su derivada segunda es positiva}}$$\n"
   ]
  },
  {
   "cell_type": "markdown",
   "metadata": {},
   "source": []
  },
  {
   "cell_type": "code",
   "execution_count": 222,
   "metadata": {},
   "outputs": [
    {
     "data": {
      "text/latex": [
       "$\\displaystyle \\text{La funcion derivada segunda es negativa en: }-\\infty < x \\wedge x < - \\frac{1}{2}$"
      ],
      "text/plain": [
       "<IPython.core.display.Math object>"
      ]
     },
     "metadata": {},
     "output_type": "display_data"
    },
    {
     "data": {
      "text/latex": [
       "$\\displaystyle \\text{La funcion derivada segunda es positiva en: }- \\frac{1}{2} < x \\wedge x < \\infty$"
      ],
      "text/plain": [
       "<IPython.core.display.Math object>"
      ]
     },
     "metadata": {},
     "output_type": "display_data"
    }
   ],
   "source": [
    "## Ejemplo. Estudio de la concavidad y convexidad de una función\n",
    "# Sea la función\n",
    "exp = 2*x**3+3*x**2-36*x\n",
    "\n",
    "# Su derivada es\n",
    "exp_dx = sp.diff(exp,x)\n",
    "\n",
    "# Su segunda derivada es \n",
    "exp_ddx = sp.diff(exp_dx)\n",
    "\n",
    "display(Math(\n",
    "    '\\\\text{La funcion derivada segunda es negativa en: }'\n",
    "    + sp.latex(sp.reduce_inequalities([exp_ddx < 0],x))\n",
    "))\n",
    "display(Math(\n",
    "    '\\\\text{La funcion derivada segunda es positiva en: }'\n",
    "    + sp.latex(sp.reduce_inequalities([exp_ddx > 0],x))\n",
    "))"
   ]
  },
  {
   "cell_type": "code",
   "execution_count": null,
   "metadata": {},
   "outputs": [],
   "source": []
  }
 ],
 "metadata": {
  "kernelspec": {
   "display_name": "Practica",
   "language": "python",
   "name": "python3"
  },
  "language_info": {
   "codemirror_mode": {
    "name": "ipython",
    "version": 3
   },
   "file_extension": ".py",
   "mimetype": "text/x-python",
   "name": "python",
   "nbconvert_exporter": "python",
   "pygments_lexer": "ipython3",
   "version": "3.12.2"
  }
 },
 "nbformat": 4,
 "nbformat_minor": 2
}

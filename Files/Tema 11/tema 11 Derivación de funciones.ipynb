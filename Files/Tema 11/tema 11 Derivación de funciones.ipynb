{
 "cells": [
  {
   "cell_type": "markdown",
   "metadata": {},
   "source": [
    "# Tema 11: Derivación de Funciones"
   ]
  },
  {
   "cell_type": "code",
   "execution_count": 6,
   "metadata": {},
   "outputs": [],
   "source": [
    "from IPython.display import display, Math, Latex\n",
    "from matplotlib import pyplot as plt\n",
    "import sympy as sp\n",
    "import numpy as np"
   ]
  },
  {
   "cell_type": "code",
   "execution_count": 7,
   "metadata": {},
   "outputs": [],
   "source": [
    "x = sp.symbols('x')"
   ]
  },
  {
   "cell_type": "code",
   "execution_count": 8,
   "metadata": {},
   "outputs": [],
   "source": [
    "# metodos\n",
    "\n",
    "def mostrarDerivada (f):\n",
    "    \"\"\"\n",
    "    Función que muestra la expresion de la funcion pasada por parametro y el resultado de su derivada\n",
    "    :param f: expresion para calcular la derivada\n",
    "    \"\"\"\n",
    "    display(Math(\n",
    "    '\\\\text{La derivada de }' \n",
    "    + sp.latex(f) \n",
    "    + '\\\\text{ es }'\n",
    "    + sp.latex(sp.diff(f,x))\n",
    "    )\n",
    ")"
   ]
  },
  {
   "cell_type": "markdown",
   "metadata": {},
   "source": [
    "## 11.1 Derivada de una función en un punto\n",
    "### 11.1.1 Definición e interpretación\n",
    "La **derivada de una función $f(x)$ en un punto concreto $x_0$** se indica por $f'(x_0)$ y se define mediante un cálculo de este límite:\n",
    "$$\\boxed{f'(x_0)=\\lim_{x\\to x_0} \\frac{f(x_0)-f(x)}{x_0-x}}$$\n",
    "Alternativamente, podemos definir la derivada de la función $f(x)$ en $x_0$ así:\n",
    "$$\\boxed{f'(x_0)= \\lim_{h\\to 0} \\frac{f(x_0+h)-f(x_0)}{h}}$$\n"
   ]
  },
  {
   "cell_type": "code",
   "execution_count": 9,
   "metadata": {},
   "outputs": [
    {
     "data": {
      "image/png": "[encoded data removed]",
      "text/plain": [
       "<Figure size 640x480 with 1 Axes>"
      ]
     },
     "metadata": {},
     "output_type": "display_data"
    }
   ],
   "source": [
    "funcion = x**2\n",
    "x_ = np.linspace(1,10,50) # valores de x\n",
    "fig, ax = plt.subplots()\n",
    "y_ = []\n",
    "\n",
    "for valor in x_:\n",
    "    y_.append(funcion.subs(x,valor))\n",
    "\n",
    "ax.plot(x_, y_)\n",
    "plt.show()\n",
    "\n",
    "\n"
   ]
  },
  {
   "cell_type": "code",
   "execution_count": 10,
   "metadata": {},
   "outputs": [
    {
     "data": {
      "text/latex": [
       "$\\displaystyle \\text{La derivada de }3\\text{ es }0$"
      ],
      "text/plain": [
       "<IPython.core.display.Math object>"
      ]
     },
     "metadata": {},
     "output_type": "display_data"
    },
    {
     "data": {
      "text/latex": [
       "$\\displaystyle \\text{La derivada de }x\\text{ es }1$"
      ],
      "text/plain": [
       "<IPython.core.display.Math object>"
      ]
     },
     "metadata": {},
     "output_type": "display_data"
    },
    {
     "data": {
      "text/latex": [
       "$\\displaystyle \\text{La derivada de }x^{2}\\text{ es }2 x$"
      ],
      "text/plain": [
       "<IPython.core.display.Math object>"
      ]
     },
     "metadata": {},
     "output_type": "display_data"
    },
    {
     "data": {
      "text/latex": [
       "$\\displaystyle \\text{La derivada de }x^{3}\\text{ es }3 x^{2}$"
      ],
      "text/plain": [
       "<IPython.core.display.Math object>"
      ]
     },
     "metadata": {},
     "output_type": "display_data"
    }
   ],
   "source": [
    "# Calculos de las derivadas de los primeros monomios\n",
    "\n",
    "# Calculo de la derivada de una funcion constante\n",
    "f = 3\n",
    "\n",
    "mostrarDerivada(f)\n",
    "\n",
    "# Calculo de la derivada de una funcion lineal\n",
    "f = x\n",
    "\n",
    "mostrarDerivada(f)\n",
    "\n",
    "# Calculo de la derivada de una funcion cuadratica\n",
    "f = x**2\n",
    "\n",
    "mostrarDerivada(f)\n",
    "\n",
    "# Calculo de la derivada de una funcion de grado 3\n",
    "f = x**3\n",
    "\n",
    "mostrarDerivada(f)\n"
   ]
  },
  {
   "cell_type": "code",
   "execution_count": 14,
   "metadata": {},
   "outputs": [
    {
     "data": {
      "text/latex": [
       "$\\displaystyle \\text{La derivada de }2\\text{ es }0$"
      ],
      "text/plain": [
       "<IPython.core.display.Math object>"
      ]
     },
     "metadata": {},
     "output_type": "display_data"
    },
    {
     "data": {
      "text/latex": [
       "$\\displaystyle \\text{La derivada de }x\\text{ es }1$"
      ],
      "text/plain": [
       "<IPython.core.display.Math object>"
      ]
     },
     "metadata": {},
     "output_type": "display_data"
    },
    {
     "data": {
      "text/latex": [
       "$\\displaystyle \\text{La derivada de }x^{5}\\text{ es }5 x^{4}$"
      ],
      "text/plain": [
       "<IPython.core.display.Math object>"
      ]
     },
     "metadata": {},
     "output_type": "display_data"
    },
    {
     "data": {
      "text/latex": [
       "$\\displaystyle \\text{La derivada de }\\sqrt{x}\\text{ es }\\frac{1}{2 \\sqrt{x}}$"
      ],
      "text/plain": [
       "<IPython.core.display.Math object>"
      ]
     },
     "metadata": {},
     "output_type": "display_data"
    },
    {
     "data": {
      "text/latex": [
       "$\\displaystyle \\text{La derivada de }\\sin{\\left(x \\right)}\\text{ es }\\cos{\\left(x \\right)}$"
      ],
      "text/plain": [
       "<IPython.core.display.Math object>"
      ]
     },
     "metadata": {},
     "output_type": "display_data"
    },
    {
     "data": {
      "text/latex": [
       "$\\displaystyle \\text{La derivada de }\\cos{\\left(x \\right)}\\text{ es }- \\sin{\\left(x \\right)}$"
      ],
      "text/plain": [
       "<IPython.core.display.Math object>"
      ]
     },
     "metadata": {},
     "output_type": "display_data"
    },
    {
     "data": {
      "text/latex": [
       "$\\displaystyle \\text{La derivada de }\\tan{\\left(x \\right)}\\text{ es }\\tan^{2}{\\left(x \\right)} + 1$"
      ],
      "text/plain": [
       "<IPython.core.display.Math object>"
      ]
     },
     "metadata": {},
     "output_type": "display_data"
    },
    {
     "data": {
      "text/latex": [
       "$\\displaystyle \\text{La derivada de }2^{x}\\text{ es }2^{x} \\log{\\left(2 \\right)}$"
      ],
      "text/plain": [
       "<IPython.core.display.Math object>"
      ]
     },
     "metadata": {},
     "output_type": "display_data"
    }
   ],
   "source": [
    "# Principales derivadas\n",
    "\n",
    "# Derivada de una constante\n",
    "f= 2\n",
    "mostrarDerivada(f)\n",
    "\n",
    "# Derivada de una incognita de primer grado\n",
    "f = x\n",
    "mostrarDerivada(f)\n",
    "\n",
    "# Derivada de un potencia de grado mayor a uno\n",
    "f = x**5\n",
    "mostrarDerivada(f)\n",
    "\n",
    "# Derivada de una raiz\n",
    "f = sp.sqrt(x)\n",
    "mostrarDerivada(f)\n",
    "\n",
    "# Derivada del seno\n",
    "f = sp.sin(x) \n",
    "mostrarDerivada(f)\n",
    "# Derivada del coseno\n",
    "f = sp.cos(x)\n",
    "mostrarDerivada(f)\n",
    "\n",
    "# Derivada de la tangente\n",
    "f = sp.tan(x)\n",
    "mostrarDerivada(f)\n",
    "\n",
    "# Derivada de una funcion exponencial\n",
    "f=2**x\n",
    "mostrarDerivada(f)\n",
    "\n",
    "# Derivada de una funcion logaritmica\n",
    "\n",
    "# Derivada del arcoseno\n",
    "\n",
    "# Derivada del arcocoseno\n",
    "\n",
    "# Derivada de la arcotangente"
   ]
  },
  {
   "cell_type": "code",
   "execution_count": 12,
   "metadata": {},
   "outputs": [
    {
     "data": {
      "text/latex": [
       "$\\displaystyle - \\frac{\\cos{\\left(x \\right)}}{\\sin^{2}{\\left(x \\right)}}$"
      ],
      "text/plain": [
       "-cos(x)/sin(x)**2"
      ]
     },
     "execution_count": 12,
     "metadata": {},
     "output_type": "execute_result"
    }
   ],
   "source": [
    "f = sp.sin(x)**-1 \n",
    "sp.diff(f)"
   ]
  },
  {
   "cell_type": "code",
   "execution_count": null,
   "metadata": {},
   "outputs": [],
   "source": []
  }
 ],
 "metadata": {
  "kernelspec": {
   "display_name": "Practica",
   "language": "python",
   "name": "python3"
  },
  "language_info": {
   "codemirror_mode": {
    "name": "ipython",
    "version": 3
   },
   "file_extension": ".py",
   "mimetype": "text/x-python",
   "name": "python",
   "nbconvert_exporter": "python",
   "pygments_lexer": "ipython3",
   "version": "3.12.2"
  }
 },
 "nbformat": 4,
 "nbformat_minor": 2
}

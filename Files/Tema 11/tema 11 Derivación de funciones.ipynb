{
 "cells": [
  {
   "cell_type": "markdown",
   "metadata": {},
   "source": [
    "# Tema 11: Derivación de Funciones"
   ]
  },
  {
   "cell_type": "code",
   "execution_count": 41,
   "metadata": {},
   "outputs": [],
   "source": [
    "from IPython.display import display, Math, Latex\n",
    "from matplotlib import pyplot as plt\n",
    "import sympy as sp\n",
    "from sympy.utilities.lambdify import lambdify, implemented_function\n",
    "import numpy as np"
   ]
  },
  {
   "cell_type": "code",
   "execution_count": 7,
   "metadata": {},
   "outputs": [],
   "source": [
    "x = sp.symbols('x')"
   ]
  },
  {
   "cell_type": "code",
   "execution_count": 8,
   "metadata": {},
   "outputs": [],
   "source": [
    "# metodos\n",
    "\n",
    "def mostrarDerivada (f):\n",
    "    \"\"\"\n",
    "    Función que muestra la expresion de la funcion pasada por parametro y el resultado de su derivada\n",
    "    :param f: expresion para calcular la derivada\n",
    "    \"\"\"\n",
    "    display(Math(\n",
    "    '\\\\text{La derivada de }' \n",
    "    + sp.latex(f) \n",
    "    + '\\\\text{ es }'\n",
    "    + sp.latex(sp.diff(f,x))\n",
    "    )\n",
    ")"
   ]
  },
  {
   "cell_type": "markdown",
   "metadata": {},
   "source": [
    "## 11.1 Derivada de una función en un punto\n",
    "### 11.1.1 Definición e interpretación\n",
    "La **derivada de una función $f(x)$ en un punto concreto $x_0$** se indica por $f'(x_0)$ y se define mediante un cálculo de este límite:\n",
    "$$\\boxed{f'(x_0)=\\lim_{x\\to x_0} \\frac{f(x_0)-f(x)}{x_0-x}}$$\n",
    "Alternativamente, podemos definir la derivada de la función $f(x)$ en $x_0$ así:\n",
    "$$\\boxed{f'(x_0)= \\lim_{h\\to 0} \\frac{f(x_0+h)-f(x_0)}{h}}$$\n"
   ]
  },
  {
   "cell_type": "code",
   "execution_count": 9,
   "metadata": {},
   "outputs": [
    {
     "data": {
      "image/png": "[encoded data removed]",
      "text/plain": [
       "<Figure size 640x480 with 1 Axes>"
      ]
     },
     "metadata": {},
     "output_type": "display_data"
    }
   ],
   "source": [
    "funcion = x**2\n",
    "x_ = np.linspace(1,10,50) # valores de x\n",
    "fig, ax = plt.subplots()\n",
    "y_ = []\n",
    "\n",
    "for valor in x_:\n",
    "    y_.append(funcion.subs(x,valor))\n",
    "\n",
    "ax.plot(x_, y_)\n",
    "plt.show()\n",
    "\n",
    "\n"
   ]
  },
  {
   "cell_type": "code",
   "execution_count": 10,
   "metadata": {},
   "outputs": [
    {
     "data": {
      "text/latex": [
       "$\\displaystyle \\text{La derivada de }3\\text{ es }0$"
      ],
      "text/plain": [
       "<IPython.core.display.Math object>"
      ]
     },
     "metadata": {},
     "output_type": "display_data"
    },
    {
     "data": {
      "text/latex": [
       "$\\displaystyle \\text{La derivada de }x\\text{ es }1$"
      ],
      "text/plain": [
       "<IPython.core.display.Math object>"
      ]
     },
     "metadata": {},
     "output_type": "display_data"
    },
    {
     "data": {
      "text/latex": [
       "$\\displaystyle \\text{La derivada de }x^{2}\\text{ es }2 x$"
      ],
      "text/plain": [
       "<IPython.core.display.Math object>"
      ]
     },
     "metadata": {},
     "output_type": "display_data"
    },
    {
     "data": {
      "text/latex": [
       "$\\displaystyle \\text{La derivada de }x^{3}\\text{ es }3 x^{2}$"
      ],
      "text/plain": [
       "<IPython.core.display.Math object>"
      ]
     },
     "metadata": {},
     "output_type": "display_data"
    }
   ],
   "source": [
    "# Calculos de las derivadas de los primeros monomios\n",
    "\n",
    "# Calculo de la derivada de una funcion constante\n",
    "f = 3\n",
    "\n",
    "mostrarDerivada(f)\n",
    "\n",
    "# Calculo de la derivada de una funcion lineal\n",
    "f = x\n",
    "\n",
    "mostrarDerivada(f)\n",
    "\n",
    "# Calculo de la derivada de una funcion cuadratica\n",
    "f = x**2\n",
    "\n",
    "mostrarDerivada(f)\n",
    "\n",
    "# Calculo de la derivada de una funcion de grado 3\n",
    "f = x**3\n",
    "\n",
    "mostrarDerivada(f)\n"
   ]
  },
  {
   "cell_type": "code",
   "execution_count": 40,
   "metadata": {},
   "outputs": [
    {
     "data": {
      "text/latex": [
       "$\\displaystyle \\text{La derivada de }2\\text{ es }0$"
      ],
      "text/plain": [
       "<IPython.core.display.Math object>"
      ]
     },
     "metadata": {},
     "output_type": "display_data"
    },
    {
     "data": {
      "text/latex": [
       "$\\displaystyle \\text{La derivada de }x\\text{ es }1$"
      ],
      "text/plain": [
       "<IPython.core.display.Math object>"
      ]
     },
     "metadata": {},
     "output_type": "display_data"
    },
    {
     "data": {
      "text/latex": [
       "$\\displaystyle \\text{La derivada de }x^{5}\\text{ es }5 x^{4}$"
      ],
      "text/plain": [
       "<IPython.core.display.Math object>"
      ]
     },
     "metadata": {},
     "output_type": "display_data"
    },
    {
     "data": {
      "text/latex": [
       "$\\displaystyle \\text{La derivada de }\\sqrt{x}\\text{ es }\\frac{1}{2 \\sqrt{x}}$"
      ],
      "text/plain": [
       "<IPython.core.display.Math object>"
      ]
     },
     "metadata": {},
     "output_type": "display_data"
    },
    {
     "data": {
      "text/latex": [
       "$\\displaystyle \\text{La derivada de }\\sin{\\left(x \\right)}\\text{ es }\\cos{\\left(x \\right)}$"
      ],
      "text/plain": [
       "<IPython.core.display.Math object>"
      ]
     },
     "metadata": {},
     "output_type": "display_data"
    },
    {
     "data": {
      "text/latex": [
       "$\\displaystyle \\text{La derivada de }\\cos{\\left(x \\right)}\\text{ es }- \\sin{\\left(x \\right)}$"
      ],
      "text/plain": [
       "<IPython.core.display.Math object>"
      ]
     },
     "metadata": {},
     "output_type": "display_data"
    },
    {
     "data": {
      "text/latex": [
       "$\\displaystyle \\text{La derivada de }\\tan{\\left(x \\right)}\\text{ es }\\tan^{2}{\\left(x \\right)} + 1$"
      ],
      "text/plain": [
       "<IPython.core.display.Math object>"
      ]
     },
     "metadata": {},
     "output_type": "display_data"
    },
    {
     "data": {
      "text/latex": [
       "$\\displaystyle \\text{La derivada de }2^{x}\\text{ es }2^{x} \\log{\\left(2 \\right)}$"
      ],
      "text/plain": [
       "<IPython.core.display.Math object>"
      ]
     },
     "metadata": {},
     "output_type": "display_data"
    },
    {
     "data": {
      "text/latex": [
       "$\\displaystyle \\text{La derivada de }\\operatorname{asin}{\\left(x \\right)}\\text{ es }\\frac{1}{\\sqrt{1 - x^{2}}}$"
      ],
      "text/plain": [
       "<IPython.core.display.Math object>"
      ]
     },
     "metadata": {},
     "output_type": "display_data"
    },
    {
     "data": {
      "text/latex": [
       "$\\displaystyle \\text{La derivada de }\\operatorname{acos}{\\left(x \\right)}\\text{ es }- \\frac{1}{\\sqrt{1 - x^{2}}}$"
      ],
      "text/plain": [
       "<IPython.core.display.Math object>"
      ]
     },
     "metadata": {},
     "output_type": "display_data"
    },
    {
     "data": {
      "text/latex": [
       "$\\displaystyle \\text{La derivada de }\\operatorname{atan}{\\left(x \\right)}\\text{ es }\\frac{1}{x^{2} + 1}$"
      ],
      "text/plain": [
       "<IPython.core.display.Math object>"
      ]
     },
     "metadata": {},
     "output_type": "display_data"
    }
   ],
   "source": [
    "# Principales derivadas\n",
    "\n",
    "# Derivada de una constante\n",
    "f= 2\n",
    "mostrarDerivada(f)\n",
    "\n",
    "# Derivada de una incognita de primer grado\n",
    "f = x\n",
    "mostrarDerivada(f)\n",
    "\n",
    "# Derivada de un potencia de grado mayor a uno\n",
    "f = x**5\n",
    "mostrarDerivada(f)\n",
    "\n",
    "# Derivada de una raiz\n",
    "f = sp.sqrt(x)\n",
    "mostrarDerivada(f)\n",
    "\n",
    "# Derivada del seno\n",
    "f = sp.sin(x) \n",
    "mostrarDerivada(f)\n",
    "# Derivada del coseno\n",
    "f = sp.cos(x)\n",
    "mostrarDerivada(f)\n",
    "\n",
    "# Derivada de la tangente\n",
    "f = sp.tan(x)\n",
    "mostrarDerivada(f)\n",
    "\n",
    "# Derivada de una funcion exponencial (python lo hace diferente)\n",
    "f=2**x\n",
    "mostrarDerivada(f)\n",
    "\n",
    "# Derivada de una funcion logaritmica (python lo hace diferente)\n",
    "\n",
    "# Derivada del arcoseno\n",
    "f = sp.asin(x)\n",
    "mostrarDerivada(f)\n",
    "\n",
    "# Derivada del arcocoseno\n",
    "f = sp.acos(x)\n",
    "mostrarDerivada(f)\n",
    "\n",
    "# Derivada de la arcotangente\n",
    "f = sp.atan(x)\n",
    "mostrarDerivada(f)"
   ]
  },
  {
   "cell_type": "code",
   "execution_count": 76,
   "metadata": {},
   "outputs": [
    {
     "data": {
      "image/png": "[encoded data removed]",
      "text/plain": [
       "<Figure size 640x480 with 1 Axes>"
      ]
     },
     "metadata": {},
     "output_type": "display_data"
    },
    {
     "data": {
      "text/latex": [
       "$\\displaystyle \\text{La recta tangente en el punto (0,0) es una recta horizontal, por lo qu su pendiente es 0.}\n",
       "\\text{ Es decir f'(0) = }0$"
      ],
      "text/plain": [
       "<IPython.core.display.Math object>"
      ]
     },
     "metadata": {},
     "output_type": "display_data"
    },
    {
     "data": {
      "text/latex": [
       "$\\displaystyle \\text{La derivada es la misma para valores con el mismo valor absoluto}\n",
       "\\text{ Es decir f'(0.7) = }1.47\n",
       "\\text{ y f'(-0.7) = }1.47$"
      ],
      "text/plain": [
       "<IPython.core.display.Math object>"
      ]
     },
     "metadata": {},
     "output_type": "display_data"
    },
    {
     "data": {
      "text/plain": [
       "1.4699999999999998"
      ]
     },
     "execution_count": 76,
     "metadata": {},
     "output_type": "execute_result"
    }
   ],
   "source": [
    "# Estudiamos la función cúbica\n",
    "exp = x**3\n",
    "f = lambdify(x, exp)\n",
    "exp_dx=sp.diff(exp)\n",
    "f_dx = lambdify(x,exp_dx)\n",
    "x_ = np.linspace(-1.7, 1.7, 100)\n",
    "\n",
    "# Ejes de coordenadas\n",
    "plt.axhline(y = f_dx(0), color='red', linestyle='--')\n",
    "plt.axvline(x = 0, color='red', linestyle='--')\n",
    "\n",
    "# Grafica de la funcion ys su derivada\n",
    "plt.plot(x_,f(x_))\n",
    "plt.plot(x_,f_dx(x_))\n",
    "plt.grid(True)\n",
    "\n",
    "plt.show()\n",
    "\n",
    "display(Math(\n",
    "    '\\\\text{La recta tangente en el punto (0,0) es una recta horizontal, por lo qu su pendiente es 0.}'\n",
    "    + '\\n\\\\text{ Es decir f\\'(0) = }'\n",
    "    + sp.latex(f_dx(0))\n",
    "))\n",
    "\n",
    "display(Math(\n",
    "    '\\\\text{La derivada es la misma para valores con el mismo valor absoluto.}'\n",
    "    + '\\n\\\\text{ Es decir f\\'(0.7) = }'\n",
    "    + sp.latex(f_dx(0.7))\n",
    "    + '\\n\\\\text{ y f\\'(-0.7) = }'\n",
    "    + sp.latex(f_dx(-0.7))\n",
    "))\n",
    "\n",
    "f_dx(-0.7)\n"
   ]
  },
  {
   "cell_type": "markdown",
   "metadata": {},
   "source": [
    "## Reglas de calculo de las derivadas\n",
    "\n",
    "- La **derivada de la suma** (y resta) de dos funciones es igual a la suma (resta) de las derivadas de cada una de las funciones\n",
    "\n",
    "- La **derivada del producto** de dos funciones es igual a la derivada de la primera función multiplicada por la segunda función sin derivar más el producto de la primera función sin derivar por la derivada de la segunda función\n",
    "\n",
    "- La **derivada del cociente** de dos funciones es igual a la derivada de la función del numerador multiplicada por la función del denominador sin derivar menos el producto de la función del numerador sin derivar por la derivada de la función del denominador, todo esto dividido por el cuadrado de la función del denominador sin derivar\n"
   ]
  },
  {
   "cell_type": "code",
   "execution_count": 37,
   "metadata": {},
   "outputs": [
    {
     "ename": "AttributeError",
     "evalue": "module 'sympy' has no attribute 'implemented_function'",
     "output_type": "error",
     "traceback": [
      "\u001b[1;31m---------------------------------------------------------------------------\u001b[0m",
      "\u001b[1;31mAttributeError\u001b[0m                            Traceback (most recent call last)",
      "Cell \u001b[1;32mIn[37], line 1\u001b[0m\n\u001b[1;32m----> 1\u001b[0m f \u001b[38;5;241m=\u001b[39m sp\u001b[38;5;241m.\u001b[39mimplemented_function(\u001b[38;5;124m'\u001b[39m\u001b[38;5;124mf\u001b[39m\u001b[38;5;124m'\u001b[39m, \u001b[38;5;28;01mlambda\u001b[39;00m x:x\u001b[38;5;241m+\u001b[39m\u001b[38;5;241m1\u001b[39m)\n",
      "\u001b[1;31mAttributeError\u001b[0m: module 'sympy' has no attribute 'implemented_function'"
     ]
    }
   ],
   "source": [
    "f = sp.implemented_function('f', lambda x:x+1)"
   ]
  }
 ],
 "metadata": {
  "kernelspec": {
   "display_name": "Practica",
   "language": "python",
   "name": "python3"
  },
  "language_info": {
   "codemirror_mode": {
    "name": "ipython",
    "version": 3
   },
   "file_extension": ".py",
   "mimetype": "text/x-python",
   "name": "python",
   "nbconvert_exporter": "python",
   "pygments_lexer": "ipython3",
   "version": "3.12.2"
  }
 },
 "nbformat": 4,
 "nbformat_minor": 2
}

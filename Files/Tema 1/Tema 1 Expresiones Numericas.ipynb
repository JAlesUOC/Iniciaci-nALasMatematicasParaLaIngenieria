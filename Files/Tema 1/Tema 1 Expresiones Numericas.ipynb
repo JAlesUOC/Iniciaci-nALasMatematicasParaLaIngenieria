{
 "cells": [
  {
   "cell_type": "code",
   "execution_count": 1,
   "id": "initial_id",
   "metadata": {
    "collapsed": true,
    "ExecuteTime": {
     "end_time": "2024-02-20T21:49:36.839330700Z",
     "start_time": "2024-02-20T21:49:35.823042800Z"
    }
   },
   "outputs": [],
   "source": [
    "import matplotlib.pyplot as plt\n",
    "import numpy as np \n",
    "import sympy as sym\n",
    "from IPython.display import display,Math"
   ]
  },
  {
   "cell_type": "markdown",
   "source": [
    "# Tema 1: Números"
   ],
   "metadata": {
    "collapsed": false
   },
   "id": "241f3716a9b9bf2c"
  },
  {
   "cell_type": "markdown",
   "source": [
    "## Tema 1 Expresiones Numericas\n",
    "Una de las maneras habituales de representar los números es en una recta, que recibe el nombre de **recta numérica**\n",
    "Empezamos con los números enteros, que por sus características se representan como infinitos puntos equidistantes\n",
    "- No hay ningún número entero que sea el primero ni tampoco el último. Este hecho no se cumple con los números\n",
    "naturales, en los cuales el menor siempre es el 1.\n",
    "- Un número entero y el siguiente siempre se diferencian por una unidad\n",
    "- Los números enteros se pueden listar ordenados de izquierda a derecha y, evidentemente, esta lista siempre es incompleta\n",
    "\n",
    "También es posible representar números enteros no consecutivos, aunque la diferencia entre uno y el siguiente siempre tiene que ser habitualmente la misma.\n",
    "\n",
    "El 0 no hace falta que esté en el centro de la representación; incluso puede no estar entre los números representados"
   ],
   "metadata": {
    "collapsed": false
   },
   "id": "445cab295a3e38a8"
  },
  {
   "cell_type": "code",
   "outputs": [
    {
     "data": {
      "text/plain": "<Figure size 640x480 with 1 Axes>",
      "image/png": "[encoded data removed]"
     },
     "metadata": {},
     "output_type": "display_data"
    }
   ],
   "source": [
    "x=[-7,-6,-5,-4,-3,-2,-1,0,1,2,3,4,5,6,7]\n",
    "\n",
    "for x in x:\n",
    "    plt.plot(x,0,'o')\n",
    "\n",
    "plt.plot([-8,8],[0,0],'r', label = 'Recta Numérica')\n",
    "\n",
    "plt.axis([-8,8,-1,1])\n",
    "plt.legend()\n",
    "plt.grid()\n",
    "plt.show()"
   ],
   "metadata": {
    "collapsed": false,
    "ExecuteTime": {
     "end_time": "2024-02-20T21:49:37.058505900Z",
     "start_time": "2024-02-20T21:49:36.843541800Z"
    }
   },
   "id": "61bcd1c0900a19e0",
   "execution_count": 2
  },
  {
   "cell_type": "markdown",
   "source": [
    "## Representación Números Racionales\n",
    "En cuanto a los números racionales, recordemos que entre dos números racionales diferentes siempre podemos encontrar otro. Esta circunstancia permite prever que los números racionales pueden cubrir muchos más puntos de la recta en la cual se representan, y siempre podremos ampliar una sección cualquiera de esta recta porque siempre encontraremos más números racionales."
   ],
   "metadata": {
    "collapsed": false
   },
   "id": "13cc9a6f3c7c9230"
  },
  {
   "cell_type": "markdown",
   "source": [
    "## Representación Números Reales\n",
    "Los números reales (igual que los anteriores) están ordenados de menor a mayor. Así, se pueden representar los números reales en una recta, que denominaremos **recta real**. El hecho de que haya muchos más números irracionales que racionales da una idea de los \"vacíos\" que hay en la representación de los números racionales en una recta. Esto no pasa con los números reales: la recta real está completamente llena de\n",
    "números reales; es decir, cada punto de la recta se corresponde con un número real.\n"
   ],
   "metadata": {
    "collapsed": false
   },
   "id": "faee596d6d03601e"
  },
  {
   "cell_type": "markdown",
   "source": [
    "**Intervalos**. Un intervalo es el conjunto de to dos los números más pequeños (o iguales) que un número dado y más grandes (o iguales) que otro. Estos dos números son los extremos del intervalo\n",
    "\n",
    "En cada intervalo se tiene que indicar si alguno de los extremos está incluido en el intervalo en cuestión: si un extremo pertenece al intervalo, se denomina intervalo cerrado por este extremo (y se denota con un corchete); si un extremo no pertenece\n",
    "al intervalo, se denomina intervalo abierto por este extremo (y se denota con un paréntesis)\n",
    "\n",
    "A veces, se tiene que representar un intervalo que tiene un extremo, pero no el otro; se usa el símbolo $\\infty$ (con signo + o -), que se lee \"infinito\""
   ],
   "metadata": {
    "collapsed": false
   },
   "id": "6e4208d2207958b4"
  },
  {
   "cell_type": "markdown",
   "source": [
    "### Notación Científica\n",
    "Muchas ciencias requieren números muy grandes o inusualmente pequeños, por lo que se requiere una notación más compacta y eficiente: **la notación científica**.\n",
    "La expresión se descompone en dos partes:\n",
    "- Un número decimal cuyo el valor absoluto es más grande que 1 o igual, y menor que 10, denominado *mantisa*.\n",
    "- Una potencia de diez, denominada simplemente *exponente*.\n",
    "\n",
    "*El producto de ambos números tiene que coincidir con el número en cuestión*."
   ],
   "metadata": {
    "collapsed": false
   },
   "id": "7b4fa9b5184a8f3d"
  },
  {
   "cell_type": "code",
   "outputs": [
    {
     "name": "stdout",
     "output_type": "stream",
     "text": [
      "--Usando el método format--\n",
      "5.8E+06\n",
      "5.8E-06\n",
      "--Usando el método fstrings--\n",
      "5.8E+06\n",
      "5.8E-06\n",
      "--Usando el método format_float_scientific--\n",
      "5.8e+06\n",
      "5.8e-06\n"
     ]
    }
   ],
   "source": [
    "# Contenido de: https://www.delftstack.com/es/howto/python/scientific-notation-python/#utilice-la-funci%C3%B3n-numpyformat_float_scientific-para-representar-valores-en-notaci%C3%B3n-cient%C3%ADfica\n",
    "\n",
    "# Representación Científica en Python\n",
    "no1 = float(5800000.00000) # Número muy grande\n",
    "no2 = float(0.0000058) # Número muy pequeño\n",
    "\n",
    "# 1:Usando el método format (E:Indica notación exponencial y .1=Indica que tiene qu haber un dígito después de la coma)\n",
    "print('--Usando el método format--')\n",
    "print(format(no1,'.1E'))\n",
    "print(format(no2,'.1E'))\n",
    "\n",
    "# 2:Usando el método fstrings\n",
    "print('--Usando el método fstrings--')\n",
    "print(f\"{no1:.1E}\")\n",
    "print(f\"{no2:.1E}\")\n",
    "\n",
    "# 3:Usando el método format_float_scientific de la librería numpy\n",
    "print('--Usando el método format_float_scientific--')\n",
    "print(np.format_float_scientific(no1, precision=1, exp_digits=2))\n",
    "print(np.format_float_scientific(no2, precision=2, exp_digits=2))"
   ],
   "metadata": {
    "collapsed": false,
    "ExecuteTime": {
     "end_time": "2024-02-20T21:49:37.139257600Z",
     "start_time": "2024-02-20T21:49:37.062572300Z"
    }
   },
   "id": "44db3c03bddd042d",
   "execution_count": 3
  },
  {
   "cell_type": "markdown",
   "source": [
    "## Número Decimal → Número Notación Científica\n",
    "Para expresar un número que está en notación decimal en notación científica, se tiene que encontrar la primera cifra diferente de cero por la izquierda del número.\n",
    "- La mantisa es igual al número de la cifra de las unidades del cual es precisamente esta cifra diferente de cero y las siguientes del cual forman su sección decimal (evitando escribir ceros innecesarios)\n",
    "- El exponente de la potencia de 10 es igual al número de cifras del número menos uno si el número no tiene decimales (el número es muy grande). En\n",
    "cambio, si se trata de un número con decimales (el número es muy pequeño), el exponente es negativo y es igual, en valor absoluto, al número de ceros del número\n",
    "\n",
    "En todo caso, el exponente cumple las reglas habituales de potenciación"
   ],
   "metadata": {
    "collapsed": false
   },
   "id": "71a8f2961e0ea16f"
  },
  {
   "cell_type": "markdown",
   "source": [
    "## Número Notación Científica → Número Decimal\n",
    "- Si el exponente es negativo, se tiene que desplazar la coma decimal de la\n",
    "mantisa hacia la izquierda tantas posiciones como indique el número del exponente (sin signo), añadiendo tantos 0 como sea necesario.\n",
    "- Si el exponente es positivo, se tiene que desplazar la coma decimal de la mantisa hacia la derecha tantas posiciones como indique el exponente, añadiendo los 0 que hagan falta\n"
   ],
   "metadata": {
    "collapsed": false
   },
   "id": "393dcccf0df0db3a"
  },
  {
   "cell_type": "markdown",
   "source": [
    "## Igualdades Notables\n",
    "Algunos cálculos acostumbran a aparecer recurrentemente en varios contextos matemáticos. Normalmente, estas expresiones acostumbran a enunciarse en forma de producto de otras expresiones, y por eso se conocen como igualdades notables."
   ],
   "metadata": {
    "collapsed": false
   },
   "id": "f39c78d38dfff25c"
  },
  {
   "cell_type": "code",
   "outputs": [
    {
     "data": {
      "text/plain": "<IPython.core.display.Math object>",
      "text/latex": "$\\displaystyle \\left(a + b\\right)^{2}=a^{2} + 2 a b + b^{2}$"
     },
     "metadata": {},
     "output_type": "display_data"
    },
    {
     "data": {
      "text/plain": "<IPython.core.display.Math object>",
      "text/latex": "$\\displaystyle \\left(a - b\\right)^{2}=a^{2} - 2 a b + b^{2}$"
     },
     "metadata": {},
     "output_type": "display_data"
    },
    {
     "data": {
      "text/plain": "<IPython.core.display.Math object>",
      "text/latex": "$\\displaystyle \\left(a - b\\right) \\left(a + b\\right)=a^{2} - b^{2}$"
     },
     "metadata": {},
     "output_type": "display_data"
    },
    {
     "data": {
      "text/plain": "<IPython.core.display.Math object>",
      "text/latex": "$\\displaystyle \\left(a - b\\right) \\left(a^{3} + a^{2} b + a b^{2} + b^{3}\\right)=a^{4} - b^{4}$"
     },
     "metadata": {},
     "output_type": "display_data"
    },
    {
     "data": {
      "text/plain": "<IPython.core.display.Math object>",
      "text/latex": "$\\displaystyle \\left(a - b\\right) \\left(a^{4} + a^{3} b + a^{2} b^{2} + a b^{3} + b^{4}\\right)=a^{5} - b^{5}$"
     },
     "metadata": {},
     "output_type": "display_data"
    },
    {
     "data": {
      "text/plain": "<IPython.core.display.Math object>",
      "text/latex": "$\\displaystyle \\left(a + b + c\\right)^{2}=a^{2} + 2 a b + 2 a c + b^{2} + 2 b c + c^{2}$"
     },
     "metadata": {},
     "output_type": "display_data"
    }
   ],
   "source": [
    "#Símbolos\n",
    "a = sym.symbols('a')\n",
    "b = sym.symbols('b')\n",
    "c = sym.symbols('c')\n",
    "\n",
    "expresiones = [\n",
    "    (a+b)**2,\n",
    "    (a-b)**2,\n",
    "    (a+b)*(a-b),\n",
    "    (a-b)*(a**3+a**2*b+a*b**2+b**3),\n",
    "    (a-b)*(a**4+a**3*b+a**2*b**2+a*b**3+b**4),\n",
    "    (a+b+c)**2\n",
    "]\n",
    "\n",
    "# Imprimimos la expresión y el resultado\n",
    "for expresion in expresiones:\n",
    "    display(Math(f'{sym.latex(expresion)}={sym.latex(sym.expand(expresion))}'))"
   ],
   "metadata": {
    "collapsed": false,
    "ExecuteTime": {
     "end_time": "2024-02-20T21:49:37.159426900Z",
     "start_time": "2024-02-20T21:49:37.077609200Z"
    }
   },
   "id": "574912c59001b0",
   "execution_count": 4
  },
  {
   "cell_type": "code",
   "outputs": [
    {
     "data": {
      "text/plain": "<IPython.core.display.Math object>",
      "text/latex": "$\\displaystyle \\left(a + b\\right)^{3}=a^{3} + 3 a^{2} b + 3 a b^{2} + b^{3}$"
     },
     "metadata": {},
     "output_type": "display_data"
    },
    {
     "data": {
      "text/plain": "<IPython.core.display.Math object>",
      "text/latex": "$\\displaystyle \\left(a - b\\right)^{3}=a^{3} - 3 a^{2} b + 3 a b^{2} - b^{3}$"
     },
     "metadata": {},
     "output_type": "display_data"
    },
    {
     "data": {
      "text/plain": "<IPython.core.display.Math object>",
      "text/latex": "$\\displaystyle \\left(a + b\\right)^{4}=a^{4} + 4 a^{3} b + 6 a^{2} b^{2} + 4 a b^{3} + b^{4}$"
     },
     "metadata": {},
     "output_type": "display_data"
    }
   ],
   "source": [
    "expresiones3 = [\n",
    "    (a+b)*(a+b)*(a+b),\n",
    "    (a-b)*(a-b)*(a-b),\n",
    "    (a+b)*(a+b)*(a+b)*(a+b)\n",
    "]\n",
    "\n",
    "for expresion in expresiones3:\n",
    "    display(Math(f'{sym.latex(expresion)}={sym.latex(sym.expand(expresion))}'))"
   ],
   "metadata": {
    "collapsed": false,
    "ExecuteTime": {
     "end_time": "2024-02-20T21:49:37.188342300Z",
     "start_time": "2024-02-20T21:49:37.156427600Z"
    }
   },
   "id": "d0e8c6862ca776fe",
   "execution_count": 5
  }
 ],
 "metadata": {
  "kernelspec": {
   "display_name": "Python 3",
   "language": "python",
   "name": "python3"
  },
  "language_info": {
   "codemirror_mode": {
    "name": "ipython",
    "version": 2
   },
   "file_extension": ".py",
   "mimetype": "text/x-python",
   "name": "python",
   "nbconvert_exporter": "python",
   "pygments_lexer": "ipython2",
   "version": "2.7.6"
  }
 },
 "nbformat": 4,
 "nbformat_minor": 5
}

{
 "cells": [
  {
   "cell_type": "code",
   "outputs": [],
   "source": [
    "from math import sqrt,pi,e\n",
    "from IPython.display import display,Math"
   ],
   "metadata": {
    "collapsed": false,
    "ExecuteTime": {
     "end_time": "2024-01-13T17:55:03.709171100Z",
     "start_time": "2024-01-13T17:55:03.597503100Z"
    }
   },
   "id": "c0915c4f18a36ca3",
   "execution_count": 99
  },
  {
   "cell_type": "markdown",
   "source": [
    "# Tema 1: Números"
   ],
   "metadata": {
    "collapsed": false
   },
   "id": "e109a5918460cf4a"
  },
  {
   "cell_type": "markdown",
   "source": [],
   "metadata": {
    "collapsed": false
   },
   "id": "43f1f50401d72b28"
  },
  {
   "cell_type": "markdown",
   "source": [
    "## 1.4 Números Reales"
   ],
   "metadata": {
    "collapsed": false
   },
   "id": "eae9f63f19511f1d"
  },
  {
   "cell_type": "markdown",
   "source": [
    "### Potencias\n",
    "Cuando se tiene una expresión con un grupo de multiplicaciones con los mismos factores, para abreviarla se puede usar una potencia:\n",
    "$a_1\\times a_2 \\times\\ldots\\times a_n=a^n$\n",
    "- La **base** de la potencia, es el número que se multiplica varias veces.\n",
    "- El **exponente** de la potencia, indica el número de veces que se repite la base en la multiplicación.\n",
    "\n",
    "Para designar una potencia, se usa la expresión \"elevado a\".\n",
    "Hay dos casos particulares: \n",
    "- Si el exponente es 2, se utiliza la expresión \"al cuadrado\".\n",
    "- Si el exponente es 3, se utiliza la expresión \"al cubo.\""
   ],
   "metadata": {
    "collapsed": false
   },
   "id": "6d60a60c6d80b413"
  },
  {
   "cell_type": "code",
   "outputs": [
    {
     "name": "stdout",
     "output_type": "stream",
     "text": [
      "Ambas operaciones dan el mismo resultado\n"
     ]
    }
   ],
   "source": [
    "base= 7\n",
    "exponente =4\n",
    "\n",
    "multiplicacion = base*base*base*base\n",
    "potencia=base**exponente\n",
    "\n",
    "# Comprobación de la igualdad del resultado en ambas operaciones\n",
    "if potencia == multiplicacion:\n",
    "    print('Ambas operaciones dan el mismo resultado')\n",
    "else:\n",
    "    print('No es lo mismo elevar un numero, que multiplicar la base tantas veces como diga el exponente')"
   ],
   "metadata": {
    "collapsed": false,
    "ExecuteTime": {
     "end_time": "2024-01-13T17:55:03.720684700Z",
     "start_time": "2024-01-13T17:55:03.707171600Z"
    }
   },
   "id": "ff580e8f4bb9b5b3",
   "execution_count": 100
  },
  {
   "cell_type": "markdown",
   "source": [
    "#### Signo de una potencia\n",
    "Para establecer el signo de la potencia de un número entero, se tienen que tener en cuenta el signo del número y la potencia:\n",
    "- Si el signo del número es positivo, el número resultante será positivo\n",
    "- Si el signo del número es negativo, el número resultante:\n",
    "    - Será positivo si el exponente es par.\n",
    "    - Será negativo si el exponente es impar."
   ],
   "metadata": {
    "collapsed": false
   },
   "id": "b7b0dfc6014c551"
  },
  {
   "cell_type": "code",
   "outputs": [
    {
     "name": "stdout",
     "output_type": "stream",
     "text": [
      "Como la base es positiva el resultado siempre sera positivo: 4096\n",
      "Como la base es negativa, pero el exponente es par el resultado siempre sera positivo: 15625\n",
      "Como la base es negativa, pero el exponente es impar el resultado siempre sera negativo: -823543\n"
     ]
    }
   ],
   "source": [
    "def signopotencia(base,exponente):\n",
    "    \"\"\"\n",
    "    Funcion que devolvera una cadena que expresa el analisis del signo de una potencia\n",
    "    :param base: \n",
    "    :param exponente: \n",
    "    :return: cadena donde se dice si la potencia es positiva o negativa\n",
    "    \"\"\"\n",
    "    \n",
    "    if base >=0:\n",
    "        analisis='Como la base es positiva el resultado siempre sera positivo'\n",
    "    else:\n",
    "        if exponente%2 ==0: # numero par\n",
    "            analisis='Como la base es negativa, pero el exponente es par el resultado siempre sera positivo'\n",
    "        else:\n",
    "            analisis='Como la base es negativa, pero el exponente es impar el resultado siempre sera negativo'\n",
    "    \n",
    "    return analisis\n",
    "\n",
    "# potencias: 2**12, -5**6, -7**7\n",
    "bases=[2,-5,-7]\n",
    "exponentes=[12,6,7]\n",
    "\n",
    "for i in range(0,len(bases)):\n",
    "    print(signopotencia(bases[i],exponentes[i])+': '+ str(bases[i]**exponentes[i]))\n"
   ],
   "metadata": {
    "collapsed": false,
    "ExecuteTime": {
     "end_time": "2024-01-13T17:55:03.782781100Z",
     "start_time": "2024-01-13T17:55:03.726196Z"
    }
   },
   "id": "6fc36ceebd2fba61",
   "execution_count": 101
  },
  {
   "cell_type": "markdown",
   "source": [
    "La potencia de una fracción es igual a otra fracción con los mismos numerador y denominador, pero elevados al exponente de la potencia.\n",
    "$$\\boxed{\\left(\\frac{a}{b}\\right)^n=\\frac{a^n}{b^n}}$$\n",
    "Se puede definir una potencia con exponente negativo, que es igual al inverso de la misma potencia con exponente positivo\n",
    "$$\\boxed{\\left(\\frac{a}{b}\\right)^{-n}=\\frac{1}{\\left(\\frac{a}{b}\\right)^{n}}=\\left(\\frac{b}{a}\\right)^{n}$$"
   ],
   "metadata": {
    "collapsed": false
   },
   "id": "346bd72ae7b7d80"
  },
  {
   "cell_type": "code",
   "outputs": [
    {
     "name": "stdout",
     "output_type": "stream",
     "text": [
      "La igualdad es cierta\n"
     ]
    }
   ],
   "source": [
    "# Primera Igualdad:\n",
    "exp1=(4/2)**3\n",
    "exp2=(4**3/2**3)\n",
    "if exp1==exp2:\n",
    "    print('La igualdad es cierta')\n",
    "else:\n",
    "    print('No se cumple la propiedad')"
   ],
   "metadata": {
    "collapsed": false,
    "ExecuteTime": {
     "end_time": "2024-01-13T17:55:03.783782100Z",
     "start_time": "2024-01-13T17:55:03.739716700Z"
    }
   },
   "id": "2579c10a017c018f",
   "execution_count": 102
  },
  {
   "cell_type": "code",
   "outputs": [
    {
     "name": "stdout",
     "output_type": "stream",
     "text": [
      "La igualdad es cierta\n"
     ]
    }
   ],
   "source": [
    "# Segunda Igualdad\n",
    "exp1=(4/2)**-3\n",
    "exp2=(2**3/4**3)\n",
    "if exp1==exp2:\n",
    "    print('La igualdad es cierta')\n",
    "else:\n",
    "    print('No se cumple la propiedad')\n"
   ],
   "metadata": {
    "collapsed": false,
    "ExecuteTime": {
     "end_time": "2024-01-13T17:55:03.838883300Z",
     "start_time": "2024-01-13T17:55:03.755741400Z"
    }
   },
   "id": "af1ae16972786d29",
   "execution_count": 103
  },
  {
   "cell_type": "markdown",
   "source": [
    "### Raices\n",
    "*La radicación es la operación opuesta a la potenciación.*\n",
    "El número que está en el interior del signo radical se denomina radicando, y el resultado se denomina a veces raíz. \n",
    "- **La raíz cuadrada**. Se trata de la operación opuesta a \"elevar al cuadrado\". Se usa el signo $\\sqrt$, o signo radical, con el número en el interior.\n",
    "- **La raíz cúbica**. Es la operación opuesta a \"elevar al cubo\". Se usa el signo $\\sqrt[3]$ con el número en el interior.\n",
    "- **Otras raíces**. De manera similar a la raíz cúbica, se pueden hacer raíces de diferentes índices.\n",
    "\n",
    "En el caso de los números negativos, se tiene que tener en cuenta que no es posible calcular la raíz de índice par."
   ],
   "metadata": {
    "collapsed": false
   },
   "id": "5790f1ecb5f1db30"
  },
  {
   "cell_type": "code",
   "outputs": [
    {
     "name": "stdout",
     "output_type": "stream",
     "text": [
      "La igualdad es cierta\n"
     ]
    }
   ],
   "source": [
    "# La radicación es la operación inversa de la potenciación (elevo el resultado a la inversa del exponente y obtengo la base\n",
    "base=1786\n",
    "exp1=base**2 # 3189796\n",
    "exp2=sqrt(3189796) # devuelve la expresión en un float\n",
    "if base==exp2: # Interesante: un entero \"x\" es igual a un float \"x.0\"\n",
    "    print('La igualdad es cierta')\n",
    "else:\n",
    "    print('No se cumple la propiedad')\n"
   ],
   "metadata": {
    "collapsed": false,
    "ExecuteTime": {
     "end_time": "2024-01-13T17:55:03.843884400Z",
     "start_time": "2024-01-13T17:55:03.772263700Z"
    }
   },
   "id": "ca34bf21a78b36aa",
   "execution_count": 104
  },
  {
   "cell_type": "markdown",
   "source": [
    "- La raíz de una fracción siempre se puede expresar como una fracción de raíces:(Propiedad de las potencias).\n",
    "$$\\sqrt[n]{\\frac{a}{b}}=\\frac{\\sqrt[n]{a}}{\\sqrt[n]{b}}$$\n",
    "- Toda raíz se puede expresar también como una potencia con exponente con un número fraccionario igual al inverso del índice\n",
    "$$\\sqrt[n]{a}=a^{\\frac{1}{n}}$$\n",
    "- De este modo, se puede expresar conjuntamente la raíz de una potencia.\n",
    "$$\\sqrt[n]{a^m}=a^{\\frac{m}{n}}$$"
   ],
   "metadata": {
    "collapsed": false
   },
   "id": "493c937f977e97e"
  },
  {
   "cell_type": "code",
   "outputs": [
    {
     "name": "stdout",
     "output_type": "stream",
     "text": [
      "La igualdad es cierta\n"
     ]
    }
   ],
   "source": [
    "# Tenemos que redondear las experiones porque python tiene un error de aproximación a partir del dígito decimal 13\n",
    "exp1=round(sqrt(25)/sqrt(42),14) # Sin redondeo: 0.7715167498104595\n",
    "exp2=round(sqrt(25/42),14) # Sin redondeo: 0.7715167498104596\n",
    "if exp1==exp2: \n",
    "    print('La igualdad es cierta')\n",
    "else:\n",
    "    print('No se cumple la propiedad')"
   ],
   "metadata": {
    "collapsed": false,
    "ExecuteTime": {
     "end_time": "2024-01-13T17:55:03.856915700Z",
     "start_time": "2024-01-13T17:55:03.787293100Z"
    }
   },
   "id": "f528b7a164fd5d36",
   "execution_count": 105
  },
  {
   "cell_type": "code",
   "outputs": [
    {
     "data": {
      "text/plain": "<IPython.core.display.Math object>",
      "text/latex": "$\\displaystyle \\sqrt[15]{12345}=1.8739848387186724$"
     },
     "metadata": {},
     "output_type": "display_data"
    }
   ],
   "source": [
    "# La segunda propiedad nos permite calcular cualquier raíz en python, ya que el método sqrt solo nos permite calcular raíces cuadradas\n",
    "radicando=12345\n",
    "indice=15\n",
    "raiz15=radicando**(1/indice)\n",
    "display(Math(f'\\\\sqrt[{indice}]{{{radicando}}}={raiz15}'))"
   ],
   "metadata": {
    "collapsed": false,
    "ExecuteTime": {
     "end_time": "2024-01-13T17:55:03.918013400Z",
     "start_time": "2024-01-13T17:55:03.802817700Z"
    }
   },
   "id": "57e21c51f42b98",
   "execution_count": 106
  },
  {
   "cell_type": "markdown",
   "source": [
    "### Propiedades potencias y raíces\n",
    "- Potencia de exponente 1. El resultado de una potencia de exponente 1 es igual\n",
    "a la base: $\\boxed{a^1=a}$\n",
    "- Producto de potencias de la misma base. Para multiplicar potencias con la misma base, basta con sumar los exponentes dejando la base sin modificaciones: $\\boxed{a^n\\cdot a^m=a^{n+m}}$\n",
    "- Cociente de potencias de la misma base. Para dividir potencias con la misma base, basta con restar los exponentes dejando la base sin modificaciones: $\\boxed{a^n\\div a^m=a^{n-m}}$\n",
    "- Potencia de exponente 0. Cualquier potencia (con base diferente del 0) de exponente 0 resulta siempre igual a 1: $\\boxed{a^0=1}$\n",
    "- Potencia de una potencia. El resultado de elevar una potencia cualquiera a otro exponente es igual a una potencia que tiene por base la base de la potencia, y el exponente de la cual es el producto de exponentes: $(a^n)^m=a^{n\\cdot m}$\n",
    "- Producto de potencias con el mismo exponente. El resultado de multiplicar varias potencias con el mismo exponente es igual a una potencia la base de la cual es el producto de bases y el exponente de la cual es el exponente común: $\\boxed{a^n\\cdot b^n=(a\\cdot b)^n}$\n",
    "- Cociente de potencias con el mismo exponente. El resultado de dividir dos potencias con el mismo exponente es igual a una potencia cuya base es el cociente de bases y cuyo exponente es el exponente común. $\\boxed{a^n\\div b^n=(a\\div b)^n}$\n",
    "\n",
    "Se tiene que tener en cuenta que estas propiedades son correctas siempre que a, b, p, q sean números racionales correctos para la operación que se tiene que hacer"
   ],
   "metadata": {
    "collapsed": false
   },
   "id": "46d8adc40a3add2f"
  },
  {
   "cell_type": "code",
   "outputs": [
    {
     "data": {
      "text/plain": "<IPython.core.display.Math object>",
      "text/latex": "$\\displaystyle 2^1=2$"
     },
     "metadata": {},
     "output_type": "display_data"
    },
    {
     "data": {
      "text/plain": "<IPython.core.display.Math object>",
      "text/latex": "$\\displaystyle 2^1+2^2=2^3=8$"
     },
     "metadata": {},
     "output_type": "display_data"
    },
    {
     "data": {
      "text/plain": "<IPython.core.display.Math object>",
      "text/latex": "$\\displaystyle 2^1\\div 2^2=2^{-1}=0.5$"
     },
     "metadata": {},
     "output_type": "display_data"
    },
    {
     "data": {
      "text/plain": "<IPython.core.display.Math object>",
      "text/latex": "$\\displaystyle 2^0=1$"
     },
     "metadata": {},
     "output_type": "display_data"
    },
    {
     "data": {
      "text/plain": "<IPython.core.display.Math object>",
      "text/latex": "$\\displaystyle (2^2)^3=2^6=64$"
     },
     "metadata": {},
     "output_type": "display_data"
    },
    {
     "data": {
      "text/plain": "<IPython.core.display.Math object>",
      "text/latex": "$\\displaystyle 2^2\\cdot 2^2=(2\\cdot 2)^2=16$"
     },
     "metadata": {},
     "output_type": "display_data"
    },
    {
     "data": {
      "text/plain": "<IPython.core.display.Math object>",
      "text/latex": "$\\displaystyle 2^2\\div 2^2=(2\\div 2)^2=1.0$"
     },
     "metadata": {},
     "output_type": "display_data"
    }
   ],
   "source": [
    "pot1= 2**1\n",
    "pot2= 2**2\n",
    "pot3= 2**0\n",
    "pot4= pot2**3\n",
    "# Primera propiedad\n",
    "display(Math(f'2^1={pot1}'))\n",
    "# Segunda propiedad\n",
    "display(Math(f'2^1+2^2=2^3={pot1*pot2}'))\n",
    "#Tercera propiedad\n",
    "display(Math(f'2^1\\\\div 2^2=2^{{-1}}={pot1/pot2}'))\n",
    "# Cuarta Propiedad\n",
    "display(Math(f'2^0={pot3}'))\n",
    "# Quinta Propiedad\n",
    "display(Math(f'(2^2)^3=2^6={pot4}'))\n",
    "# Sexta Propiedad\n",
    "display(Math(f'2^2\\\\cdot 2^2=(2\\\\cdot 2)^2={pot2*pot2}'))\n",
    "# Séptima Propiedad\n",
    "display(Math(f'2^2\\\\div 2^2=(2\\\\div 2)^2={pot2/pot2}'))"
   ],
   "metadata": {
    "collapsed": false,
    "ExecuteTime": {
     "end_time": "2024-01-13T17:55:03.937040200Z",
     "start_time": "2024-01-13T17:55:03.819852700Z"
    }
   },
   "id": "dc67550c41c40e95",
   "execution_count": 107
  },
  {
   "cell_type": "markdown",
   "source": [
    "### Aclaración Importante\n",
    "No es lo mismo decir que el producto de potencias es igual a la potencia de la suma, que la suma de potencias es igual a la potencia del producto (esto último es falso). Es decir, no es cierto que: $a^n+a^m=a^{n\\cdot m}$"
   ],
   "metadata": {
    "collapsed": false
   },
   "id": "a8e96f6404985382"
  },
  {
   "cell_type": "code",
   "outputs": [
    {
     "data": {
      "text/plain": "<IPython.core.display.Math object>",
      "text/latex": "$\\displaystyle 2^3+2^5=40\\neq 2^{3\\cdot 5}$"
     },
     "metadata": {},
     "output_type": "display_data"
    }
   ],
   "source": [
    "# Comprobamos la aclaración anterior\n",
    "pot1=2**3\n",
    "pot2=2**5\n",
    "\n",
    "display(Math(f'2^3+2^5={pot1+pot2}\\\\neq 2^{{3\\\\cdot 5}}'))"
   ],
   "metadata": {
    "collapsed": false,
    "ExecuteTime": {
     "end_time": "2024-01-13T17:55:03.940045600Z",
     "start_time": "2024-01-13T17:55:03.851404700Z"
    }
   },
   "id": "1a8a897a84f9da0a",
   "execution_count": 108
  },
  {
   "cell_type": "markdown",
   "source": [
    "### Números irracionales\n",
    "Recordamos que un número racional se tiene que poder expresar en forma de fracción de números enteros o, lo que es lo mismo, en forma de número decimal exacto o periódico. Pero hay números que no se pueden expresar de este modo, puesto que por muchos decimales que se calculen, no aparecen repeticiones constantes de cifras.\n",
    "*La mayor parte de las raíces (de cualquier índice) de cualquier número racional son números irracionales, pero no todos los números irracionales son raíces.*\n",
    "Los números irracionales conocidos se designan con una letra; esto es así porque estos números no se pueden expresar de manera exacta de ninguna otra manera conocida.\n",
    "*En la práctica, se suele utilizar una aproximación decimal (por redondeo) de cualquier número irracional, con el número suficiente de decimales, según la situación real en la que estemos*."
   ],
   "metadata": {
    "collapsed": false
   },
   "id": "bd347d4e4306b2e9"
  },
  {
   "cell_type": "code",
   "outputs": [
    {
     "data": {
      "text/plain": "(1.4142135623730951, 1.7320508075688772)"
     },
     "execution_count": 109,
     "metadata": {},
     "output_type": "execute_result"
    }
   ],
   "source": [
    "# Ejemplos de numeros Irracionales\n",
    "numIrr1=sqrt(2)\n",
    "numIrr2=sqrt(3)\n",
    "\n",
    "numIrr1,numIrr2"
   ],
   "metadata": {
    "collapsed": false,
    "ExecuteTime": {
     "end_time": "2024-01-13T17:55:03.941045700Z",
     "start_time": "2024-01-13T17:55:03.865425500Z"
    }
   },
   "id": "ddcc31f8326c51c2",
   "execution_count": 109
  },
  {
   "cell_type": "markdown",
   "source": [
    "Entre estos números está el denominado pi, que proviene de la letra del alfabeto griego que lo representa, $\\pi$. El número $\\pi$ indica cuántas veces es más grande la longitud de la circunferencia $2\\pi r$, donde $r$ es el radio de la circunferencia) en relación con su diámetro, y su forma decimal es:\n",
    "$$\\pi = 3.1415926535897932384626433832795028841972...$$"
   ],
   "metadata": {
    "collapsed": false
   },
   "id": "7925bb132eb24b53"
  },
  {
   "cell_type": "code",
   "outputs": [
    {
     "data": {
      "text/plain": "3.141592653589793"
     },
     "execution_count": 110,
     "metadata": {},
     "output_type": "execute_result"
    }
   ],
   "source": [
    "# Aproximación en python de Pi\n",
    "pi"
   ],
   "metadata": {
    "collapsed": false,
    "ExecuteTime": {
     "end_time": "2024-01-13T17:55:04.030687400Z",
     "start_time": "2024-01-13T17:55:03.926523900Z"
    }
   },
   "id": "3c35effcaf7d544",
   "execution_count": 110
  },
  {
   "cell_type": "markdown",
   "source": [
    "Otro número irracional muy importante es el denominado número $e$, cuyo valor es:\n",
    "$$e = 2.7182818284590452353602874713526624...$$"
   ],
   "metadata": {
    "collapsed": false
   },
   "id": "4debbbfb05cf969e"
  },
  {
   "cell_type": "code",
   "outputs": [
    {
     "data": {
      "text/plain": "2.718281828459045"
     },
     "execution_count": 111,
     "metadata": {},
     "output_type": "execute_result"
    }
   ],
   "source": [
    "# Aproximación en python de e\n",
    "e"
   ],
   "metadata": {
    "collapsed": false,
    "ExecuteTime": {
     "end_time": "2024-01-13T17:55:04.089788500Z",
     "start_time": "2024-01-13T17:55:04.017172600Z"
    }
   },
   "id": "222bd2c9d355d630",
   "execution_count": 111
  },
  {
   "cell_type": "markdown",
   "source": [
    "## Definición: Números Reales\n",
    "Todos los números, racionales o irracionales, forman parte del denominado conjunto de números reales.\n",
    "El conjunto de todos los números reales se simboliza con $\\mathbb{R}$.\n",
    "Además, cada uno de los conjuntos numéricos estudiados también se designa con un símbolo:\n",
    "- $\\mathbb{N}$ designa el conjunto de números naturales.\n",
    "- $\\mathbb{Z}$ designa el conjunto de números enteros.\n",
    "- $\\mathbb{Q}$ designa el conjunto de números racionales.\n",
    "- $\\mathbb{R}\\setminus \\mathbb{Q}$ designa el conjunto de números irracionales. (La expresión hace referencia a todos los reales \"menos\" los racionales)\n",
    "\n",
    "Los diferentes conjuntos de números (naturales, enteros, racionales y reales) mantienen relaciones de inclusión según lo que hemos visto:\n",
    "$$\\mathbb{N}\\subset\\mathbb{Z}\\subset\\mathbb{Q}\\subset\\mathbb{R}$$\n",
    "Para señalar relaciones de inclusión, se usa el símbolo $\\subset$, que indica que el conjunto que se sitúa a la izquierda es incluido en el conjunto que se sitúa a la derecha. \n"
   ],
   "metadata": {
    "collapsed": false
   },
   "id": "fab135f111931437"
  },
  {
   "cell_type": "markdown",
   "source": [
    "### Operaciones\n",
    "Las operaciones básicas entre números reales son la suma y la multiplicación. La resta y la división se definen a partir de la suma y de la multiplicación.\n",
    "- El **elemento neutro de la suma** es el 0, cuya propiedad principal es: si $a$ es un número real: $\\boxed{a+0=0+a=a}$\n",
    "- El **elemento neutro de la multiplicación** es el 1, cuya propiedad principal es: si $a$ es un número real: $\\boxed{a\\cdot 1 = 1 \\cdot a = a}$"
   ],
   "metadata": {
    "collapsed": false
   },
   "id": "7654aa4006712431"
  },
  {
   "cell_type": "code",
   "outputs": [
    {
     "name": "stdout",
     "output_type": "stream",
     "text": [
      "El elemento neutro de la suma es el 0: 5+0 = 0+5 = 5\n",
      "El elemento neutro de la multiplicación es el 1: 5x1 = 1x5 = 5\n"
     ]
    }
   ],
   "source": [
    "# Elemento Neutro -> Aquel elemento que operado con él, resulta en el mismo elemento que operó con él\n",
    "num = 5\n",
    "# Elemento Neutro:Suma\n",
    "ns = 0\n",
    "print(f'El elemento neutro de la suma es el {ns}: {num}+{ns} = {ns}+{num} = {num+ns}')\n",
    "# Elemento Neutro:Multiplicación\n",
    "np=1\n",
    "print(f'El elemento neutro de la multiplicación es el {np}: {num}x{np} = {np}x{num} = {num*np}')"
   ],
   "metadata": {
    "collapsed": false,
    "ExecuteTime": {
     "end_time": "2024-01-13T17:55:04.094789100Z",
     "start_time": "2024-01-13T17:55:04.054722600Z"
    }
   },
   "id": "ba0890174917070f",
   "execution_count": 112
  },
  {
   "cell_type": "markdown",
   "source": [
    "A partir de estos elementos, se pueden definir:\n",
    "- El opuesto de un número real $a$, que es $−a$ y que cumple: $a+(−a) = (−a)+a = 0$\n",
    "- El inverso de un número real $a$ (excepto el 0), que es $\\frac{1}{a}$ y que cumple: $a\\cdot \\frac{1}{a}= \\frac{1}{a}\\cdot a = 1$\n"
   ],
   "metadata": {
    "collapsed": false
   },
   "id": "15facd9a09bca143"
  },
  {
   "cell_type": "code",
   "outputs": [
    {
     "name": "stdout",
     "output_type": "stream",
     "text": [
      "El opuesto de 5 es -5 porque: 5+(-5)=0\n"
     ]
    },
    {
     "data": {
      "text/plain": "<IPython.core.display.Math object>",
      "text/latex": "$\\displaystyle \\text{El inverso de 5 es } \\frac{1}{5}= 5\\cdot \\frac{1}{5}= 1$"
     },
     "metadata": {},
     "output_type": "display_data"
    }
   ],
   "source": [
    "# Opuesto de un número, es aquel número que operado con otro (del que es el opuesto) resulta en el elemento neutro de la suma\n",
    "op_num=-5\n",
    "print(f'El opuesto de {num} es {op_num} porque: {num}+({op_num})={num+op_num}')\n",
    "# Inverso de un número, es aquel número que operado con otro (del que es el inverso) resulta en el elemento neutro de la multiplicación\n",
    "inv_num=1/5\n",
    "display(Math(f'\\\\text{{El inverso de {num} es }} \\\\frac{{1}}{{{num}}}= {num}\\\\cdot \\\\frac{{1}}{{{num}}}= {int(num*inv_num)}'))"
   ],
   "metadata": {
    "collapsed": false,
    "ExecuteTime": {
     "end_time": "2024-01-13T17:55:04.161909800Z",
     "start_time": "2024-01-13T17:55:04.097309Z"
    }
   },
   "id": "8f6331fee9f4353",
   "execution_count": 113
  },
  {
   "cell_type": "markdown",
   "source": [
    "A partir de estos elementos, se pueden definir:\n",
    "- La resta de dos números, que es igual a la suma con el opuesto\n",
    "- La división de dos números, que es igual a la multiplicación con el inverso\n",
    "- La potenciación de números reales, que es, siempre que sea posible, si $a$ es un número real, $n$ y $m$ son números enteros (todos diferentes de cero):\n",
    "$$a^{-n}=\\frac{1}{a^n}\\quad a^{\\frac{m}{n}}=\\sqrt[n]{a^m}$$"
   ],
   "metadata": {
    "collapsed": false
   },
   "id": "b37d947a0e083e2d"
  },
  {
   "cell_type": "markdown",
   "source": [
    "### Propiedades de las operaciones\n"
   ],
   "metadata": {
    "collapsed": false
   },
   "id": "2dfac06b8b9fe778"
  },
  {
   "cell_type": "markdown",
   "source": [
    "#### Propiedades de la Suma\n",
    "- **Propiedad conmutativa**: El orden de los sumandos en una suma de dos o más números no altera el resultado: $a + b = b + a$ \n",
    "- **Propiedad asociativa**: El resultado de una expresión con dos o más sumas de números enteros no depende del orden como se agrupan las diferentes sumas: $a + b + c = (a + b) + c = a + (b + c)$\n",
    "- **Elemento neutro de la suma** de números igual a 0 es aquel que, sumado a cualquier otro, no lo modifica: $a+ 0 = 0 + a = a$. *Los números naturales no tienen, puesto que 0 no es un número natural.*\n",
    "- **Elemento opuesto** de un número es otro número que, sumado al anterior, es igual al elemento neutro de la suma, es decir, igual a 0. Para calcular el opuesto de un número, únicamente se tiene que cambiar su signo. Todo número tiene un único opuesto y los dos números tienen el mismo valor absoluto. *Los números naturales no tienen opuesto, puesto que en este conjunto no tenemos números negativos*"
   ],
   "metadata": {
    "collapsed": false
   },
   "id": "d1838706e1f8caf2"
  },
  {
   "cell_type": "markdown",
   "source": [
    "#### Propiedades de la Multiplicación\n",
    "- **Propiedad conmutativa**: El orden de los factores de un producto de dos o más números racionales no altera el resultado: $a \\cdot b = b \\cdot a$\n",
    "- **Propiedad asociativa**: El producto de más de dos factores no depende del orden como se hacen las multiplicaciones: $a \\cdot b \\cdot c = (a \\cdot b) \\cdot c = a \\cdot (b \\cdot c)$\n",
    "- **Propiedad distributiva** del producto respecto de la suma. El producto de un número por la suma de dos números es igual a la suma de los productos del primer número por cada uno de los otros dos: $a \\cdot (b + c) = (b + c) \\cdot a = a \\cdot b + a \\cdot c$\n",
    "- **Elemento neutro** del producto. Es aquel que, multiplicado por cualquier otro, no lo modifica. El elemento neutro de la multiplicación del 1 es: $a \\cdot 1 = 1 \\cdot a = a$\n",
    "- **El inverso de un número**. Es el número que cumple que el producto de ambos es igual al elemento neutro del producto, es decir, es igual a 1: $a\\cdot \\frac{1}{a}= \\frac{1}{a}\\cdot a = 1$. *Los números naturales y enteros no tienen inverso; en cambio, todo número real, excepto el 0, tiene un inverso*."
   ],
   "metadata": {
    "collapsed": false
   },
   "id": "860e58e2873b26be"
  },
  {
   "cell_type": "code",
   "outputs": [],
   "source": [],
   "metadata": {
    "collapsed": false,
    "ExecuteTime": {
     "end_time": "2024-01-13T17:55:04.173425Z",
     "start_time": "2024-01-13T17:55:04.152393200Z"
    }
   },
   "id": "ea303978775c1e93",
   "execution_count": 113
  }
 ],
 "metadata": {
  "kernelspec": {
   "display_name": "Python 3",
   "language": "python",
   "name": "python3"
  },
  "language_info": {
   "codemirror_mode": {
    "name": "ipython",
    "version": 2
   },
   "file_extension": ".py",
   "mimetype": "text/x-python",
   "name": "python",
   "nbconvert_exporter": "python",
   "pygments_lexer": "ipython2",
   "version": "2.7.6"
  }
 },
 "nbformat": 4,
 "nbformat_minor": 5
}

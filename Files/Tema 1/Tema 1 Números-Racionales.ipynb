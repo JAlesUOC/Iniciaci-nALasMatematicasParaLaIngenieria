{
 "cells": [
  {
   "cell_type": "code",
   "outputs": [],
   "source": [
    "from IPython.display import display,Math\n",
    "from Files.Modules.funcionescustom import *"
   ],
   "metadata": {
    "collapsed": false,
    "is_executing": true
   },
   "id": "b32b960ace65b6d9",
   "execution_count": null
  },
  {
   "cell_type": "markdown",
   "source": [
    "# Tema 1: Números"
   ],
   "metadata": {
    "collapsed": false
   },
   "id": "5598228c4642bece"
  },
  {
   "cell_type": "markdown",
   "source": [
    "## 1.3 Números Racionales\n",
    "Un número fraccionario (fracción o quebrado) se expresa en forma de cociente de números enteros con una barra entre ambos números, que puede ser horizontal o inclinada.\n",
    "Si se usa la denominación de la barra inclinada se observan dos miembros diferenciados:\n",
    "- El número situado en la parte inferior es el **denominador** que marca en cuantas partes dividimos la unidad.\n",
    "- El número situado en la parte superior es el **númerador** que indica cuantas partes se consideran."
   ],
   "metadata": {
    "collapsed": false
   },
   "id": "837827f366a3b51d"
  },
  {
   "cell_type": "code",
   "outputs": [],
   "source": [
    "entero1=4\n",
    "entero2=3\n",
    "display(Math(f'\\\\text{{Un número racional tiene la forma:}}\\\\frac{{%i}}{{%i}}'%(entero1,entero2)))"
   ],
   "metadata": {
    "collapsed": false,
    "ExecuteTime": {
     "start_time": "2024-02-20T20:56:08.004897500Z"
    }
   },
   "id": "f4533d1a4caa00d7",
   "execution_count": null
  },
  {
   "cell_type": "markdown",
   "source": [
    "Cualquier número entero se puede convertir en un número fraccionario.\n",
    "Este hecho nos muestra como los números enteros son un subconjunto de los números\n",
    "fraccionarios"
   ],
   "metadata": {
    "collapsed": false
   },
   "id": "99e0951ddd9eae58"
  },
  {
   "cell_type": "code",
   "outputs": [],
   "source": [
    "display(Math(f'\\\\text{{Cualquier numero entero como 3, o 4, puede expresarse como un numero racional}}\\\\frac{{%i}}{{1}},\\\\frac{{%i}}{{1}}'%(entero1,entero2)))"
   ],
   "metadata": {
    "collapsed": false,
    "ExecuteTime": {
     "start_time": "2024-02-20T20:56:08.007896100Z"
    }
   },
   "id": "a3563a0124700e33",
   "execution_count": null
  },
  {
   "cell_type": "markdown",
   "source": [
    "### Signo. \n",
    "Tanto el numerador como el denominador de una fracción pueden ser positivos o negativos. Utilizando la regla de los signos para dividir números enteros, se puede deducir el signo final de una fracción\n",
    "\n",
    "Normalmente, el signo de la fracción se antepone al numerador, mientras que el denominador no va precedido de ningún signo, pero también se puede situar antepuesto a la línea fraccionaria, a la misma altura"
   ],
   "metadata": {
    "collapsed": false
   },
   "id": "ac221312a3def90c"
  },
  {
   "cell_type": "code",
   "outputs": [],
   "source": [
    "display(Math(f'\\\\frac{{-%i}}{{1}}=-\\\\frac{{%i}}{{1}}'%(entero1,entero1)))"
   ],
   "metadata": {
    "collapsed": false,
    "ExecuteTime": {
     "end_time": "2024-02-20T20:56:08.011413400Z",
     "start_time": "2024-02-20T20:56:08.010414Z"
    }
   },
   "id": "8a43ebffd9962a90",
   "execution_count": null
  },
  {
   "cell_type": "markdown",
   "source": [
    "### Fracciones equivalentes\n",
    "Cuando dos fracciones expresan el mismo número, se dice que son fracciones equivalentes\n",
    "- La manera más sencilla de encontrar una fracción equivalente a otra consiste en multiplicar tanto el numerador como el denominador de esta por un mismo número.\n",
    "- Si se dividen el numerador y el denominador de una fracción por el mismo número, también se obtiene una fracción equivalente\n",
    "\n",
    "*Hay una prueba sencilla que permite saber cuándo dos fracciones son equivalentes. Se trata de multiplicar el numerador de una por el denominador de la otra, y viceversa*"
   ],
   "metadata": {
    "collapsed": false
   },
   "id": "ea68bdf3a9ce6150"
  },
  {
   "cell_type": "code",
   "outputs": [],
   "source": [
    "def comprobrarfraccionesequivalentes(num1,dem1,num2,dem2):\n",
    "    \"\"\"\n",
    "    Función que comprueba si dos fracciones hacen referencia al mismo número racional\n",
    "    :param num1: numerador de la primera fracción\n",
    "    :param dem1: denominador de la primera fracción\n",
    "    :param num2: numerador de la segunda fracción\n",
    "    :param dem2: denominador de la segunda fracción\n",
    "    :return: True: Son equivalentes ó False: No son equivalentes\n",
    "    \"\"\"\n",
    "    if num1*dem2 ==num2*dem1:\n",
    "        resultado=True\n",
    "    else:\n",
    "        resultado=False\n",
    "    return resultado\n",
    "\n",
    "print(comprobrarfraccionesequivalentes(1,2,2,4))\n",
    "print(comprobrarfraccionesequivalentes(1,3,5,7))"
   ],
   "metadata": {
    "collapsed": false,
    "ExecuteTime": {
     "start_time": "2024-02-20T20:56:08.012413800Z"
    }
   },
   "id": "84d409c1c1aa09f",
   "execution_count": null
  },
  {
   "cell_type": "markdown",
   "source": [
    "### Fracción irreducible\n",
    "Una fracción irreducible se caracteriza por el hecho que numerador y denominador son primos entre ellos, esto es, son números cuyo MCD\n",
    "es 1\n",
    "\n",
    "*El méto do más sencillo para hacerlo consiste en dividir el numerador y el denominador entre su MCD*"
   ],
   "metadata": {
    "collapsed": false
   },
   "id": "6b44587cb6bdadd1"
  },
  {
   "cell_type": "code",
   "outputs": [],
   "source": [
    "from Files.Modules import funcionescustom\n",
    "\n",
    "\n",
    "def fraccionirreducible(num,dem):\n",
    "    \"\"\"\n",
    "    Dados el numerador y el denominador de una fracción, devuelve el numerador y el denominador de la fracción irreducible equivalente a ellos\n",
    "    :param num: Número en el denominador\n",
    "    :param dem: Número en el denominador\n",
    "    :return: numerador y denominador de la fracción irreducible\n",
    "    \"\"\"\n",
    "    factores1=factorizaciondict(num)\n",
    "    factores2=factorizaciondict(dem)\n",
    "    resultado_mcd = mcd(factores1,factores2)\n",
    "    if resultado_mcd  != 1:\n",
    "        num,dem = num/resultado_mcd ,dem/resultado_mcd\n",
    "    return num,dem\n",
    "\n",
    "n,m=fraccionirreducible(9,3)\n",
    "n,m"
   ],
   "metadata": {
    "collapsed": false,
    "ExecuteTime": {
     "start_time": "2024-02-20T20:56:08.015413800Z"
    }
   },
   "id": "ea7d89229ecf5f4",
   "execution_count": null
  },
  {
   "cell_type": "markdown",
   "source": [
    "### Operaciones"
   ],
   "metadata": {
    "collapsed": false
   },
   "id": "c2a43d7b7ab04adf"
  },
  {
   "cell_type": "markdown",
   "source": [
    "#### Suma\n",
    "Para calcularla, diferenciamos dos casos:\n",
    "1. **Fracciones con el mismo denominador** La fracción de la suma de dos números, posee el mismo denominador que los sumandos y su numerador es la suma de los numeradores de los sumandos\n",
    "2. **Fracciones con diferente denominador** En este caso se tiene que sustituir cada una por otra fracción equivalente con el mismo denominador. A continuación, se suman las dos fracciones resultantes tal como se ha explicado en el apartado anterior.\n"
   ],
   "metadata": {
    "collapsed": false
   },
   "id": "62ac61bd57ec15cd"
  },
  {
   "cell_type": "code",
   "outputs": [],
   "source": [
    "# Función suma de fracciones\n",
    "def sumafracciones(num1,den1,num2,den2):\n",
    "    \"\"\"\n",
    "    Función que realiza la suma de las fracciones que se le pasa por parámetro\n",
    "    :param num1: numerador de la primera fracción\n",
    "    :param den1: denominador de la primera fracción\n",
    "    :param num2: numerador de la segunda fracción\n",
    "    :param den2: denominador de la segunda fracción\n",
    "    :return: numerador de la suma, denominador de la suma\n",
    "    \"\"\"\n",
    "    #mismo denominador\n",
    "    if den1==den2:\n",
    "        sden=den1\n",
    "        snum=num1+num2    \n",
    "    else:\n",
    "        factores1=factorizaciondict(den1)\n",
    "        factores2=factorizaciondict(den2)\n",
    "        sden=mcm(factores1,factores2)\n",
    "        snum=num1*(sden/den1)+num2*(sden/den2)\n",
    "    \n",
    "    return snum,sden\n",
    "\n",
    "n,d=sumafracciones(3,18,5,12)\n",
    "n,d\n",
    "        "
   ],
   "metadata": {
    "collapsed": false,
    "ExecuteTime": {
     "start_time": "2024-02-20T20:56:08.016414300Z"
    }
   },
   "id": "e80f8e0378565044",
   "execution_count": null
  },
  {
   "cell_type": "markdown",
   "source": [
    "#### Resta\n",
    "Se reduce a la suma con la fracción opuesta"
   ],
   "metadata": {
    "collapsed": false
   },
   "id": "979b2a3ce8cbd1a9"
  },
  {
   "cell_type": "markdown",
   "source": [
    "#### Multiplicación\n",
    "El resultado de multiplicar dos fracciones es una fracción donde el numerador es el producto de los numeradores y el denominador es el producto de los denominadores"
   ],
   "metadata": {
    "collapsed": false
   },
   "id": "b2c0ad0c015e121f"
  },
  {
   "cell_type": "code",
   "outputs": [],
   "source": [
    "def multiplicarfracciones(num1,den1,num2,den2):\n",
    "    \"\"\"\n",
    "    Función que realiza la multiplicación de las fracciones que se le pasa por parámetro\n",
    "    :param num1: numerador de la primera fracción\n",
    "    :param den1: denominador de la primera fracción\n",
    "    :param num2: numerador de la segunda fracción\n",
    "    :param den2: denominador de la segunda fracción\n",
    "    :return: numerador del producto, denominador del producto\n",
    "    \"\"\"\n",
    "    return num1*num2,den1*den2\n",
    "\n",
    "n,d=multiplicarfracciones(2,7,3,5)\n",
    "n,d"
   ],
   "metadata": {
    "collapsed": false,
    "ExecuteTime": {
     "start_time": "2024-02-20T20:56:08.018923700Z"
    }
   },
   "id": "d7cd316b49975533",
   "execution_count": null
  },
  {
   "cell_type": "markdown",
   "source": [
    "#### División\n",
    "La división de fracciones es el producto de una fracción por la inversa de la otra"
   ],
   "metadata": {
    "collapsed": false
   },
   "id": "448ff408f19378fa"
  },
  {
   "cell_type": "code",
   "outputs": [],
   "source": [
    "def dividirfracciones(num1,den1,num2,den2):\n",
    "    \"\"\"\n",
    "    Función que realiza la división de las fracciones que se le pasa por parámetro\n",
    "    :param num1: numerador de la primera fracción\n",
    "    :param den1: denominador de la primera fracción\n",
    "    :param num2: numerador de la segunda fracción\n",
    "    :param den2: denominador de la segunda fracción\n",
    "    :return: numerador de la división, denominador de la división\n",
    "    \"\"\"\n",
    "    return num1*den2,num2*den1\n",
    "\n",
    "dividirfracciones(2,3,7,11)"
   ],
   "metadata": {
    "collapsed": false,
    "ExecuteTime": {
     "start_time": "2024-02-20T20:56:08.020928Z"
    }
   },
   "id": "e539e37877aefd0b",
   "execution_count": null
  },
  {
   "cell_type": "markdown",
   "source": [
    "### Forma Decimal\n",
    "La **forma decimal** de una fracción es una expresión numérica que está formada por una parte entera, a la izquierda del punto, y una parte decimal o sencillamente decimales, a la derecha del punto.\n",
    "Tipos de formas decimales:\n",
    "1. La forma decimal se denomina **estricta** si la división del numerador entre el denominador tiene un número de decimales finito\n",
    "2. La forma decimal se denomina **periódica** en caso contrario. Diferenciamos también dos tipos de números periódicos:\n",
    "   1. Si el periodo empieza justo después de la coma, hablamos de número decimal **periódico puro**\n",
    "   2. Si empieza después de un grupo de cifras decimales que no se repiten, hablamos de un decimal **periódico mixto**\n"
   ],
   "metadata": {
    "collapsed": false
   },
   "id": "df2fdac90364b840"
  },
  {
   "cell_type": "markdown",
   "source": [
    "#### Transformar la forma decimal a forma fraccionaria\n",
    "- Si la forma decimal es exacta, se tiene que eliminar la coma del número decimal. El número resultante será el numerador de la fracción. El denominador tiene que ser un número cuya primera cifra sea un 1, y con tantos ceros como decimales tiene el número decimal.\n",
    "- Si la forma decimal es periódica, se tienen que seguir estos pasos:\n",
    "    - El numerador es igual a la diferencia entre el número en cuestión, sin coma ni símbolo periódico (con lo cual se transforma en un número entero), y el mismo número, sin coma ni cifras debajo del símbolo periódico.\n",
    "    - El denominador tiene que ser un entero con tantos 9 como cifras debajo del símbolo periódico, y tantos 0 como cifras de la sección decimal que no están dentro del símbolo periódico\n"
   ],
   "metadata": {
    "collapsed": false
   },
   "id": "67bad5bac7803258"
  },
  {
   "cell_type": "code",
   "outputs": [],
   "source": [
    "division=10/3\n",
    "print(round(division,20))"
   ],
   "metadata": {
    "collapsed": false,
    "ExecuteTime": {
     "start_time": "2024-02-20T20:56:08.021928300Z"
    }
   },
   "id": "aaaed35d7009710c",
   "execution_count": null
  },
  {
   "cell_type": "markdown",
   "source": [
    "#### Aproximaciones\n",
    "Distinguimos entre el redondeo y el truncamiento:\n",
    "El redondeo de un número hasta una cifra determinada, la llamada cifra de redondeo, consiste en escribir el número decimal más cercano al número dado. Para expresar el redondeo usamos el símbolo $\\approx$, que significa \"aproximadamente igual\"\n",
    "- Si la cifra siguiente a la del redondeo es inferior a 5, se eliminan todas las cifras decimales posteriores a esta cifra\n",
    "- Si la cifra siguiente a la del redondeo es superior a 4, se eliminan to das las cifras decimales posteriores a la cifra de redondeo, y se suma una unidad a la cifra de redondeo\n",
    "- Si la cifra de redondeo es 9, se actúa del mismo mo do que en una suma de números decimales cuando se suma 1 a una cifra 9 (es decir, en el lugar del 9 se pone un 0 y en el lugar delante de él, se aumenta una unidad el valor que esté). *El 0 siempre se ponen para expresar que el valor es una aproximación*"
   ],
   "metadata": {
    "collapsed": false
   },
   "id": "bd78a2a04acf2062"
  },
  {
   "cell_type": "markdown",
   "source": [
    "#### Ordenación\n",
    "La manera más sencilla de ordenar dos números racionales es escribir la expresión decimal, que muestra de manera inmediata cuál de los dos es más grande\n",
    "*Observamos que los números racionales tienen una propiedad importante: entre dos números racionales diferentes siempre podemos encontrar otro*"
   ],
   "metadata": {
    "collapsed": false
   },
   "id": "5ee10352254ac5b9"
  },
  {
   "cell_type": "code",
   "outputs": [],
   "source": [],
   "metadata": {
    "collapsed": false,
    "ExecuteTime": {
     "start_time": "2024-02-20T20:56:08.023927300Z"
    }
   },
   "id": "d2777630a01308ef",
   "execution_count": null
  }
 ],
 "metadata": {
  "kernelspec": {
   "display_name": "Python 3",
   "language": "python",
   "name": "python3"
  },
  "language_info": {
   "codemirror_mode": {
    "name": "ipython",
    "version": 2
   },
   "file_extension": ".py",
   "mimetype": "text/x-python",
   "name": "python",
   "nbconvert_exporter": "python",
   "pygments_lexer": "ipython2",
   "version": "2.7.6"
  }
 },
 "nbformat": 4,
 "nbformat_minor": 5
}

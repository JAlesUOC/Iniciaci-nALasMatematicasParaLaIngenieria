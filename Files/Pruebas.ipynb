{
 "cells": [
  {
   "cell_type": "code",
   "outputs": [],
   "source": [
    "import math\n",
    "import sympy as sp\n",
    "from math import *"
   ],
   "metadata": {
    "collapsed": false,
    "ExecuteTime": {
     "end_time": "2024-02-20T17:48:50.766552400Z",
     "start_time": "2024-02-20T17:48:50.012103500Z"
    }
   },
   "id": "e0d688812f02d864",
   "execution_count": 5
  },
  {
   "cell_type": "code",
   "outputs": [
    {
     "name": "stdout",
     "output_type": "stream",
     "text": [
      "dict_values([3, 2, 2, 2, 1, 1, 1])\n"
     ]
    }
   ],
   "source": [
    "ejemplo=[1,5,2,2,1,3,7,9,8,1,3,5]\n",
    "dict={}\n",
    "\n",
    "for i in ejemplo:\n",
    "    if i in dict:\n",
    "        dict[i]=dict[i]+1\n",
    "    else:\n",
    "        dict[i]=1\n",
    "\n",
    "print(dict.values())"
   ],
   "metadata": {
    "collapsed": true,
    "ExecuteTime": {
     "end_time": "2024-01-12T10:12:19.993494800Z",
     "start_time": "2024-01-12T10:12:19.976495600Z"
    }
   },
   "id": "initial_id",
   "execution_count": 8
  },
  {
   "cell_type": "code",
   "outputs": [],
   "source": [
    "x=sp.Symbol('x')"
   ],
   "metadata": {
    "collapsed": false,
    "ExecuteTime": {
     "end_time": "2024-02-20T17:49:16.838216600Z",
     "start_time": "2024-02-20T17:49:16.822201200Z"
    }
   },
   "id": "152ff73b98b44be4",
   "execution_count": 6
  },
  {
   "cell_type": "code",
   "outputs": [
    {
     "data": {
      "text/plain": "2*log(x)/log(2)",
      "text/latex": "$\\displaystyle \\frac{2 \\log{\\left(x \\right)}}{\\log{\\left(2 \\right)}}$"
     },
     "execution_count": 30,
     "metadata": {},
     "output_type": "execute_result"
    }
   ],
   "source": [
    "exp= 3*sp.log(x,2)-2*sp.log(x,4)\n",
    "#sp.solve(exp, x)\n",
    "exp.simplify()"
   ],
   "metadata": {
    "collapsed": false,
    "ExecuteTime": {
     "end_time": "2024-02-20T18:12:11.495472900Z",
     "start_time": "2024-02-20T18:12:11.473231800Z"
    }
   },
   "id": "707433ae66e80e74",
   "execution_count": 30
  },
  {
   "cell_type": "code",
   "outputs": [
    {
     "data": {
      "text/plain": "log(2)*log(4)",
      "text/latex": "$\\displaystyle \\log{\\left(2 \\right)} \\log{\\left(4 \\right)}$"
     },
     "execution_count": 25,
     "metadata": {},
     "output_type": "execute_result"
    }
   ],
   "source": [
    "exp2=3*sp.log(x,2)*2*(sp.log(x,4))\n",
    "#exp2.simplify()\n",
    "exp2"
   ],
   "metadata": {
    "collapsed": false,
    "ExecuteTime": {
     "end_time": "2024-02-20T18:01:15.080878900Z",
     "start_time": "2024-02-20T18:01:15.066202100Z"
    }
   },
   "id": "45178c072360480b",
   "execution_count": 25
  },
  {
   "cell_type": "code",
   "outputs": [
    {
     "data": {
      "text/plain": "2*log(2)**2",
      "text/latex": "$\\displaystyle 2 \\log{\\left(2 \\right)}^{2}$"
     },
     "execution_count": 26,
     "metadata": {},
     "output_type": "execute_result"
    }
   ],
   "source": [
    "exp3=sp.log(2)*sp.log(4)\n",
    "exp3.simplify()"
   ],
   "metadata": {
    "collapsed": false,
    "ExecuteTime": {
     "end_time": "2024-02-20T18:02:12.588857300Z",
     "start_time": "2024-02-20T18:02:12.556805700Z"
    }
   },
   "id": "67b813543326cd33",
   "execution_count": 26
  },
  {
   "cell_type": "code",
   "outputs": [
    {
     "data": {
      "text/plain": "2*log(2)/log(10)",
      "text/latex": "$\\displaystyle \\frac{2 \\log{\\left(2 \\right)}}{\\log{\\left(10 \\right)}}$"
     },
     "execution_count": 33,
     "metadata": {},
     "output_type": "execute_result"
    }
   ],
   "source": [
    "sp.log(100,10)*sp.log(2,10)"
   ],
   "metadata": {
    "collapsed": false,
    "ExecuteTime": {
     "end_time": "2024-02-20T18:14:48.954449300Z",
     "start_time": "2024-02-20T18:14:48.948945200Z"
    }
   },
   "id": "d41de461cb7ebaf9",
   "execution_count": 33
  },
  {
   "cell_type": "code",
   "outputs": [
    {
     "data": {
      "text/plain": "10.034333188799371"
     },
     "execution_count": 37,
     "metadata": {},
     "output_type": "execute_result"
    }
   ],
   "source": [
    "(100*log(2,10))/3"
   ],
   "metadata": {
    "collapsed": false,
    "ExecuteTime": {
     "end_time": "2024-02-20T20:18:26.075354100Z",
     "start_time": "2024-02-20T20:18:26.039583300Z"
    }
   },
   "id": "94ba339e7aa6c0c9",
   "execution_count": 37
  },
  {
   "cell_type": "code",
   "outputs": [],
   "source": [],
   "metadata": {
    "collapsed": false
   },
   "id": "a5811108f02de4ca"
  }
 ],
 "metadata": {
  "kernelspec": {
   "display_name": "Python 3",
   "language": "python",
   "name": "python3"
  },
  "language_info": {
   "codemirror_mode": {
    "name": "ipython",
    "version": 2
   },
   "file_extension": ".py",
   "mimetype": "text/x-python",
   "name": "python",
   "nbconvert_exporter": "python",
   "pygments_lexer": "ipython2",
   "version": "2.7.6"
  }
 },
 "nbformat": 4,
 "nbformat_minor": 5
}

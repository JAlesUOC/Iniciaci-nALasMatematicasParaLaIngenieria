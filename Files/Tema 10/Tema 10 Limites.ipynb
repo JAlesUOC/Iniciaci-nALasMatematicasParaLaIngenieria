{
 "cells": [
  {
   "cell_type": "code",
   "execution_count": 188,
   "id": "initial_id",
   "metadata": {
    "ExecuteTime": {
     "end_time": "2024-02-20T21:48:59.618664300Z",
     "start_time": "2024-02-20T21:48:58.948293800Z"
    }
   },
   "outputs": [],
   "source": [
    "import math\n",
    "import sympy as sp\n",
    "from IPython.display import display, Math, Latex\n",
    "from spb import *"
   ]
  },
  {
   "cell_type": "code",
   "execution_count": 101,
   "id": "ab6a9e202da110ee",
   "metadata": {
    "ExecuteTime": {
     "end_time": "2024-02-20T21:48:59.632780100Z",
     "start_time": "2024-02-20T21:48:59.617664100Z"
    },
    "collapsed": false,
    "jupyter": {
     "outputs_hidden": false
    }
   },
   "outputs": [],
   "source": [
    "x=sp.symbols('x', real=True)"
   ]
  },
  {
   "cell_type": "markdown",
   "id": "1c10401a6c3fe71f",
   "metadata": {
    "collapsed": false,
    "jupyter": {
     "outputs_hidden": false
    }
   },
   "source": [
    "# Tema 10: Límites de funciones"
   ]
  },
  {
   "cell_type": "markdown",
   "id": "abf72150557e6fe1",
   "metadata": {
    "collapsed": false,
    "jupyter": {
     "outputs_hidden": false
    }
   },
   "source": [
    "## Noción Intuitiva de Límites\n",
    "El límite de una en un valor $x$ es igual al número al que tiende la función cuando la variable tiende a ese valor (sin llegar nunca a serlo). Si el límite de una función $f(x)$ en un valor $a$ es igual a $b$ se escribe de este modo:\n",
    "$$\\lim_{x\\to a} f(x)=b$$ \n",
    "También se dice que *\"la función $f(x)$ tiene límite $b$ cuando $x$ tiende a $a$\"*. "
   ]
  },
  {
   "cell_type": "code",
   "execution_count": 102,
   "id": "1a51aebe37ff223b",
   "metadata": {
    "ExecuteTime": {
     "end_time": "2024-02-20T22:43:55.666283700Z",
     "start_time": "2024-02-20T22:43:55.640189500Z"
    },
    "collapsed": false,
    "jupyter": {
     "outputs_hidden": false
    }
   },
   "outputs": [
    {
     "data": {
      "text/latex": [
       "$\\displaystyle 3$"
      ],
      "text/plain": [
       "3"
      ]
     },
     "execution_count": 102,
     "metadata": {},
     "output_type": "execute_result"
    }
   ],
   "source": [
    "exp=2*x+1\n",
    "lim_1=sp.limit(exp,x,1)\n",
    "lim_1"
   ]
  },
  {
   "cell_type": "code",
   "execution_count": 103,
   "id": "24d3b2efaf966a0c",
   "metadata": {
    "ExecuteTime": {
     "end_time": "2024-02-20T22:45:16.640110800Z",
     "start_time": "2024-02-20T22:45:16.621071Z"
    },
    "collapsed": false,
    "jupyter": {
     "outputs_hidden": false
    }
   },
   "outputs": [
    {
     "data": {
      "text/latex": [
       "$\\displaystyle 17$"
      ],
      "text/plain": [
       "17"
      ]
     },
     "execution_count": 103,
     "metadata": {},
     "output_type": "execute_result"
    }
   ],
   "source": [
    "exp2=3*x**2-2*x+1\n",
    "lim_2=sp.limit(exp2,x,-2)\n",
    "lim_2"
   ]
  },
  {
   "cell_type": "markdown",
   "id": "aa267744-f045-488b-bd4e-b85126654056",
   "metadata": {
    "collapsed": false,
    "jupyter": {
     "outputs_hidden": false
    }
   },
   "source": [
    "## Operaciones con Límites\n",
    "$\\boxed{\\textbf{Suma y resta}}$ El límite de la suma (o resta) de dos funciones en un punto es igual a la suma (o resta) de límites de estas funciones en el punto en cuestión, es decir:\n",
    "$$\\lim_{x\\to a}(f(x)\\pm g(x))=\\lim_{x\\to a} f(x)\\pm\\lim_{x\\to a} g(x)$$\n",
    "$\\boxed{\\textbf{Producto}}$ El límite del producto de dos funciones en un punto es igual al producto de límites de estas funciones en el punto en cuestión, es decir:\n",
    "$$\\lim_{x\\to a}(f(x)\\cdot g(x))=\\lim_{x\\to a} f(x)\\cdot\\lim_{x\\to a} g(x)$$\n",
    "$\\boxed{\\textbf{Cociente}}$ El límite del cociente de dos funciones en un punto es igual al cociente de límites de estas funciones en el punto en cuestión siempre que el denominador no sea 0, es decir:\n",
    "$$\\lim_{x\\to a}\\dfrac{f(x)}{g(x)}=\\dfrac{\\lim_{x\\to a} f(x)}{\\lim_{x\\to a} g(x)}$$\n",
    "$\\boxed{\\textbf{Exponencial}}$ El límite del exponencial de dos funciones en un punto es igual al exponencial de límites de estas funciones en el punto en cuestión siempre que ambas funciones no tomen el valor 0, es decir:\n",
    "$$\\lim_{x\\to a}f(x)^{g(x)}=\\lim_{x\\to a}f(x)^{\\lim_{x\\to a}g(x)}$$"
   ]
  },
  {
   "cell_type": "markdown",
   "id": "bbd93e6a-02fc-4456-8454-6525fc145b6a",
   "metadata": {},
   "source": [
    "## Límites laterales\n",
    "El **límite lateral izquierdo** de una función $f(x)$ en un punto $a$ es el límite de la \n",
    "función cuando se considera que la variable solo puede toma  valores más  equeño \n",
    "que el pun.t$$\\lim_{x\\to a^-} f(x)$$\n",
    "El **límite lateral derecho** de una función $f(x)$ en un punto $a$ es el límite de la \n",
    "función cuando se considera que la variable solo puede tomar valore  mayores que e \n",
    "pun\n",
    "$$\\lim_{x\\to a^+} f(x)$$\n",
    "En particular, podemos ver que si el límite de una función en un cierto punto existe, \n",
    "coincidirá con los límites laterales cuando estos tengan sentido. El hecho recípr c \n",
    "también es cierto: si los dos límites laterales existen y coinciden con el mismo valo ,\n",
    "el límite de la función también existirá y tomará el mismo valor. Aun así, si los  os\n",
    "límites laterales toman valores diferentes, el límite de la función en aquel punt  no\n",
    "existe (aunque la función síestae sfia de\u001c\n",
    "nida en aquel punto).\n",
    "Matemáticamente, esto se puede esc$$lim_{x\\to a}f(x) \\;\\text{ existe y vale }b \\Leftrightarrow \\lim_{x\\to a^-} f(x)= \\lim_{x\\to a^+} f(x)$$(x) = b\n",
    "too\n"
   ]
  },
  {
   "cell_type": "code",
   "execution_count": 104,
   "id": "a967739f-d54b-492d-9422-0c3c75d56b4a",
   "metadata": {},
   "outputs": [
    {
     "data": {
      "text/latex": [
       "$\\displaystyle 1$"
      ],
      "text/plain": [
       "1"
      ]
     },
     "execution_count": 104,
     "metadata": {},
     "output_type": "execute_result"
    }
   ],
   "source": [
    "f_trozos = sp.Piecewise(\n",
    "    (x,x<=1),\n",
    "    (2,x>1))\n",
    "sp.limit(f_trozos,x,1,'+') # No evalua correctamente por la derecha\n",
    "#plot_piecewise(f_trozos, xlim=(-2,2))"
   ]
  },
  {
   "cell_type": "code",
   "execution_count": 105,
   "id": "660c3d5b-f0e1-4d9f-a851-71fd5a68b7af",
   "metadata": {},
   "outputs": [
    {
     "data": {
      "image/png": "[encoded data removed]",
      "text/plain": [
       "<Figure size 640x480 with 1 Axes>"
      ]
     },
     "metadata": {},
     "output_type": "display_data"
    },
    {
     "data": {
      "text/plain": [
       "<spb.backends.matplotlib.matplotlib.MatplotlibBackend at 0x210eea22b90>"
      ]
     },
     "execution_count": 105,
     "metadata": {},
     "output_type": "execute_result"
    }
   ],
   "source": [
    "plot_piecewise(f_trozos, xlim=(-2,2))"
   ]
  },
  {
   "cell_type": "code",
   "execution_count": 106,
   "id": "b3ec5032-b83d-4ba1-87ff-abed42af0e8c",
   "metadata": {},
   "outputs": [],
   "source": [
    "funcion2 = 1/x"
   ]
  },
  {
   "cell_type": "code",
   "execution_count": 107,
   "id": "bb70cbba-f685-4c85-938d-06c63a8d4208",
   "metadata": {},
   "outputs": [
    {
     "data": {
      "image/png": "[encoded data removed]",
      "text/plain": [
       "<Figure size 640x480 with 1 Axes>"
      ]
     },
     "metadata": {},
     "output_type": "display_data"
    },
    {
     "data": {
      "text/plain": [
       "<spb.backends.matplotlib.matplotlib.MatplotlibBackend at 0x210ef3fc6d0>"
      ]
     },
     "execution_count": 107,
     "metadata": {},
     "output_type": "execute_result"
    }
   ],
   "source": [
    "plot_piecewise(funcion2,xlim=(-3,3))"
   ]
  },
  {
   "cell_type": "code",
   "execution_count": 108,
   "id": "b1b8bc40-d52e-4f62-94e5-e02aac1c7a97",
   "metadata": {},
   "outputs": [
    {
     "name": "stdout",
     "output_type": "stream",
     "text": [
      "-oo\n",
      "oo\n"
     ]
    }
   ],
   "source": [
    "print(sp.limit(funcion2,x ,0, '-'))\n",
    "print(sp.limit(funcion2,x ,0, '+'))"
   ]
  },
  {
   "cell_type": "markdown",
   "id": "6de7ffe0-8805-4ebb-9281-e387b1001e45",
   "metadata": {},
   "source": [
    "## Límites al infinito\n",
    "Se dice que el límite de una función $f(x)$ cuando $x$ tiende a $\\infty$ vale\n",
    "$b$ si, para cualquier $\\epsilon > 0$, existe un cierto número $k$ tal que, para $x > k$,\n",
    "$|f(x) − b| < \\epsilon$.\n",
    "\n",
    "De manera similar, se dice que el límite de una función $f(x)$ cuando $x$\n",
    "tiende a $−\\infty$ vale $b$ si, para cualquier $\\epsilon > 0$, existe un cierto número $k$ tal que,\n",
    "para $x < k$, $|f(x) − b| < \\epsilon$.\n",
    "\n",
    "Estos límites se denotan respectivamente\n",
    "\n",
    "$$\\lim_{x\\to +\\infty} f(x)=b \\quad \\lim_{x\\to -\\infty} f(x)= b$$\n"
   ]
  },
  {
   "cell_type": "code",
   "execution_count": 109,
   "id": "3bf6cb64-987e-47e7-ab77-f71f3e66e3bb",
   "metadata": {},
   "outputs": [
    {
     "data": {
      "text/latex": [
       "$\\displaystyle \\lim_{x \\to -\\infty} \\frac{1}{x} = 0$"
      ],
      "text/plain": [
       "<IPython.core.display.Math object>"
      ]
     },
     "metadata": {},
     "output_type": "display_data"
    },
    {
     "data": {
      "text/latex": [
       "$\\displaystyle \\lim_{x \\to \\infty} \\frac{1}{x} = 0$"
      ],
      "text/plain": [
       "<IPython.core.display.Math object>"
      ]
     },
     "metadata": {},
     "output_type": "display_data"
    }
   ],
   "source": [
    "display(Math(sp.latex(sp.Limit(funcion2,x ,-sp.oo, '-'))+\" = \"+str(sp.limit(funcion2,x ,-sp.oo, '-'))))\n",
    "display(Math(sp.latex(sp.Limit(funcion2,x ,+sp.oo, '+'))+\" = \"+str(sp.limit(funcion2,x ,-sp.oo, '+'))))"
   ]
  },
  {
   "cell_type": "markdown",
   "id": "a0b879e1-ac0a-4276-a4cb-d27463069a75",
   "metadata": {},
   "source": [
    "### Ejemplo. Cálculo del límite en el infinito de un polinomio\n",
    "Es una tarea sencilla si analizamos cada uno de los monomios que lo forman por separado.\n",
    "A medida que $x$ toma valores mayores, el término que crece a más velocidad será siempre aquel que tiene el exponente más grande, cuando $x\\to\\infty$ será $\\infty$ con el mismo signo que el coeficiente del monomio de grado superior del polinomio **(término dominante)**.\n",
    "cuando $x\\to-\\infty$ será $\\infty$, \n",
    " ero para sa er el signo corres ondiente tenemos que separar dos casos\n",
    "- Si el grado del término dominante es **par**, el signo será el mismo que en el \n",
    "delcoeficientee del del monomio de mayor grad.\n",
    "- Si el grado del término dominante es impar, el signo será opuesto al del coeficientee del monomio de mayor grad.oo:"
   ]
  },
  {
   "cell_type": "code",
   "execution_count": 110,
   "id": "3422d38a-5aba-4809-b740-f3c2d50c8a93",
   "metadata": {},
   "outputs": [
    {
     "data": {
      "text/latex": [
       "$\\displaystyle \\lim_{x \\to \\infty}\\left(- x^{5} + 2 x^{2} + 7\\right) = -\\infty$"
      ],
      "text/plain": [
       "<IPython.core.display.Math object>"
      ]
     },
     "metadata": {},
     "output_type": "display_data"
    }
   ],
   "source": [
    "polinomio = -x**5+2*x**2+7\n",
    "# Cuando x tiende a infinito positivo es infinito con el signo del termino con mayor emponente\n",
    "# en este -oo\n",
    "display(Math(sp.latex(sp.Limit(polinomio,x,sp.oo))+\" = \"+sp.latex(sp.limit(polinomio,x,sp.oo))))\n"
   ]
  },
  {
   "cell_type": "code",
   "execution_count": 111,
   "id": "315d8b6b-c7e1-4f66-9eaa-f4e70d21ed71",
   "metadata": {},
   "outputs": [
    {
     "data": {
      "text/latex": [
       "$\\displaystyle \\lim_{x \\to -\\infty}\\left(- x^{5} + 2 x^{2} + 7\\right) = \\infty$"
      ],
      "text/plain": [
       "<IPython.core.display.Math object>"
      ]
     },
     "metadata": {},
     "output_type": "display_data"
    }
   ],
   "source": [
    "# Cuando x tiende a - -oo, hay dos casos\n",
    "# Estamos en el segundo caso xk el termino dominante es impar\n",
    "# por lo que el limite  sera infinito con el signo opuesto al t.dominante (+oo)\n",
    "display(Math(sp.latex(sp.Limit(polinomio,x,-sp.oo))+\" = \"+sp.latex(sp.limit(polinomio,x,-sp.oo))))"
   ]
  },
  {
   "cell_type": "markdown",
   "id": "0069800c-da85-400a-8af9-e23b32bd0fd8",
   "metadata": {},
   "source": [
    "## Reglas básicas de cálculo de límites\n",
    "- $\\boxed{k\\cdot\\infty,k\\neq0}$ En un producto, si un factor tiende a infinito y el otro tiende a un número diferente de 0, el producto tiende a infinito y tiene un signo que resulta del signo del infinito del primer factor multiplicado por el signo del número al que tiende  el segundo factor.\n",
    "- $\\boxed{+\\infty+\\infty=+\\infty,k+\\infty=+\\infty,-\\infty-\\infty=-\\infty,k-\\infty=-\\infty}$ En una suma, si uno o más sumandos tienden a infinito con el mismo signo, la suma tiende a infinito con el signo correspondiente.\n",
    "- $\\boxed{\\frac{k}{\\infty}}$ En un cociente, si el denominador tiende a $\\infty$ y el numerador tiende a una constante $k$, el cociente tiende a 0.\n",
    "- $\\boxed{\\frac{\\infty}{k}=\\infty,k\\neq0}$ En un cociente, si el numerador tiende a una constante diferente de 0 y el denominador tiende a 0, el cociente tiende a infinito con un signo que resulta del signo para la dirección que se aproxima al 0 del denominador multiplicado por el signo del número al que tiende el numerador"
   ]
  },
  {
   "cell_type": "code",
   "execution_count": 112,
   "id": "1578aaec-ac51-4de2-86c1-0b7b1d6f6804",
   "metadata": {},
   "outputs": [
    {
     "data": {
      "text/latex": [
       "$\\displaystyle \\lim_{x \\to \\infty}\\left(\\left(4 - \\frac{1}{x}\\right) \\left(2 x^{2} + 1\\right)\\right)=4\\cdot\\infty=\\infty$"
      ],
      "text/plain": [
       "<IPython.core.display.Math object>"
      ]
     },
     "metadata": {},
     "output_type": "display_data"
    },
    {
     "data": {
      "text/latex": [
       "$\\displaystyle \\lim_{x \\to \\infty}\\left(2 x^{2} + 5 - \\frac{1}{x}\\right)=4+\\infty=\\infty$"
      ],
      "text/plain": [
       "<IPython.core.display.Math object>"
      ]
     },
     "metadata": {},
     "output_type": "display_data"
    },
    {
     "data": {
      "text/latex": [
       "$\\displaystyle \\lim_{x \\to \\infty}\\left(\\frac{4 - \\frac{1}{x}}{2 x^{2} + 1}\\right)=4/\\infty=0$"
      ],
      "text/plain": [
       "<IPython.core.display.Math object>"
      ]
     },
     "metadata": {},
     "output_type": "display_data"
    },
    {
     "data": {
      "text/latex": [
       "$\\displaystyle \\lim_{x \\to \\infty}\\left(\\left(4 - \\frac{1}{x}\\right) \\left(2 x^{2} + 1\\right)\\right)=4/0=\\infty$"
      ],
      "text/plain": [
       "<IPython.core.display.Math object>"
      ]
     },
     "metadata": {},
     "output_type": "display_data"
    }
   ],
   "source": [
    "ejemplo1_1=2*x**2+1 # funcion que tiende a oo cuando x tiende a oo\n",
    "ejemplo1_2=4-(1/x) # funcion que tiende a 4 cuando x tiende a oo\n",
    "ejemplo1_3=1/ejemplo1_1 # funcion que tiende a 0 cuando x tiende a oo\n",
    "\n",
    "display(Math(\n",
    "    sp.latex(sp.Limit(ejemplo1_1*ejemplo1_2,x,sp.oo))\n",
    "    +\"=\" \n",
    "    + sp.latex(sp.limit(ejemplo1_2,x,sp.oo))\n",
    "    +\"\\cdot\" \n",
    "    + sp.latex(sp.limit(ejemplo1_1,x,sp.oo))\n",
    "    +\"=\" \n",
    "    + sp.latex(sp.limit(ejemplo1_1*ejemplo1_2,x,sp.oo))\n",
    "))\n",
    "\n",
    "display(Math(\n",
    "    sp.latex(sp.Limit(ejemplo1_1+ejemplo1_2,x,sp.oo))\n",
    "    +\"=\" \n",
    "    + sp.latex(sp.limit(ejemplo1_2,x,sp.oo))\n",
    "    +\"+\" \n",
    "    + sp.latex(sp.limit(ejemplo1_1,x,sp.oo))\n",
    "    +\"=\" \n",
    "    + sp.latex(sp.limit(ejemplo1_1+ejemplo1_2,x,sp.oo))\n",
    "))\n",
    "display(Math(\n",
    "    sp.latex(sp.Limit(ejemplo1_2/ejemplo1_1,x,sp.oo))\n",
    "    +\"=\" \n",
    "    + sp.latex(sp.limit(ejemplo1_2,x,sp.oo))\n",
    "    +\"/\" \n",
    "    + sp.latex(sp.limit(ejemplo1_1,x,sp.oo))\n",
    "    +\"=\" \n",
    "    + sp.latex(sp.limit(ejemplo1_2/ejemplo1_1,x,sp.oo))\n",
    "))\n",
    "\n",
    "display(Math(\n",
    "    sp.latex(sp.Limit(ejemplo1_2/ejemplo1_3,x,sp.oo))\n",
    "    +\"=\" \n",
    "    + sp.latex(sp.limit(ejemplo1_2,x,sp.oo))\n",
    "    +\"/\" \n",
    "    + sp.latex(sp.limit(ejemplo1_3,x,sp.oo))\n",
    "    +\"=\" \n",
    "    + sp.latex(sp.limit(ejemplo1_2/ejemplo1_3,x,sp.oo))\n",
    "))"
   ]
  },
  {
   "cell_type": "markdown",
   "id": "4c86ee10-008b-497f-a1fe-b6cd5bfcc0b4",
   "metadata": {},
   "source": [
    "## Indeterminaciones\n",
    "### Hay muchos casos en que el límite de una función no puede calcularse porque el resultado no es ningún número; ni siquiera infinito. En estos casos decimos que estamos ante una **indeterminación**.\n",
    "$$\\boxed{\\text{Indeterminación} \\frac{0}{0}}$$ \n",
    "\n",
    "Suele producirse cuando nuestra función es resultado de un cociente de polinomios cuyas funciones tienden a 0 en el punto para el que queremos calcular el límite.\n",
    "Solo hace falta factorizar ambos polinomios y dividir los factores comunes para resolver la indeterminación.\n",
    "\n",
    "$$\\boxed{\\text{Indeterminación } \\frac{\\infty}{\\infty}}$$\n",
    "\n",
    "Se trata de límites en que la función es una fracción en la que el numerador y el denominador tienden a $\\infty$ (independientemente del signo del infinito). El numerador y denominador de la fracción son a menudo polinomios\n",
    "En este caso escribimos $f(x) = \\frac{p(x)}{q(x)}$ y buscamos el término dominante de cada polinomio (el término de grado superior), y dividimos cada uno de los dos polinomios entre el término dominante, de forma que casi todos los términos de cada polinomio quedarán convertidos en límites del tipo $\\frac{k}{\\infty}$, que ya sabemos que se anulan. Los únicos términos que no se anularán son los del mismo grado que el término dominante, en los que se cancelan las variables y quedan solo sus coeficientes.\n",
    "\n",
    "- $\\boxed{\\text{Indeterminación } 0\\cdot \\infty}$\n",
    "\n",
    "Esta situación siempre se da en límites del tipo \n",
    "$$\\lim_{x\\to a}f(x)\\cdot g(x)$$\n",
    "Vemos que el producto podemos reescribirlo así\n",
    "$$f(x) \\cdot g(x)= \\frac{f(x)}{\\frac{1}{g(x)}}$$\n",
    "de manera que nuestra indeterminación se ha convertido en una del tipo $\\frac{\\infty}{\\infty}$, que ya sabemos resolver.\n",
    "\n",
    "- $\\boxed{\\text{Indeterminación } \\infty - \\infty}$\n",
    "\n",
    "Esta indeterminación es habitual en diferencias de funciones que contienen raíces. En estos casos tiene que multiplicarse y dividir la función por su conjugada (la misma expresión cambiando la resta por una suma) y usar la igualdad notable $(a − b)(a + b) = a^2 − b^2$\n",
    "\n",
    "- $\\boxed{\\text{Indeterminación } 1^\\infty}$\n",
    "\n",
    "Es una indeterminación que se da cuando tenemos una función exponencial en la que la base tiende a 1 y el exponente a $\\infty$.\n",
    "Esto es, si tenemos nuestra función escrita como $f(x)^{g(x)}$ donde $\\lim_{x\\to a}f(x) = 1$ y\n",
    "$\\lim_{x\\to a}g(x) = \\infty$, entonces $\\lim_{x\\to a}f(x)^{g(x)}$ da lugar a este tip o de indeterminación.\n",
    "Se soluciona con este cambio:\n",
    "$\\lim_{x\\to a}f(x)^{g(x)}=\\lim_{x\\to a}e^{(f(x)-1)\\cdot g(x)}$"
   ]
  },
  {
   "cell_type": "code",
   "execution_count": null,
   "id": "f3f5c134",
   "metadata": {},
   "outputs": [],
   "source": []
  },
  {
   "cell_type": "markdown",
   "id": "f11ab281",
   "metadata": {
    "tags": []
   },
   "source": [
    "## Continuidad\n",
    "Se dice que una función $f(x)$ es continua en un punto $x_0$ si se puede evaluar en este punto y su valor coincide con el límite de la función cuando $x$ tiende a $x_0$, es decir,\n",
    "\n",
    "$$\\lim_{x\\to a}f(x)=f(x_0)$$\n",
    "\n",
    "Dicho con otras palabras, cuando dibujamos la gráfica de la función, no da ningún salto y podemos seguirla toda sin levantar el bolígrafo del papel.\n",
    "\n",
    "Se dice que una función es continua cuando lo es en todos los puntos de su **dominio**."
   ]
  },
  {
   "cell_type": "code",
   "execution_count": null,
   "id": "f44d512f-0b8d-4ce5-9fe0-06812c97ac29",
   "metadata": {},
   "outputs": [],
   "source": []
  },
  {
   "cell_type": "markdown",
   "id": "36ff48f8",
   "metadata": {},
   "source": [
    "## Discontinuidades de una función\n",
    "\n",
    "Una función que no es continua en un punto particular puede serlo por diferentes causas.\n",
    "\n",
    "$\\boxed{\\text{Discontinuidad evitable }}$ Este tipo de discontinuidad se da cuando la función no está definida en el punto $x_0$ pero los límites laterales existen y coinciden. Es decir,\n",
    "$$\\lim_{x\\to x_0^+}f(x)=\\lim_{x\\to x_0^-}f(x),\\;\\text{pero } \\nexists f(x_0)$$\n",
    "\n",
    "Se usa el término discontinuidad evitable porque es una discontinuidad que puede evitarse si redefinimos la función para que sea continua:\n",
    "\n",
    "$$\\widetilde{f}(x)=\\left \\{\\begin{array}{l} f(x) \\; \\text{si } x\\neq x_0\\\\ \\lim_{x\\to x_0}f(x) \\; \\text{si } x = x_0\\end{array}\\right.$$\n",
    "\n",
    "$\\boxed{\\text{Discontinuidad de salto }}$ Es el caso en el que los dos límites laterales de la función existen pero no toman el mismo valor, independientemente de si la función está definida en aquel punto o no. Es decir:\n",
    "\n",
    "$$\\lim_{x\\to x_0^+}f(x)\\neq\\lim_{x\\to x_0^-}f(x)$$\n",
    "\n",
    "$\\boxed{\\text{Discontinuidad asintótica }}$ Esta discontinuidad es una versión extrema del caso anterior, en el que al menos uno de los dos límites laterales diverge. Esto es:\n",
    "\n",
    "$$\\lim_{x\\to x_0^+}f(x)=\\pm\\infty \\;\\text{o}\\lim_{x\\to x_0^-}f(x)=\\pm\\infty$$\n"
   ]
  },
  {
   "cell_type": "markdown",
   "id": "ae1b2ffa",
   "metadata": {},
   "source": []
  },
  {
   "cell_type": "code",
   "execution_count": 165,
   "id": "e14060f4",
   "metadata": {},
   "outputs": [
    {
     "data": {
      "image/png": "[encoded data removed]",
      "text/plain": [
       "<Figure size 640x480 with 1 Axes>"
      ]
     },
     "metadata": {},
     "output_type": "display_data"
    },
    {
     "data": {
      "text/plain": [
       "<spb.backends.matplotlib.matplotlib.MatplotlibBackend at 0x210f552f5d0>"
      ]
     },
     "execution_count": 165,
     "metadata": {},
     "output_type": "execute_result"
    }
   ],
   "source": [
    "\n"
   ]
  },
  {
   "cell_type": "markdown",
   "id": "04933481",
   "metadata": {},
   "source": [
    "## Asíntotas\n",
    "##### Una asíntota es una recta a la que se aproxima la función sin llegar nunca a tocarla porque $x$ tiende a un cierto número $a$ (o a los infinitos)\n",
    "\n",
    "##### Según su inclinación, las asíntotas pueden ser \n",
    "\n",
    "##### - **Asíntotas verticales:** Se dan en un punto $k$ del eje $X$ cuando al menos uno de los límites laterales en este punto tiende a $\\pm\\infty$, es decir, cuando en la función tiene una discontinuidad asintótica en $k$. En este caso, la recta de ecuación $x = k$ es la asíntota vertical.\n",
    "\n",
    "##### - **Asíntotas horizontales** Se dan cuando existe el límite en alguno de los infinitos. Para $\\lim_{x\\to\\infty}f(x) = k$, la recta de ecuación $y = k$ es la asíntota horizontal (ídem con el límite con $-\\infty$). Una función puede tener hasta dos asíntotas horizontales si los dos límites a $\\pm \\infty$ existen y toman valores diferentes.\n",
    "\n",
    "##### - **Asíntotas oblicuas** Una asíntota oblicua es una recta de ecuación *y = ax + b* a cuya función se aproxima a medida que $x$ tiende a $\\pm\\infty$. Para encontrar la ecuación de la recta,tenemos que encontrar los coeficientes $a,b$ tales que\n",
    "$$\\lim_{x\\to\\pm\\infty}[f(x)-(ax+b)]=0$$\n",
    "Igual que las asíntotas horizontales, una función puede tener hasta dos asíntotas oblicuas: una para el límite en $+\\infty$ y otra para el límite en $-\\infty$.\n",
    "Las asíntotas oblicuas suelen darse a menudo en funciones cocientes de polinomios $f(x) = \\frac{p(x)}{q(x)}$ en los que el grado del numerador $p(x)$ supera en 1 el grado del denominador $q(x)$.En este caso particular, la ecuación de la asíntota viene dada por el\n",
    "cociente de la división de polinomios que define la función $f(x)$:\n",
    "$$\\frac{dividendo}{divisor}=\\textcolor{red}{cociente}+\\frac{resto}{divisor}$$\n",
    "Y, al calcular el límite cuando x tiende a infinito, el último término tiende a 0 y queda solo el cociente (que es de grado 1 por ser la diferencia entre los grados de los polinomios), que será la ecuación de la asíntota\n",
    "En el caso general, en el que $f(x)$ no sea necesariamente un cociente de polinomios, tiene que usarse la definición de asíntota oblicua directamente para encontrar la ecuación de la recta.\n",
    "Hay una asíntota oblicua si, y solo si, se cumple:\n",
    "$$\\lim_{x\\to\\pm\\infty}f(x)=\\infty$$\n",
    "$$\\lim_{x\\to\\pm\\infty}\\frac{fx}{x}=a$$\n",
    "$$\\lim_{x\\to\\pm\\infty}[f(x)-ax]=b$$\n",
    "donde $a,b$ son números reales y $y = ax + b$ es la ecuación de la asíntota"
   ]
  },
  {
   "cell_type": "markdown",
   "id": "19630fb0",
   "metadata": {},
   "source": []
  },
  {
   "cell_type": "code",
   "execution_count": 169,
   "id": "8581ae89",
   "metadata": {},
   "outputs": [
    {
     "data": {
      "text/latex": [
       "$\\displaystyle Asintota Horizontal$"
      ],
      "text/plain": [
       "<IPython.core.display.Math object>"
      ]
     },
     "metadata": {},
     "output_type": "display_data"
    },
    {
     "data": {
      "image/png": "[encoded data removed]",
      "text/plain": [
       "<Figure size 640x480 with 1 Axes>"
      ]
     },
     "metadata": {},
     "output_type": "display_data"
    },
    {
     "data": {
      "text/latex": [
       "$\\displaystyle Asintota Oblicua$"
      ],
      "text/plain": [
       "<IPython.core.display.Math object>"
      ]
     },
     "metadata": {},
     "output_type": "display_data"
    },
    {
     "data": {
      "image/png": "[encoded data removed]",
      "text/plain": [
       "<Figure size 640x480 with 1 Axes>"
      ]
     },
     "metadata": {},
     "output_type": "display_data"
    },
    {
     "data": {
      "text/plain": [
       "<spb.backends.matplotlib.matplotlib.MatplotlibBackend at 0x210f63b5bd0>"
      ]
     },
     "execution_count": 169,
     "metadata": {},
     "output_type": "execute_result"
    }
   ],
   "source": [
    "# Asintota vertical (No se dibujarla)\n",
    "\n",
    "# Asintota Horizontal\n",
    "display(Math('Asintota Horizontal'))\n",
    "fun_asin1= 3 + (x-5)/(x+1)\n",
    "asin1= -1\n",
    "asin2 = x-4\n",
    "plot(\n",
    "    (fun_asin1,(x,-4,4)),\n",
    "    (asin1,(x,-4,4)),\n",
    "    rendering_kw=[{}, {\"linestyle\": \"--\"}]\n",
    ")\n",
    "\n",
    "numerador = x**2-2*x+3\n",
    "denominador = x-1 \n",
    "funcion3 = numerador/denominador\n",
    "cociente = sp.div(numerador,denominador) # Devuelve (cociente, resto)\n",
    "\n",
    "display(Math('Asintota Oblicua'))\n",
    "graphics(\n",
    "    line(funcion3,(x,-10,10)),\n",
    "    line(cociente[0],(x,-10,10),rendering_kw={\"linestyle\": \"--\"}),\n",
    "    aspect=\"equal\", ylim=(-10, 10)\n",
    ")"
   ]
  },
  {
   "cell_type": "code",
   "execution_count": 126,
   "metadata": {},
   "outputs": [
    {
     "data": {
      "text/latex": [
       "$\\displaystyle \\text{Comprobamos que los límites laterales divergen}$"
      ],
      "text/plain": [
       "<IPython.core.display.Math object>"
      ]
     },
     "metadata": {},
     "output_type": "display_data"
    },
    {
     "data": {
      "text/latex": [
       "$\\displaystyle \\lim_{x \\to \\infty}\\left(\\frac{x^{2} - 2 x + 3}{x - 1}\\right)=\\infty$"
      ],
      "text/plain": [
       "<IPython.core.display.Math object>"
      ]
     },
     "metadata": {},
     "output_type": "display_data"
    },
    {
     "data": {
      "text/latex": [
       "$\\displaystyle \\lim_{x \\to -\\infty}\\left(\\frac{x^{2} - 2 x + 3}{x - 1}\\right)=-\\infty$"
      ],
      "text/plain": [
       "<IPython.core.display.Math object>"
      ]
     },
     "metadata": {},
     "output_type": "display_data"
    },
    {
     "data": {
      "text/latex": [
       "$\\displaystyle \\text{ya que el numerador es de grado superior al denominador. Para encontrar el coeficiente a, calculamos el cociente entre x}$"
      ],
      "text/plain": [
       "<IPython.core.display.Math object>"
      ]
     },
     "metadata": {},
     "output_type": "display_data"
    },
    {
     "data": {
      "text/latex": [
       "$\\displaystyle \\frac {\\frac{x^{2} - 2 x + 3}{x - 1}}{x}=\\frac{x^{2} - 2 x + 3}{x \\left(x - 1\\right)}=1$"
      ],
      "text/plain": [
       "<IPython.core.display.Math object>"
      ]
     },
     "metadata": {},
     "output_type": "display_data"
    }
   ],
   "source": [
    "# Calculo mediante las condiciones necesarias y suficientes\n",
    "display(Math('\\\\text{Comprobamos que los límites laterales divergen}'))\n",
    "display(Math(\n",
    "    sp.latex(sp.Limit(funcion3,x,sp.oo))\n",
    "    +'='\n",
    "    + sp.latex(sp.limit(funcion3,x,sp.oo))\n",
    "    ))\n",
    "display(Math(\n",
    "    sp.latex(sp.Limit(funcion3,x,-sp.oo))\n",
    "    +'='\n",
    "    + sp.latex(sp.limit(funcion3,x,-sp.oo))\n",
    "    ))\n",
    "\n",
    "display(Math('\\\\text{ya que el numerador es de grado superior al denominador. Para encontrar el coeficiente a, calculamos el cociente entre x}'))\n",
    "display(Math(\n",
    "    f'\\\\frac {{{sp.latex(funcion3)}}}{{{x}}}'\n",
    "    + '='\n",
    "    + sp.latex(funcion3/x)\n",
    "    + '='\n",
    "    + sp.latex(sp.limit(funcion3/x,x,sp.oo))\n",
    "))"
   ]
  },
  {
   "cell_type": "code",
   "execution_count": null,
   "id": "85d271fa",
   "metadata": {},
   "outputs": [],
   "source": []
  }
 ],
 "metadata": {
  "kernelspec": {
   "display_name": "Python 3 (ipykernel)",
   "language": "python",
   "name": "python3"
  },
  "language_info": {
   "codemirror_mode": {
    "name": "ipython",
    "version": 3
   },
   "file_extension": ".py",
   "mimetype": "text/x-python",
   "name": "python",
   "nbconvert_exporter": "python",
   "pygments_lexer": "ipython3",
   "version": "3.11.7"
  }
 },
 "nbformat": 4,
 "nbformat_minor": 5
}

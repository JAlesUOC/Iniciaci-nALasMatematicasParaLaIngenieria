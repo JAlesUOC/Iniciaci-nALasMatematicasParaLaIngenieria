{
 "cells": [
  {
   "cell_type": "code",
   "execution_count": 1,
   "id": "initial_id",
   "metadata": {
    "collapsed": true,
    "ExecuteTime": {
     "end_time": "2024-02-20T21:48:59.618664300Z",
     "start_time": "2024-02-20T21:48:58.948293800Z"
    }
   },
   "outputs": [],
   "source": [
    "import sympy as sp"
   ]
  },
  {
   "cell_type": "code",
   "outputs": [],
   "source": [
    "x=sp.symbols('x')"
   ],
   "metadata": {
    "collapsed": false,
    "ExecuteTime": {
     "end_time": "2024-02-20T21:48:59.632780100Z",
     "start_time": "2024-02-20T21:48:59.617664100Z"
    }
   },
   "id": "ab6a9e202da110ee",
   "execution_count": 2
  },
  {
   "cell_type": "markdown",
   "source": [
    "# Tema 10: Límites de funciones"
   ],
   "metadata": {
    "collapsed": false
   },
   "id": "1c10401a6c3fe71f"
  },
  {
   "cell_type": "markdown",
   "source": [
    "## Noción Intuitiva de Límites\n",
    "El límite de una en un valor $x$ es igual al número al que tiende la función cuando la variable tiende a ese valor (sin llegar nunca a serlo). Si el límite de una función $f(x)$ en un valor $a$ es igual a $b$ se escribe de este modo:\n",
    "$$\\lim_{x\\to a} f(x)=b$$ \n",
    "También se dice que *\"la función $f(x)$ tiene límite $b$ cuando $x$ tiende a $a$\"*. "
   ],
   "metadata": {
    "collapsed": false
   },
   "id": "abf72150557e6fe1"
  },
  {
   "cell_type": "code",
   "outputs": [
    {
     "data": {
      "text/plain": "3",
      "text/latex": "$\\displaystyle 3$"
     },
     "execution_count": 4,
     "metadata": {},
     "output_type": "execute_result"
    }
   ],
   "source": [
    "exp=2*x+1\n",
    "lim_1=sp.limit(exp,x,1)\n",
    "lim_1"
   ],
   "metadata": {
    "collapsed": false,
    "ExecuteTime": {
     "end_time": "2024-02-20T22:43:55.666283700Z",
     "start_time": "2024-02-20T22:43:55.640189500Z"
    }
   },
   "id": "1a51aebe37ff223b",
   "execution_count": 4
  },
  {
   "cell_type": "code",
   "outputs": [
    {
     "data": {
      "text/plain": "17",
      "text/latex": "$\\displaystyle 17$"
     },
     "execution_count": 7,
     "metadata": {},
     "output_type": "execute_result"
    }
   ],
   "source": [
    "exp2=3*x**2-2*x+1\n",
    "lim_2=sp.limit(exp2,x,-2)\n",
    "lim_2"
   ],
   "metadata": {
    "collapsed": false,
    "ExecuteTime": {
     "end_time": "2024-02-20T22:45:16.640110800Z",
     "start_time": "2024-02-20T22:45:16.621071Z"
    }
   },
   "id": "24d3b2efaf966a0c",
   "execution_count": 7
  },
  {
   "cell_type": "code",
   "outputs": [],
   "source": [],
   "metadata": {
    "collapsed": false
   },
   "id": "ef13b339b7e91a10"
  }
 ],
 "metadata": {
  "kernelspec": {
   "display_name": "Python 3",
   "language": "python",
   "name": "python3"
  },
  "language_info": {
   "codemirror_mode": {
    "name": "ipython",
    "version": 2
   },
   "file_extension": ".py",
   "mimetype": "text/x-python",
   "name": "python",
   "nbconvert_exporter": "python",
   "pygments_lexer": "ipython2",
   "version": "2.7.6"
  }
 },
 "nbformat": 4,
 "nbformat_minor": 5
}

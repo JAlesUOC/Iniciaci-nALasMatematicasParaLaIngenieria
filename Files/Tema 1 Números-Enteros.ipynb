{
 "cells": [
  {
   "cell_type": "markdown",
   "source": [
    "# Tema 1: Números"
   ],
   "metadata": {
    "collapsed": false
   },
   "id": "a4e0c0c4f3fd3e31"
  },
  {
   "cell_type": "markdown",
   "source": [
    "## 1.1 Números Enteros\n",
    "Los números enteros permiten representar las situaciones en las cuales los objetos contados se pueden dividir en dos grupos, uno de formado por los objetos que se cuentan a partir de un punto en adelante y el otro formado por los que se cuentan a partir de este mismo punto hacia atrás.\n",
    "- **Enteros Positivos:** Cuentan a partir de un punto en adelante. Se pueden asociar a los números naturales.\n",
    "- **Enteros Negativos:** Son los que permiten contar lo que se debe. Cuentan a partir de un punto atrás.Se escriben utilizando un número natural\n",
    "precedido de un signo −."
   ],
   "metadata": {
    "collapsed": false
   },
   "id": "94b7d2c858cae669"
  },
  {
   "cell_type": "code",
   "outputs": [
    {
     "data": {
      "text/plain": "'El 0 tambien es un entero, ni positivo ni negativo'"
     },
     "execution_count": 18,
     "metadata": {},
     "output_type": "execute_result"
    }
   ],
   "source": [
    "def tipodeentero(numero):\n",
    "    \"\"\"\n",
    "    Función que nos dirá si un número es un entero positivo, negativo o 0\n",
    "    :param numero: El número a analizar\n",
    "    :return: cadena que expresa el tipo de entero pasado por parámetro\n",
    "    \"\"\"\n",
    "    if numero > 0:\n",
    "        resultado = f'El numero {numero} es un entero positivo'\n",
    "    elif numero < 0:\n",
    "        resultado = f'El numero {numero} es un entero negativo'\n",
    "    else:\n",
    "        resultado = f'El 0 tambien es un entero, ni positivo ni negativo'\n",
    "    \n",
    "    return resultado\n",
    "\n",
    "tipodeentero(0)"
   ],
   "metadata": {
    "collapsed": false,
    "ExecuteTime": {
     "end_time": "2024-01-12T11:48:40.349737200Z",
     "start_time": "2024-01-12T11:48:40.326738700Z"
    }
   },
   "id": "441003c2fd8822a8",
   "execution_count": 18
  },
  {
   "cell_type": "markdown",
   "source": [
    "### Signos de desigualdad\n",
    "Dados dos números enteros diferentes cualesquiera, uno de ellos siempre es más grande que el otro.\n",
    "- El signo > se lee \"mayor que\", e indica que el número que está a la izquierda del signo es más grande que el que está a la derecha.\n",
    "- El signo < se lee \"menor que\" e indica que el que está a la izquierda del signo es más pequeño que el que está a la derecha"
   ],
   "metadata": {
    "collapsed": false
   },
   "id": "c37e75ec52a31281"
  },
  {
   "cell_type": "code",
   "outputs": [
    {
     "name": "stdout",
     "output_type": "stream",
     "text": [
      "Es verdad porque el número cuatro es mayor que tres\n",
      "Es verdad porque el número 3 es menor que cuatro\n"
     ]
    }
   ],
   "source": [
    "if 4 > 3:\n",
    "    print(\"Es verdad porque el número cuatro es mayor que tres\")\n",
    "if 3 < 4:\n",
    "    print(\"Es verdad porque el número 3 es menor que cuatro\")"
   ],
   "metadata": {
    "collapsed": false,
    "ExecuteTime": {
     "end_time": "2024-01-12T11:48:40.416248900Z",
     "start_time": "2024-01-12T11:48:40.355738200Z"
    }
   },
   "id": "f5d31f0c0a5bff1d",
   "execution_count": 19
  },
  {
   "cell_type": "markdown",
   "source": [
    "1. Cualquier número positivo siempre es más grande que cualquier número negativo\n",
    "2. El 0 es más grande que cualquier número negativo y menor que cualquier número positivo\n",
    "3. Entre dos enteros negativos, el más grande es aquel que, sin signo (el número sin signo lo denominamos valor absoluto), es el menor"
   ],
   "metadata": {
    "collapsed": false
   },
   "id": "738da0818079c632"
  },
  {
   "cell_type": "code",
   "outputs": [
    {
     "name": "stdout",
     "output_type": "stream",
     "text": [
      "1:Cualquier número positivo siempre es más grande que cualquier número negativo\n",
      "2:El 0 es más grande que cualquier número negativo y menor que cualquier número positivo\n",
      "3:Entre dos enteros negativos, el más grande es aquel que, sin signo (el número sin signo lo denominamos valor absoluto), es el menor\n"
     ]
    }
   ],
   "source": [
    "# 1\n",
    "if 5 > -5:\n",
    "    print('1:Cualquier número positivo siempre es más grande que cualquier número negativo')\n",
    "\n",
    "# 2 \n",
    "if (0 > -5) & (0 < 5):\n",
    "    print('2:El 0 es más grande que cualquier número negativo y menor que cualquier número positivo')\n",
    "    \n",
    "# 3\n",
    "if -3 > -5:\n",
    "    print('3:Entre dos enteros negativos, el más grande es aquel que, sin signo (el número sin signo lo denominamos valor absoluto), es el menor')"
   ],
   "metadata": {
    "collapsed": false,
    "ExecuteTime": {
     "end_time": "2024-01-12T11:48:40.453248700Z",
     "start_time": "2024-01-12T11:48:40.421248900Z"
    }
   },
   "id": "f014ee0a778e3907",
   "execution_count": 20
  },
  {
   "cell_type": "markdown",
   "source": [
    "### Valor Absoluto\n",
    "El valor absoluto de un número entero es igual al mismo número entero sin su signo"
   ],
   "metadata": {
    "collapsed": false
   },
   "id": "13ad4af700155293"
  },
  {
   "cell_type": "code",
   "outputs": [
    {
     "data": {
      "text/plain": "25"
     },
     "execution_count": 21,
     "metadata": {},
     "output_type": "execute_result"
    }
   ],
   "source": [
    "def valorabsoluto(numero):\n",
    "    if numero >= 0:\n",
    "        num_abs = numero\n",
    "    else:\n",
    "        num_abs = numero*-1 #Le cambiamos el signo\n",
    "    \n",
    "    return num_abs\n",
    "\n",
    "valorabsoluto(-25)\n",
    "        "
   ],
   "metadata": {
    "collapsed": false,
    "ExecuteTime": {
     "end_time": "2024-01-12T11:48:40.492759700Z",
     "start_time": "2024-01-12T11:48:40.458248500Z"
    }
   },
   "id": "b0e84ba1c40268e3",
   "execution_count": 21
  },
  {
   "cell_type": "markdown",
   "source": [
    "### Operaciones"
   ],
   "metadata": {
    "collapsed": false
   },
   "id": "30741a3c4417ae22"
  },
  {
   "cell_type": "markdown",
   "source": [
    "#### Suma \n",
    "- Para sumar dos números que tienen el mismo signo, se suman sus valores absolutos y al resultado se añade el signo común\n",
    "- Para sumar dos números con signo diferente, se tienen que restar sus valores absolutos, el más grande del más pequeño. Finalmente, se tiene que añadir el signo del número que tiene el valor absoluto más grande"
   ],
   "metadata": {
    "collapsed": false
   },
   "id": "64d8372dedaf79d9"
  },
  {
   "cell_type": "markdown",
   "source": [
    "#### Resta\n",
    "La diferencia de dos números enteros es igual a la suma del minuendo con el opuesto del sustraendo"
   ],
   "metadata": {
    "collapsed": false
   },
   "id": "f56547eb50d67037"
  },
  {
   "cell_type": "markdown",
   "source": [
    "#### Multiplicación\n",
    "Para hacer una multiplicación con dos números enteros, en primer lugar se obtiene el producto de sus valores absolutos y después se establece el signo\n",
    "del resultado\n",
    "- Si ambos números tienen el mismo signo, su producto es positivo\n",
    "- Si los dos números tienen signo diferente, su producto es negativo"
   ],
   "metadata": {
    "collapsed": false
   },
   "id": "d63d8c5a80b41834"
  },
  {
   "cell_type": "markdown",
   "source": [
    "##### División \n",
    "Las mismas reglas del producto son válidas para la división cambiando el signo de multiplicar por el de dividir\n",
    "*En caso de que la división sea exacta, se dice, igual que con los números naturales, que el dividendo es un múltiplo del divisor*"
   ],
   "metadata": {
    "collapsed": false
   },
   "id": "603ad6159d99126c"
  },
  {
   "cell_type": "markdown",
   "source": [
    "###### Las operaciones y el orden\n",
    "- **Suma y resta:** Si se suma o resta un mismo número en los dos lados de una desigualdad, la desigualdad se mantiene\n",
    "- **Multiplicación y división** \n",
    "    - Se mantiene el mismo orden si el número por el cual se multiplican o dividen es positivo\n",
    "    - Se invierte el orden si el número por el cual se multiplican o dividen es negativo"
   ],
   "metadata": {
    "collapsed": false
   },
   "id": "da720b9a320de814"
  },
  {
   "cell_type": "code",
   "outputs": [],
   "source": [],
   "metadata": {
    "collapsed": false,
    "ExecuteTime": {
     "end_time": "2024-01-12T11:48:40.492759700Z",
     "start_time": "2024-01-12T11:48:40.477252300Z"
    }
   },
   "id": "21b5d23d5a329277",
   "execution_count": 21
  }
 ],
 "metadata": {
  "kernelspec": {
   "display_name": "Python 3",
   "language": "python",
   "name": "python3"
  },
  "language_info": {
   "codemirror_mode": {
    "name": "ipython",
    "version": 2
   },
   "file_extension": ".py",
   "mimetype": "text/x-python",
   "name": "python",
   "nbconvert_exporter": "python",
   "pygments_lexer": "ipython2",
   "version": "2.7.6"
  }
 },
 "nbformat": 4,
 "nbformat_minor": 5
}
